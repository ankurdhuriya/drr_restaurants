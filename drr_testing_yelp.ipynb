{
 "cells": [
  {
   "cell_type": "code",
   "execution_count": 1,
   "id": "8db77442-bdc7-4d2c-a945-ce45215c4f95",
   "metadata": {},
   "outputs": [],
   "source": [
    "import pickle\n",
    "import random\n",
    "import numpy as np\n",
    "\n",
    "import torch\n",
    "import torch.nn as nn\n",
    "from model import Actor, Critic, DRRAveStateRepresentation, PMF"
   ]
  },
  {
   "cell_type": "code",
   "execution_count": 2,
   "id": "73d97b53-a652-4805-961c-235024fe096f",
   "metadata": {},
   "outputs": [],
   "source": [
    "state_rep_net = DRRAveStateRepresentation(n_items=5, item_features=100, user_features=100)\n",
    "actor_net = Actor(in_features=300, out_features=100)"
   ]
  },
  {
   "cell_type": "code",
   "execution_count": 3,
   "id": "e9972289-33be-4023-a5bb-c583b0201c37",
   "metadata": {},
   "outputs": [],
   "source": [
    "def init_weights(m):\n",
    "    if hasattr(m, 'weight'):\n",
    "        nn.init.orthogonal_(m.weight.data)\n",
    "    if hasattr(m, 'bias'):\n",
    "        nn.init.constant_(m.bias.data, 0)"
   ]
  },
  {
   "cell_type": "code",
   "execution_count": 4,
   "id": "780b811f-d9bc-4a58-a600-811555905f0e",
   "metadata": {},
   "outputs": [
    {
     "data": {
      "text/plain": [
       "DRRAveStateRepresentation()"
      ]
     },
     "execution_count": 4,
     "metadata": {},
     "output_type": "execute_result"
    }
   ],
   "source": [
    "state_rep_net.apply(init_weights)"
   ]
  },
  {
   "cell_type": "code",
   "execution_count": 5,
   "id": "64d1f691-3264-42bf-9561-5311d2c3afcb",
   "metadata": {},
   "outputs": [
    {
     "data": {
      "text/plain": [
       "Actor(\n",
       "  (linear1): Linear(in_features=300, out_features=300, bias=True)\n",
       "  (linear2): Linear(in_features=300, out_features=300, bias=True)\n",
       "  (linear3): Linear(in_features=300, out_features=100, bias=True)\n",
       ")"
      ]
     },
     "execution_count": 5,
     "metadata": {},
     "output_type": "execute_result"
    }
   ],
   "source": [
    "actor_net.apply(init_weights)"
   ]
  },
  {
   "cell_type": "code",
   "execution_count": 6,
   "id": "30c767c6-01c6-45b8-8dfd-32cac04a5cee",
   "metadata": {},
   "outputs": [
    {
     "data": {
      "text/plain": [
       "<All keys matched successfully>"
      ]
     },
     "execution_count": 6,
     "metadata": {},
     "output_type": "execute_result"
    }
   ],
   "source": [
    "state_rep_net.load_state_dict(torch.load('results/220620-122520/state_rep_net.weights'))"
   ]
  },
  {
   "cell_type": "code",
   "execution_count": 7,
   "id": "84d7c779-0610-44ac-a7b7-e2bbe35f4146",
   "metadata": {},
   "outputs": [
    {
     "data": {
      "text/plain": [
       "<All keys matched successfully>"
      ]
     },
     "execution_count": 7,
     "metadata": {},
     "output_type": "execute_result"
    }
   ],
   "source": [
    "actor_net.load_state_dict(torch.load('results/220620-122520/actor_net.weights'))"
   ]
  },
  {
   "cell_type": "code",
   "execution_count": 8,
   "id": "6679fa30-713f-4cb0-bda2-d9e72aeb52f5",
   "metadata": {},
   "outputs": [
    {
     "name": "stdout",
     "output_type": "stream",
     "text": [
      "Using CPU\n",
      "Seeds initialized\n"
     ]
    }
   ],
   "source": [
    "def seed_all(cuda, seed):\n",
    "    random.seed(seed)\n",
    "    np.random.seed(seed)\n",
    "    torch.manual_seed(seed)\n",
    "    if cuda:\n",
    "        torch.cuda.empty_cache()\n",
    "        torch.cuda.manual_seed(seed=seed)\n",
    "\n",
    "no_cuda = True\n",
    "cuda = True if not no_cuda and torch.cuda.is_available() else False\n",
    "print(\"Using CUDA\") if cuda else print(\"Using CPU\")\n",
    " \n",
    " \n",
    "# Init seeds\n",
    "seed_all(cuda, 0)\n",
    "print(\"Seeds initialized\")"
   ]
  },
  {
   "cell_type": "code",
   "execution_count": 9,
   "id": "cbfdf194-0505-46ea-b4d1-c2c4bf60ccc7",
   "metadata": {},
   "outputs": [
    {
     "name": "stdout",
     "output_type": "stream",
     "text": [
      "Data imported, shuffled, and split into Train/Test, ratio= 0.8\n",
      "Train data shape:  torch.Size([83880, 4])\n",
      "Test data shape:  torch.Size([20970, 4])\n"
     ]
    }
   ],
   "source": [
    "train_ratio = 0.8\n",
    "\n",
    "# Import Data\n",
    "users = pickle.load(open('dataset/user_id_to_num.pkl', 'rb'))\n",
    "items = pickle.load(open('dataset/rest_id_to_num.pkl', 'rb'))\n",
    "data = np.load('dataset/data.npy')\n",
    "\n",
    "np.random.shuffle(data)\n",
    "train_data = torch.from_numpy(data[:int(train_ratio * data.shape[0])])\n",
    "test_data = torch.from_numpy(data[int(train_ratio * data.shape[0]):])\n",
    "print(\"Data imported, shuffled, and split into Train/Test, ratio=\", train_ratio)\n",
    "print(\"Train data shape: \", train_data.shape)\n",
    "print(\"Test data shape: \", test_data.shape)"
   ]
  },
  {
   "cell_type": "code",
   "execution_count": 10,
   "id": "30b417b5-b880-4f24-9efb-997ee539afa2",
   "metadata": {},
   "outputs": [
    {
     "data": {
      "text/plain": [
       "device(type='cpu')"
      ]
     },
     "execution_count": 10,
     "metadata": {},
     "output_type": "execute_result"
    }
   ],
   "source": [
    "test_data.device"
   ]
  },
  {
   "cell_type": "code",
   "execution_count": 11,
   "id": "3b08237f-61b3-4eae-998e-3127d8d2ae4c",
   "metadata": {},
   "outputs": [],
   "source": [
    "from utils.history_buffer import HistoryBuffer"
   ]
  },
  {
   "cell_type": "code",
   "execution_count": 12,
   "id": "e6b1876c-e8fd-4452-a1a8-cd5ee9a2e3e2",
   "metadata": {},
   "outputs": [],
   "source": [
    "history_buffer = HistoryBuffer(5)"
   ]
  },
  {
   "cell_type": "code",
   "execution_count": 13,
   "id": "622c82ba-db04-432c-adbc-992962eb8e2c",
   "metadata": {},
   "outputs": [
    {
     "data": {
      "text/plain": [
       "<utils.history_buffer.HistoryBuffer at 0x7f9f51319ae0>"
      ]
     },
     "execution_count": 13,
     "metadata": {},
     "output_type": "execute_result"
    }
   ],
   "source": [
    "history_buffer"
   ]
  },
  {
   "cell_type": "code",
   "execution_count": 14,
   "id": "20bf3150-983f-4074-8add-0710b5bd475d",
   "metadata": {},
   "outputs": [],
   "source": [
    "user_idxs = np.array(list(users.values()))\n",
    "np.random.shuffle(user_idxs)"
   ]
  },
  {
   "cell_type": "code",
   "execution_count": 15,
   "id": "2af4c883-d157-4143-ab05-dad4ce186f10",
   "metadata": {},
   "outputs": [
    {
     "data": {
      "text/plain": [
       "1245"
      ]
     },
     "execution_count": 15,
     "metadata": {},
     "output_type": "execute_result"
    }
   ],
   "source": [
    "len(user_idxs)"
   ]
  },
  {
   "cell_type": "code",
   "execution_count": 16,
   "id": "85654d37-9b8f-4306-8d87-cff7982c6a6c",
   "metadata": {},
   "outputs": [
    {
     "name": "stdout",
     "output_type": "stream",
     "text": [
      "Initialized PMF, imported weights, created reward_function\n",
      "Extracted user and item embeddings from PMF\n",
      "User embeddings shape:  torch.Size([1245, 100])\n",
      "Item embeddings shape:  torch.Size([40829, 100])\n"
     ]
    }
   ],
   "source": [
    "n_users = len(users)\n",
    "n_items = len(items)\n",
    "reward_function = PMF(n_users, n_items, 100, is_sparse=False, no_cuda=~cuda)\n",
    "reward_function.load_state_dict(torch.load('trained/yelp_ratio_0.800000_bs_1024_e_93_wd_0.100000_lr_0.000100_trained_pmf.pt'))\n",
    " \n",
    "# Freeze all the parameters in the network\n",
    "for param in reward_function.parameters():\n",
    "    param.requires_grad = False\n",
    "print(\"Initialized PMF, imported weights, created reward_function\")\n",
    " \n",
    "# Extract embeddings\n",
    "user_embeddings = reward_function.user_embeddings.weight.data\n",
    "item_embeddings = reward_function.item_embeddings.weight.data\n",
    "print(\"Extracted user and item embeddings from PMF\")\n",
    "print(\"User embeddings shape: \", user_embeddings.shape)\n",
    "print(\"Item embeddings shape: \", item_embeddings.shape)"
   ]
  },
  {
   "cell_type": "code",
   "execution_count": 17,
   "id": "6a48edaf-14df-450a-9332-0c69311c48b3",
   "metadata": {},
   "outputs": [],
   "source": [
    "device = torch.device('cpu')"
   ]
  },
  {
   "cell_type": "code",
   "execution_count": 18,
   "id": "625cf426-85ab-444c-9f49-c1f22af0dc1e",
   "metadata": {},
   "outputs": [],
   "source": [
    "candidate_item_idxs = np.arange(item_embeddings.shape[0])\n",
    "candidate_item_idxs = torch.from_numpy(candidate_item_idxs).to(device).long()"
   ]
  },
  {
   "cell_type": "code",
   "execution_count": 19,
   "id": "5ad6fb50-c21e-4dc7-a26b-a218fd41a84d",
   "metadata": {},
   "outputs": [
    {
     "data": {
      "text/plain": [
       "tensor([    0,     1,     2,  ..., 40826, 40827, 40828])"
      ]
     },
     "execution_count": 19,
     "metadata": {},
     "output_type": "execute_result"
    }
   ],
   "source": [
    "candidate_item_idxs"
   ]
  },
  {
   "cell_type": "code",
   "execution_count": 20,
   "id": "4ea0c12d-bd5d-4b61-8598-98dc42539e09",
   "metadata": {},
   "outputs": [
    {
     "name": "stdout",
     "output_type": "stream",
     "text": [
      "torch.Size([152, 4])\n",
      "torch.Size([62, 4])\n"
     ]
    }
   ],
   "source": [
    "e = 1058\n",
    "user_reviews = test_data[test_data[:, 0] == e]\n",
    "print(user_reviews.shape)\n",
    "pos_user_reviews = user_reviews[user_reviews[:, 2] > 3]\n",
    "print(pos_user_reviews.shape)"
   ]
  },
  {
   "cell_type": "code",
   "execution_count": 21,
   "id": "772559c5-fee1-4570-a5e4-574262a5b29c",
   "metadata": {},
   "outputs": [],
   "source": [
    "user_reviews = user_reviews[user_reviews[:, 3].sort()[1]]\n",
    "pos_user_reviews = pos_user_reviews[pos_user_reviews[:, 3].sort()[1]]"
   ]
  },
  {
   "cell_type": "code",
   "execution_count": 22,
   "id": "14d2350a-fe79-4b4a-9c8d-99b688737199",
   "metadata": {},
   "outputs": [],
   "source": [
    "candidate_items = item_embeddings.detach().clone().to(device)\n",
    "user_candidate_items = item_embeddings[user_reviews[:, 1]].detach().clone().to(device)"
   ]
  },
  {
   "cell_type": "code",
   "execution_count": 23,
   "id": "fef419d2-56cb-4de3-84db-cd915007e194",
   "metadata": {},
   "outputs": [
    {
     "data": {
      "text/plain": [
       "torch.Size([152, 100])"
      ]
     },
     "execution_count": 23,
     "metadata": {},
     "output_type": "execute_result"
    }
   ],
   "source": [
    "user_candidate_items.shape"
   ]
  },
  {
   "cell_type": "code",
   "execution_count": 24,
   "id": "9728b207-3960-49ec-8a43-19613f08cf03",
   "metadata": {},
   "outputs": [],
   "source": [
    "for i in range(5):\n",
    "    emb = candidate_items[pos_user_reviews[i, 1]]\n",
    "    history_buffer.push(emb.detach().clone())"
   ]
  },
  {
   "cell_type": "code",
   "execution_count": 25,
   "id": "99fb8af0-6c97-4ba0-b670-3127970edfb7",
   "metadata": {},
   "outputs": [],
   "source": [
    "user_embed = user_embeddings[e]"
   ]
  },
  {
   "cell_type": "code",
   "execution_count": 26,
   "id": "a771e4bf-8c6a-4484-a8c1-c89867a65306",
   "metadata": {},
   "outputs": [],
   "source": [
    "state = state_rep_net(user_embed, torch.stack(history_buffer.to_list()))"
   ]
  },
  {
   "cell_type": "code",
   "execution_count": 27,
   "id": "aae7d5cc-21b0-462e-ba99-044e3207d5e6",
   "metadata": {},
   "outputs": [
    {
     "data": {
      "text/plain": [
       "torch.Size([300])"
      ]
     },
     "execution_count": 27,
     "metadata": {},
     "output_type": "execute_result"
    }
   ],
   "source": [
    "state.shape"
   ]
  },
  {
   "cell_type": "code",
   "execution_count": 28,
   "id": "d7d7f7bb-41fd-4128-bbe3-397ecc54822f",
   "metadata": {},
   "outputs": [
    {
     "name": "stderr",
     "output_type": "stream",
     "text": [
      "/Users/ankurdhuriya/miniconda3/envs/drr_pytorch/lib/python3.10/site-packages/torch/nn/functional.py:1933: UserWarning: nn.functional.tanh is deprecated. Use torch.tanh instead.\n",
      "  warnings.warn(\"nn.functional.tanh is deprecated. Use torch.tanh instead.\")\n"
     ]
    }
   ],
   "source": [
    "action = actor_net(state.detach())"
   ]
  },
  {
   "cell_type": "code",
   "execution_count": 29,
   "id": "ee796b20-0082-4940-934b-074dde1fc0e0",
   "metadata": {},
   "outputs": [
    {
     "data": {
      "text/plain": [
       "torch.Size([100])"
      ]
     },
     "execution_count": 29,
     "metadata": {},
     "output_type": "execute_result"
    }
   ],
   "source": [
    "action.shape"
   ]
  },
  {
   "cell_type": "code",
   "execution_count": 30,
   "id": "d381914d-b260-49c6-bef0-2d0419e6d59e",
   "metadata": {},
   "outputs": [
    {
     "data": {
      "text/plain": [
       "torch.Size([40829, 100])"
      ]
     },
     "execution_count": 30,
     "metadata": {},
     "output_type": "execute_result"
    }
   ],
   "source": [
    "candidate_items.shape"
   ]
  },
  {
   "cell_type": "code",
   "execution_count": 31,
   "id": "fec27840-ff39-48f2-986b-3372ee27f3ec",
   "metadata": {},
   "outputs": [],
   "source": [
    "ranking_scores = candidate_items @ action"
   ]
  },
  {
   "cell_type": "code",
   "execution_count": 32,
   "id": "9c725949-ee68-48dc-a5c2-395b1c0192da",
   "metadata": {},
   "outputs": [],
   "source": [
    "rec_item_idx = torch.argmax(ranking_scores)\n",
    "rec_item_emb = candidate_items[rec_item_idx]"
   ]
  },
  {
   "cell_type": "code",
   "execution_count": 33,
   "id": "21559d89-964a-4caa-80fb-3b12a682649e",
   "metadata": {},
   "outputs": [
    {
     "data": {
      "text/plain": [
       "tensor(1928)"
      ]
     },
     "execution_count": 33,
     "metadata": {},
     "output_type": "execute_result"
    }
   ],
   "source": [
    "rec_item_idx"
   ]
  },
  {
   "cell_type": "code",
   "execution_count": 34,
   "id": "34d4c818-bc43-4c66-a696-47bee676e986",
   "metadata": {},
   "outputs": [
    {
     "data": {
      "text/plain": [
       "tensor(6.2708)"
      ]
     },
     "execution_count": 34,
     "metadata": {},
     "output_type": "execute_result"
    }
   ],
   "source": [
    "reward_function(torch.tensor(e).to(device), rec_item_idx)"
   ]
  },
  {
   "cell_type": "code",
   "execution_count": 35,
   "id": "3e291d9b-2756-43c4-8bd9-0550701118cb",
   "metadata": {},
   "outputs": [],
   "source": [
    "values, indices = torch.topk(ranking_scores, 10)"
   ]
  },
  {
   "cell_type": "code",
   "execution_count": 36,
   "id": "da513b3c-0e00-4b6b-97e3-f0760a5a329b",
   "metadata": {},
   "outputs": [
    {
     "data": {
      "text/plain": [
       "(tensor([3.9093, 3.7243, 3.6243, 3.3859, 3.3565, 3.3095, 3.2925, 3.2847, 3.2625,\n",
       "         3.2567], grad_fn=<TopkBackward0>),\n",
       " tensor([ 1928, 27426, 34728, 22638, 30189, 14687, 23123, 39257, 33578, 15967]))"
      ]
     },
     "execution_count": 36,
     "metadata": {},
     "output_type": "execute_result"
    }
   ],
   "source": [
    "values, indices"
   ]
  },
  {
   "cell_type": "code",
   "execution_count": 37,
   "id": "7ec4db5b-874d-454d-8ae3-b191eae18c73",
   "metadata": {},
   "outputs": [
    {
     "name": "stdout",
     "output_type": "stream",
     "text": [
      "tensor(6.2708)\n",
      "tensor(6.3561)\n",
      "tensor(6.3335)\n",
      "tensor(6.0134)\n",
      "tensor(6.3228)\n",
      "tensor(6.1564)\n",
      "tensor(5.7862)\n",
      "tensor(6.0286)\n",
      "tensor(5.9696)\n",
      "tensor(6.2333)\n"
     ]
    }
   ],
   "source": [
    "for i in indices:\n",
    "    rec_item_emb = candidate_items[i]\n",
    "    reward = reward_function(torch.tensor(e).to(device), i)\n",
    "    print(reward)"
   ]
  },
  {
   "cell_type": "code",
   "execution_count": 40,
   "id": "95847364-e0d6-4206-b05a-4ac4bc37af13",
   "metadata": {},
   "outputs": [],
   "source": [
    "latest_item_embeds = torch.stack(history_buffer.to_list())"
   ]
  },
  {
   "cell_type": "code",
   "execution_count": 41,
   "id": "ae9021bc-f592-419d-815d-edb0b30c4460",
   "metadata": {},
   "outputs": [
    {
     "data": {
      "text/plain": [
       "torch.Size([100])"
      ]
     },
     "execution_count": 41,
     "metadata": {},
     "output_type": "execute_result"
    }
   ],
   "source": [
    "candidate_items[1928].shape"
   ]
  },
  {
   "cell_type": "code",
   "execution_count": 44,
   "id": "5026781b-f9cb-440b-adac-898a322f0d7e",
   "metadata": {},
   "outputs": [],
   "source": [
    "cos = nn.CosineSimilarity()"
   ]
  },
  {
   "cell_type": "code",
   "execution_count": null,
   "id": "172c46a6-81e4-4d6e-a00d-0f2f7f9c25f5",
   "metadata": {},
   "outputs": [],
   "source": []
  },
  {
   "cell_type": "code",
   "execution_count": null,
   "id": "e527cf6e-adf4-4d14-8b52-47c02989c945",
   "metadata": {},
   "outputs": [],
   "source": []
  },
  {
   "cell_type": "code",
   "execution_count": null,
   "id": "7b7a79f3-5d80-4189-9b9b-5783015c9287",
   "metadata": {},
   "outputs": [],
   "source": []
  },
  {
   "cell_type": "code",
   "execution_count": 119,
   "id": "6a9124ae-e3ee-42c2-8610-642839937c80",
   "metadata": {},
   "outputs": [],
   "source": [
    "inv_users = {v: k for k, v in users.items()}"
   ]
  },
  {
   "cell_type": "code",
   "execution_count": 123,
   "id": "46f7c658-25cf-4e8a-b2c9-2f8338edb90a",
   "metadata": {},
   "outputs": [],
   "source": [
    "inv_items = {v: k for k, v in items.items()}"
   ]
  },
  {
   "cell_type": "code",
   "execution_count": 126,
   "id": "017d5c70-87a9-4299-9bff-68bcd9504076",
   "metadata": {},
   "outputs": [],
   "source": [
    "import pandas as pd"
   ]
  },
  {
   "cell_type": "code",
   "execution_count": 127,
   "id": "41e698a3-4559-4988-b287-64bdda34ced5",
   "metadata": {},
   "outputs": [],
   "source": [
    "df = pd.read_csv('../data/yelp-restaurants/yelp_review.csv')"
   ]
  },
  {
   "cell_type": "code",
   "execution_count": 130,
   "id": "e65d1f25-f2d1-4684-930b-7c459faf8f33",
   "metadata": {},
   "outputs": [
    {
     "data": {
      "text/html": [
       "<div>\n",
       "<style scoped>\n",
       "    .dataframe tbody tr th:only-of-type {\n",
       "        vertical-align: middle;\n",
       "    }\n",
       "\n",
       "    .dataframe tbody tr th {\n",
       "        vertical-align: top;\n",
       "    }\n",
       "\n",
       "    .dataframe thead th {\n",
       "        text-align: right;\n",
       "    }\n",
       "</style>\n",
       "<table border=\"1\" class=\"dataframe\">\n",
       "  <thead>\n",
       "    <tr style=\"text-align: right;\">\n",
       "      <th></th>\n",
       "      <th>review_id</th>\n",
       "      <th>user_id</th>\n",
       "      <th>business_id</th>\n",
       "      <th>stars</th>\n",
       "      <th>date</th>\n",
       "      <th>text</th>\n",
       "      <th>useful</th>\n",
       "      <th>funny</th>\n",
       "      <th>cool</th>\n",
       "    </tr>\n",
       "  </thead>\n",
       "  <tbody>\n",
       "    <tr>\n",
       "      <th>5971</th>\n",
       "      <td>nUKp1aFIrLSCXuNzAuwiRQ</td>\n",
       "      <td>cvzKVWaGFysF1iZ1RUvsBg</td>\n",
       "      <td>1xO2LvScpcMfl2BNm1aISg</td>\n",
       "      <td>5</td>\n",
       "      <td>2009-09-01</td>\n",
       "      <td>As I said I had no idea what was going on for ...</td>\n",
       "      <td>0</td>\n",
       "      <td>0</td>\n",
       "      <td>0</td>\n",
       "    </tr>\n",
       "    <tr>\n",
       "      <th>9030</th>\n",
       "      <td>EsIKolmy5TAfWtsSmPplBQ</td>\n",
       "      <td>oH-pRxI7Q-qZbZaoVQHeTw</td>\n",
       "      <td>1xO2LvScpcMfl2BNm1aISg</td>\n",
       "      <td>5</td>\n",
       "      <td>2017-11-28</td>\n",
       "      <td>This is PARADISE!\\nI've been here for a prenat...</td>\n",
       "      <td>1</td>\n",
       "      <td>0</td>\n",
       "      <td>0</td>\n",
       "    </tr>\n",
       "    <tr>\n",
       "      <th>11581</th>\n",
       "      <td>wHPyNtxcTILqM3aC2axLNA</td>\n",
       "      <td>MW5yJ20UFL2zpmajGP37JA</td>\n",
       "      <td>1xO2LvScpcMfl2BNm1aISg</td>\n",
       "      <td>5</td>\n",
       "      <td>2012-10-07</td>\n",
       "      <td>A solid 4.5 stars (I always round up). \\n\\nIf ...</td>\n",
       "      <td>6</td>\n",
       "      <td>1</td>\n",
       "      <td>1</td>\n",
       "    </tr>\n",
       "    <tr>\n",
       "      <th>18824</th>\n",
       "      <td>f_p_n4xjhyryYKK94iwB8A</td>\n",
       "      <td>tilVfA96HboviIrz80wQsg</td>\n",
       "      <td>1xO2LvScpcMfl2BNm1aISg</td>\n",
       "      <td>5</td>\n",
       "      <td>2015-02-21</td>\n",
       "      <td>Loved it again! This was my second visit and c...</td>\n",
       "      <td>1</td>\n",
       "      <td>0</td>\n",
       "      <td>0</td>\n",
       "    </tr>\n",
       "    <tr>\n",
       "      <th>32224</th>\n",
       "      <td>Il7hniY1jxfpSEHcUupycg</td>\n",
       "      <td>JAJCM-LpEyw5zEsYvjrjqg</td>\n",
       "      <td>1xO2LvScpcMfl2BNm1aISg</td>\n",
       "      <td>3</td>\n",
       "      <td>2017-05-13</td>\n",
       "      <td>The spa services are still great, but my exper...</td>\n",
       "      <td>2</td>\n",
       "      <td>1</td>\n",
       "      <td>0</td>\n",
       "    </tr>\n",
       "    <tr>\n",
       "      <th>...</th>\n",
       "      <td>...</td>\n",
       "      <td>...</td>\n",
       "      <td>...</td>\n",
       "      <td>...</td>\n",
       "      <td>...</td>\n",
       "      <td>...</td>\n",
       "      <td>...</td>\n",
       "      <td>...</td>\n",
       "      <td>...</td>\n",
       "    </tr>\n",
       "    <tr>\n",
       "      <th>5211007</th>\n",
       "      <td>pQEUum91-8-gojnwfwK47A</td>\n",
       "      <td>RY4LTB9IBbGsMyp-0F9klw</td>\n",
       "      <td>1xO2LvScpcMfl2BNm1aISg</td>\n",
       "      <td>5</td>\n",
       "      <td>2014-12-08</td>\n",
       "      <td>Relax to the max!  This is probably the best s...</td>\n",
       "      <td>1</td>\n",
       "      <td>0</td>\n",
       "      <td>0</td>\n",
       "    </tr>\n",
       "    <tr>\n",
       "      <th>5213014</th>\n",
       "      <td>GkIgElOn6Zl4AJjcW-UjmQ</td>\n",
       "      <td>DbMYj86AsnDpm-gMVbr5jg</td>\n",
       "      <td>1xO2LvScpcMfl2BNm1aISg</td>\n",
       "      <td>2</td>\n",
       "      <td>2014-09-28</td>\n",
       "      <td>Not impressed. I found it odd that they had a ...</td>\n",
       "      <td>4</td>\n",
       "      <td>0</td>\n",
       "      <td>0</td>\n",
       "    </tr>\n",
       "    <tr>\n",
       "      <th>5231920</th>\n",
       "      <td>-lZYnobSSbZtMiXFzb7lkQ</td>\n",
       "      <td>-GBkfd3ETbKgwrv2D-lNrg</td>\n",
       "      <td>1xO2LvScpcMfl2BNm1aISg</td>\n",
       "      <td>5</td>\n",
       "      <td>2017-09-29</td>\n",
       "      <td>This was one of the few spas I could find that...</td>\n",
       "      <td>5</td>\n",
       "      <td>9</td>\n",
       "      <td>1</td>\n",
       "    </tr>\n",
       "    <tr>\n",
       "      <th>5253696</th>\n",
       "      <td>CVEw7jf3zO-936Bc-nqCNw</td>\n",
       "      <td>JCPMFtvErIR-SsqZGU71xA</td>\n",
       "      <td>1xO2LvScpcMfl2BNm1aISg</td>\n",
       "      <td>5</td>\n",
       "      <td>2010-04-09</td>\n",
       "      <td>Favorite spa in Vegas, been to most of them.  ...</td>\n",
       "      <td>3</td>\n",
       "      <td>0</td>\n",
       "      <td>1</td>\n",
       "    </tr>\n",
       "    <tr>\n",
       "      <th>5256178</th>\n",
       "      <td>nuVI53ynVqOmMIXr7SD66A</td>\n",
       "      <td>fJPeV_SsCRe2slpUDOj0GQ</td>\n",
       "      <td>1xO2LvScpcMfl2BNm1aISg</td>\n",
       "      <td>5</td>\n",
       "      <td>2012-11-26</td>\n",
       "      <td>Saw Tristen again for the coffeeberry yoga fac...</td>\n",
       "      <td>1</td>\n",
       "      <td>0</td>\n",
       "      <td>0</td>\n",
       "    </tr>\n",
       "  </tbody>\n",
       "</table>\n",
       "<p>565 rows × 9 columns</p>\n",
       "</div>"
      ],
      "text/plain": [
       "                      review_id                 user_id  \\\n",
       "5971     nUKp1aFIrLSCXuNzAuwiRQ  cvzKVWaGFysF1iZ1RUvsBg   \n",
       "9030     EsIKolmy5TAfWtsSmPplBQ  oH-pRxI7Q-qZbZaoVQHeTw   \n",
       "11581    wHPyNtxcTILqM3aC2axLNA  MW5yJ20UFL2zpmajGP37JA   \n",
       "18824    f_p_n4xjhyryYKK94iwB8A  tilVfA96HboviIrz80wQsg   \n",
       "32224    Il7hniY1jxfpSEHcUupycg  JAJCM-LpEyw5zEsYvjrjqg   \n",
       "...                         ...                     ...   \n",
       "5211007  pQEUum91-8-gojnwfwK47A  RY4LTB9IBbGsMyp-0F9klw   \n",
       "5213014  GkIgElOn6Zl4AJjcW-UjmQ  DbMYj86AsnDpm-gMVbr5jg   \n",
       "5231920  -lZYnobSSbZtMiXFzb7lkQ  -GBkfd3ETbKgwrv2D-lNrg   \n",
       "5253696  CVEw7jf3zO-936Bc-nqCNw  JCPMFtvErIR-SsqZGU71xA   \n",
       "5256178  nuVI53ynVqOmMIXr7SD66A  fJPeV_SsCRe2slpUDOj0GQ   \n",
       "\n",
       "                    business_id  stars        date  \\\n",
       "5971     1xO2LvScpcMfl2BNm1aISg      5  2009-09-01   \n",
       "9030     1xO2LvScpcMfl2BNm1aISg      5  2017-11-28   \n",
       "11581    1xO2LvScpcMfl2BNm1aISg      5  2012-10-07   \n",
       "18824    1xO2LvScpcMfl2BNm1aISg      5  2015-02-21   \n",
       "32224    1xO2LvScpcMfl2BNm1aISg      3  2017-05-13   \n",
       "...                         ...    ...         ...   \n",
       "5211007  1xO2LvScpcMfl2BNm1aISg      5  2014-12-08   \n",
       "5213014  1xO2LvScpcMfl2BNm1aISg      2  2014-09-28   \n",
       "5231920  1xO2LvScpcMfl2BNm1aISg      5  2017-09-29   \n",
       "5253696  1xO2LvScpcMfl2BNm1aISg      5  2010-04-09   \n",
       "5256178  1xO2LvScpcMfl2BNm1aISg      5  2012-11-26   \n",
       "\n",
       "                                                      text  useful  funny  \\\n",
       "5971     As I said I had no idea what was going on for ...       0      0   \n",
       "9030     This is PARADISE!\\nI've been here for a prenat...       1      0   \n",
       "11581    A solid 4.5 stars (I always round up). \\n\\nIf ...       6      1   \n",
       "18824    Loved it again! This was my second visit and c...       1      0   \n",
       "32224    The spa services are still great, but my exper...       2      1   \n",
       "...                                                    ...     ...    ...   \n",
       "5211007  Relax to the max!  This is probably the best s...       1      0   \n",
       "5213014  Not impressed. I found it odd that they had a ...       4      0   \n",
       "5231920  This was one of the few spas I could find that...       5      9   \n",
       "5253696  Favorite spa in Vegas, been to most of them.  ...       3      0   \n",
       "5256178  Saw Tristen again for the coffeeberry yoga fac...       1      0   \n",
       "\n",
       "         cool  \n",
       "5971        0  \n",
       "9030        0  \n",
       "11581       1  \n",
       "18824       0  \n",
       "32224       0  \n",
       "...       ...  \n",
       "5211007     0  \n",
       "5213014     0  \n",
       "5231920     1  \n",
       "5253696     1  \n",
       "5256178     0  \n",
       "\n",
       "[565 rows x 9 columns]"
      ]
     },
     "execution_count": 130,
     "metadata": {},
     "output_type": "execute_result"
    }
   ],
   "source": [
    "df[df.business_id==inv_items[1928]]"
   ]
  },
  {
   "cell_type": "code",
   "execution_count": 132,
   "id": "c7727839-0c1c-4dec-898b-cf5cf1dcf476",
   "metadata": {},
   "outputs": [
    {
     "data": {
      "text/html": [
       "<div>\n",
       "<style scoped>\n",
       "    .dataframe tbody tr th:only-of-type {\n",
       "        vertical-align: middle;\n",
       "    }\n",
       "\n",
       "    .dataframe tbody tr th {\n",
       "        vertical-align: top;\n",
       "    }\n",
       "\n",
       "    .dataframe thead th {\n",
       "        text-align: right;\n",
       "    }\n",
       "</style>\n",
       "<table border=\"1\" class=\"dataframe\">\n",
       "  <thead>\n",
       "    <tr style=\"text-align: right;\">\n",
       "      <th></th>\n",
       "      <th>review_id</th>\n",
       "      <th>user_id</th>\n",
       "      <th>business_id</th>\n",
       "      <th>stars</th>\n",
       "      <th>date</th>\n",
       "      <th>text</th>\n",
       "      <th>useful</th>\n",
       "      <th>funny</th>\n",
       "      <th>cool</th>\n",
       "    </tr>\n",
       "  </thead>\n",
       "  <tbody>\n",
       "    <tr>\n",
       "      <th>2955910</th>\n",
       "      <td>Y6TbOcAahwUd2ovIVAwY9g</td>\n",
       "      <td>pMefTWo6gMdx8WhYSA2u3w</td>\n",
       "      <td>BQsHIeY0x__B5IHyyQZ1ng</td>\n",
       "      <td>3</td>\n",
       "      <td>2017-11-20</td>\n",
       "      <td>A friend of mine pointed out this restaurant t...</td>\n",
       "      <td>2</td>\n",
       "      <td>0</td>\n",
       "      <td>0</td>\n",
       "    </tr>\n",
       "    <tr>\n",
       "      <th>2955911</th>\n",
       "      <td>cPySMRBCs0_jhZUT8DEOpA</td>\n",
       "      <td>pMefTWo6gMdx8WhYSA2u3w</td>\n",
       "      <td>BjH8Xepc10i6OhCDQdX6og</td>\n",
       "      <td>5</td>\n",
       "      <td>2015-03-22</td>\n",
       "      <td>This is one of the restaurants located in the ...</td>\n",
       "      <td>5</td>\n",
       "      <td>1</td>\n",
       "      <td>3</td>\n",
       "    </tr>\n",
       "    <tr>\n",
       "      <th>2955912</th>\n",
       "      <td>ObX7eD5iPTJq2tbxjXzh1Q</td>\n",
       "      <td>pMefTWo6gMdx8WhYSA2u3w</td>\n",
       "      <td>e3a_sCmg2E0MKwLDLJ3q5Q</td>\n",
       "      <td>3</td>\n",
       "      <td>2013-08-21</td>\n",
       "      <td>Hard to rank variety stores..it has gum, it ha...</td>\n",
       "      <td>0</td>\n",
       "      <td>1</td>\n",
       "      <td>0</td>\n",
       "    </tr>\n",
       "    <tr>\n",
       "      <th>2955913</th>\n",
       "      <td>vJQNO97GcUv89f1oC0-j5g</td>\n",
       "      <td>pMefTWo6gMdx8WhYSA2u3w</td>\n",
       "      <td>MmWYE3hKBn0LW24V2TT9Iw</td>\n",
       "      <td>4</td>\n",
       "      <td>2013-10-14</td>\n",
       "      <td>This used to be Timothy's way back when. Last ...</td>\n",
       "      <td>0</td>\n",
       "      <td>0</td>\n",
       "      <td>0</td>\n",
       "    </tr>\n",
       "    <tr>\n",
       "      <th>2955914</th>\n",
       "      <td>bXu6dNtZiCOf7gw7qpJPBg</td>\n",
       "      <td>pMefTWo6gMdx8WhYSA2u3w</td>\n",
       "      <td>bsGVvCtj8i2xGl15XX8Dxw</td>\n",
       "      <td>3</td>\n",
       "      <td>2013-12-08</td>\n",
       "      <td>Ordered burrito bowl. Meat was fresh and every...</td>\n",
       "      <td>0</td>\n",
       "      <td>0</td>\n",
       "      <td>0</td>\n",
       "    </tr>\n",
       "    <tr>\n",
       "      <th>...</th>\n",
       "      <td>...</td>\n",
       "      <td>...</td>\n",
       "      <td>...</td>\n",
       "      <td>...</td>\n",
       "      <td>...</td>\n",
       "      <td>...</td>\n",
       "      <td>...</td>\n",
       "      <td>...</td>\n",
       "      <td>...</td>\n",
       "    </tr>\n",
       "    <tr>\n",
       "      <th>3679779</th>\n",
       "      <td>zkmAyAv0SNHKBHu3YgSArw</td>\n",
       "      <td>pMefTWo6gMdx8WhYSA2u3w</td>\n",
       "      <td>Yo_cFLv1Kf92LP1JSwjDmw</td>\n",
       "      <td>4</td>\n",
       "      <td>2014-03-14</td>\n",
       "      <td>Brand new Hakka restaurant that opened up just...</td>\n",
       "      <td>2</td>\n",
       "      <td>0</td>\n",
       "      <td>0</td>\n",
       "    </tr>\n",
       "    <tr>\n",
       "      <th>3679780</th>\n",
       "      <td>G7SVVUe1um1AntQUARjUgQ</td>\n",
       "      <td>pMefTWo6gMdx8WhYSA2u3w</td>\n",
       "      <td>7YYrZ9LgjpKLTtF-huhJug</td>\n",
       "      <td>4</td>\n",
       "      <td>2013-09-18</td>\n",
       "      <td>Okay, I've seen some reviews where people comp...</td>\n",
       "      <td>2</td>\n",
       "      <td>0</td>\n",
       "      <td>3</td>\n",
       "    </tr>\n",
       "    <tr>\n",
       "      <th>3679781</th>\n",
       "      <td>sRIY-HeNltHFn7ZJJD0eVw</td>\n",
       "      <td>pMefTWo6gMdx8WhYSA2u3w</td>\n",
       "      <td>E0h1kK-8P_DtBHk5ClVI_g</td>\n",
       "      <td>2</td>\n",
       "      <td>2012-09-05</td>\n",
       "      <td>I want to give this place higher and may in a ...</td>\n",
       "      <td>1</td>\n",
       "      <td>0</td>\n",
       "      <td>1</td>\n",
       "    </tr>\n",
       "    <tr>\n",
       "      <th>3679782</th>\n",
       "      <td>gF6iwrTqT0vQ4ND_Gcp35g</td>\n",
       "      <td>pMefTWo6gMdx8WhYSA2u3w</td>\n",
       "      <td>fY5P4pZEuSM-7qdMAjj4XQ</td>\n",
       "      <td>3</td>\n",
       "      <td>2015-10-17</td>\n",
       "      <td>I was down in Port Credit last night.  I order...</td>\n",
       "      <td>4</td>\n",
       "      <td>0</td>\n",
       "      <td>1</td>\n",
       "    </tr>\n",
       "    <tr>\n",
       "      <th>3679783</th>\n",
       "      <td>9egOWDpWcXUv6dWpvU8EGQ</td>\n",
       "      <td>pMefTWo6gMdx8WhYSA2u3w</td>\n",
       "      <td>NeKMiGC0OmFHsRB-1KOGuQ</td>\n",
       "      <td>3</td>\n",
       "      <td>2016-09-01</td>\n",
       "      <td>Well I didn't buy any super expensive equipmen...</td>\n",
       "      <td>2</td>\n",
       "      <td>1</td>\n",
       "      <td>1</td>\n",
       "    </tr>\n",
       "  </tbody>\n",
       "</table>\n",
       "<p>838 rows × 9 columns</p>\n",
       "</div>"
      ],
      "text/plain": [
       "                      review_id                 user_id  \\\n",
       "2955910  Y6TbOcAahwUd2ovIVAwY9g  pMefTWo6gMdx8WhYSA2u3w   \n",
       "2955911  cPySMRBCs0_jhZUT8DEOpA  pMefTWo6gMdx8WhYSA2u3w   \n",
       "2955912  ObX7eD5iPTJq2tbxjXzh1Q  pMefTWo6gMdx8WhYSA2u3w   \n",
       "2955913  vJQNO97GcUv89f1oC0-j5g  pMefTWo6gMdx8WhYSA2u3w   \n",
       "2955914  bXu6dNtZiCOf7gw7qpJPBg  pMefTWo6gMdx8WhYSA2u3w   \n",
       "...                         ...                     ...   \n",
       "3679779  zkmAyAv0SNHKBHu3YgSArw  pMefTWo6gMdx8WhYSA2u3w   \n",
       "3679780  G7SVVUe1um1AntQUARjUgQ  pMefTWo6gMdx8WhYSA2u3w   \n",
       "3679781  sRIY-HeNltHFn7ZJJD0eVw  pMefTWo6gMdx8WhYSA2u3w   \n",
       "3679782  gF6iwrTqT0vQ4ND_Gcp35g  pMefTWo6gMdx8WhYSA2u3w   \n",
       "3679783  9egOWDpWcXUv6dWpvU8EGQ  pMefTWo6gMdx8WhYSA2u3w   \n",
       "\n",
       "                    business_id  stars        date  \\\n",
       "2955910  BQsHIeY0x__B5IHyyQZ1ng      3  2017-11-20   \n",
       "2955911  BjH8Xepc10i6OhCDQdX6og      5  2015-03-22   \n",
       "2955912  e3a_sCmg2E0MKwLDLJ3q5Q      3  2013-08-21   \n",
       "2955913  MmWYE3hKBn0LW24V2TT9Iw      4  2013-10-14   \n",
       "2955914  bsGVvCtj8i2xGl15XX8Dxw      3  2013-12-08   \n",
       "...                         ...    ...         ...   \n",
       "3679779  Yo_cFLv1Kf92LP1JSwjDmw      4  2014-03-14   \n",
       "3679780  7YYrZ9LgjpKLTtF-huhJug      4  2013-09-18   \n",
       "3679781  E0h1kK-8P_DtBHk5ClVI_g      2  2012-09-05   \n",
       "3679782  fY5P4pZEuSM-7qdMAjj4XQ      3  2015-10-17   \n",
       "3679783  NeKMiGC0OmFHsRB-1KOGuQ      3  2016-09-01   \n",
       "\n",
       "                                                      text  useful  funny  \\\n",
       "2955910  A friend of mine pointed out this restaurant t...       2      0   \n",
       "2955911  This is one of the restaurants located in the ...       5      1   \n",
       "2955912  Hard to rank variety stores..it has gum, it ha...       0      1   \n",
       "2955913  This used to be Timothy's way back when. Last ...       0      0   \n",
       "2955914  Ordered burrito bowl. Meat was fresh and every...       0      0   \n",
       "...                                                    ...     ...    ...   \n",
       "3679779  Brand new Hakka restaurant that opened up just...       2      0   \n",
       "3679780  Okay, I've seen some reviews where people comp...       2      0   \n",
       "3679781  I want to give this place higher and may in a ...       1      0   \n",
       "3679782  I was down in Port Credit last night.  I order...       4      0   \n",
       "3679783  Well I didn't buy any super expensive equipmen...       2      1   \n",
       "\n",
       "         cool  \n",
       "2955910     0  \n",
       "2955911     3  \n",
       "2955912     0  \n",
       "2955913     0  \n",
       "2955914     0  \n",
       "...       ...  \n",
       "3679779     0  \n",
       "3679780     3  \n",
       "3679781     1  \n",
       "3679782     1  \n",
       "3679783     1  \n",
       "\n",
       "[838 rows x 9 columns]"
      ]
     },
     "execution_count": 132,
     "metadata": {},
     "output_type": "execute_result"
    }
   ],
   "source": [
    "df[df.user_id==inv_users[1058]]"
   ]
  },
  {
   "cell_type": "code",
   "execution_count": null,
   "id": "e547d79b-e34b-4ac6-b3b5-5ef5e273b52d",
   "metadata": {},
   "outputs": [],
   "source": []
  }
 ],
 "metadata": {
  "kernelspec": {
   "display_name": "Python 3 (ipykernel)",
   "language": "python",
   "name": "python3"
  },
  "language_info": {
   "codemirror_mode": {
    "name": "ipython",
    "version": 3
   },
   "file_extension": ".py",
   "mimetype": "text/x-python",
   "name": "python",
   "nbconvert_exporter": "python",
   "pygments_lexer": "ipython3",
   "version": "3.10.4"
  }
 },
 "nbformat": 4,
 "nbformat_minor": 5
}
