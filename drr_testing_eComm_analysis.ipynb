{
 "cells": [
  {
   "cell_type": "code",
   "execution_count": 1,
   "id": "b8a33cb1-0785-4b65-b7e0-c83b0cb30068",
   "metadata": {},
   "outputs": [],
   "source": [
    "import pickle\n",
    "import random\n",
    "import numpy as np\n",
    "import pandas as pd\n",
    "\n",
    "import torch\n",
    "import torch.nn as nn\n",
    "from model import Actor, Critic, DRRAveStateRepresentation, PMF\n",
    "from utils.history_buffer import HistoryBuffer"
   ]
  },
  {
   "cell_type": "code",
   "execution_count": 2,
   "id": "4a7727d7-26ff-47e0-8adc-5fde4f9445a8",
   "metadata": {},
   "outputs": [],
   "source": [
    "def seed_all(cuda, seed):\n",
    "    random.seed(seed)\n",
    "    np.random.seed(seed)\n",
    "    torch.manual_seed(seed)\n",
    "    if cuda:\n",
    "        torch.cuda.empty_cache()\n",
    "        torch.cuda.manual_seed(seed=seed)\n",
    "    \n",
    "def discretize_reward_(x):\n",
    "    x = x.item()\n",
    "    if x<=1:\n",
    "        return torch.tensor(1.0, dtype=torch.float64)\n",
    "    elif x<=2:\n",
    "        return torch.tensor(2.0, dtype=torch.float64)\n",
    "    else:\n",
    "        return torch.tensor(3.0, dtype=torch.float64)\n",
    "    \n",
    "def calculate_ndcg(rel, irel):\n",
    "    dcg = 0\n",
    "    idcg = 0\n",
    "    for i, (r, ir) in enumerate(zip(rel, irel)):\n",
    "        dcg += (r)/np.log2(i+2)\n",
    "        idcg += (ir)/np.log2(i+2)\n",
    "    return dcg, idcg\n",
    "\n",
    "def calc_cos_similarity(a, b, eps=1e-6):\n",
    "    a = candidate_items[a]\n",
    "    b = candidate_items[b]\n",
    "    \n",
    "    a_n, b_n = a.norm(dim=1)[:, None], b.norm(dim=1)[:, None]\n",
    "    a_norm = a / torch.max(a_n, eps * torch.ones_like(a_n))\n",
    "    b_norm = b / torch.max(b_n, eps * torch.ones_like(b_n))\n",
    "    sim_mt = torch.mm(a_norm, b_norm.transpose(0, 1))\n",
    "    return sim_mt"
   ]
  },
  {
   "cell_type": "code",
   "execution_count": 3,
   "id": "a9d03cd5-a32f-4271-83a2-909959ee7bc4",
   "metadata": {},
   "outputs": [],
   "source": [
    "STATE_REP_WEIGHT = 'results/220623-075948/state_rep_net.weights'\n",
    "ACTION_NET_WEIGHT = 'results/220623-075948/actor_net.weights'\n",
    "TRAINED_PMF_WEIGHT = 'trained/eComm_ratio_0.800000_bs_256_e_25_wd_0.100000_lr_0.000100_trained_pmf.pt'\n",
    "NUM_USERS, NUM_ITEMS = 5309, 15184\n",
    "embedding_feature_size = 100\n",
    "history_buffer_size = 5\n",
    "cuda = False\n",
    "device = torch.device('cpu')"
   ]
  },
  {
   "cell_type": "code",
   "execution_count": 4,
   "id": "0b4ca57d-731d-4596-abee-6e68ca6513bc",
   "metadata": {},
   "outputs": [],
   "source": [
    "seed_all(cuda, 0)"
   ]
  },
  {
   "cell_type": "code",
   "execution_count": 5,
   "id": "b11005a7-9452-4490-98e6-4c4aef784960",
   "metadata": {},
   "outputs": [],
   "source": [
    "state_rep_net = DRRAveStateRepresentation(n_items=history_buffer_size, item_features=embedding_feature_size, user_features=embedding_feature_size)\n",
    "state_rep_net.load_state_dict(torch.load(STATE_REP_WEIGHT))\n",
    "\n",
    "actor_net = Actor(in_features=3 * embedding_feature_size, out_features=embedding_feature_size)\n",
    "actor_net.load_state_dict(torch.load(ACTION_NET_WEIGHT))\n",
    "\n",
    "reward_function = PMF(NUM_USERS, NUM_ITEMS, embedding_feature_size, is_sparse=False, no_cuda=True)\n",
    "\n",
    "reward_function.load_state_dict(torch.load(TRAINED_PMF_WEIGHT))\n",
    "for param in reward_function.parameters():\n",
    "    param.requires_grad = False\n",
    "    \n",
    "user_embeddings, item_embeddings = reward_function.user_embeddings.weight.data, reward_function.item_embeddings.weight.data"
   ]
  },
  {
   "cell_type": "code",
   "execution_count": 6,
   "id": "c170aca8-2e6d-4ddb-827b-d6cd0f397e67",
   "metadata": {},
   "outputs": [
    {
     "name": "stdout",
     "output_type": "stream",
     "text": [
      "5309 15184\n",
      "Data imported, shuffled, and split into Train/Test, ratio= 0.8\n",
      "Train data shape:  torch.Size([100427, 4])\n",
      "Test data shape:  torch.Size([25107, 4])\n"
     ]
    }
   ],
   "source": [
    "data_df = pd.read_csv('dataset/eComm-sample-data2.csv', usecols=['user_id', 'user_id_num', 'product_id', 'product_id_num', 'event_type', 'event_time', 'cat_1', 'cat_2'])\n",
    "event_type_to_num = {'view': 1, 'cart': 2, 'purchase': 3}\n",
    "data_df['behavior'] = data_df['event_type'].apply(lambda x : event_type_to_num[x])\n",
    "\n",
    "items = dict(zip(data_df['product_id'], data_df['product_id_num']))\n",
    "users = dict(zip(data_df['user_id'], data_df['user_id_num']))\n",
    "\n",
    "NUM_USERS, NUM_ITEMS = len(users), len(items)\n",
    "print(NUM_USERS, NUM_ITEMS)\n",
    "\n",
    "data = data_df.loc[:, ['user_id_num', 'product_id_num', 'behavior', 'event_time']].values\n",
    "\n",
    "np.random.shuffle(data)\n",
    "train_data = torch.from_numpy(data[:int(0.8 * data.shape[0])])\n",
    "test_data = torch.from_numpy(data[int(0.8 * data.shape[0]):])\n",
    "print(\"Data imported, shuffled, and split into Train/Test, ratio=\", 0.8)\n",
    "print(\"Train data shape: \", train_data.shape)\n",
    "print(\"Test data shape: \", test_data.shape)"
   ]
  },
  {
   "cell_type": "code",
   "execution_count": 7,
   "id": "65787e87-785b-45a0-b3bf-209474da6e11",
   "metadata": {},
   "outputs": [],
   "source": [
    "user_idxs = np.unique(test_data[:, 0].numpy())\n",
    "np.random.shuffle(user_idxs)"
   ]
  },
  {
   "cell_type": "code",
   "execution_count": 255,
   "id": "200d37da-c699-42d0-9155-37a0a8ec65ba",
   "metadata": {},
   "outputs": [
    {
     "name": "stderr",
     "output_type": "stream",
     "text": [
      "/Users/ankurdhuriya/miniconda3/envs/drr_pytorch/lib/python3.10/site-packages/torch/nn/functional.py:1933: UserWarning: nn.functional.tanh is deprecated. Use torch.tanh instead.\n",
      "  warnings.warn(\"nn.functional.tanh is deprecated. Use torch.tanh instead.\")\n"
     ]
    },
    {
     "name": "stdout",
     "output_type": "stream",
     "text": [
      "37 tensor([545, 626, 528, 334, 535]) [tensor(3.1862), tensor(3.1389), tensor(3.2359), tensor(3.2405), tensor(3.0577)]\n",
      "38 tensor([545, 626, 528, 334, 535]) [tensor(2.8958), tensor(2.8319), tensor(2.9466), tensor(2.9437), tensor(2.7609)]\n",
      "132 tensor([545, 626, 528, 334, 535]) [tensor(2.7012), tensor(2.6269), tensor(2.7647), tensor(2.7617), tensor(2.5690)]\n",
      "139 tensor([545, 626, 528, 334, 535]) [tensor(2.9286), tensor(2.8612), tensor(2.9875), tensor(2.9942), tensor(2.8043)]\n",
      "141 tensor([545, 626, 528, 334, 535]) [tensor(2.5496), tensor(2.4637), tensor(2.6108), tensor(2.6000), tensor(2.4204)]\n",
      "176 tensor([545, 626, 528, 334, 535]) [tensor(2.4726), tensor(2.3803), tensor(2.5323), tensor(2.5174), tensor(2.3438)]\n",
      "256 tensor([545, 626, 528, 334, 675]) [tensor(2.6528), tensor(2.6036), tensor(2.7079), tensor(2.7253), tensor(2.4620)]\n",
      "257 tensor([545, 626, 528, 334, 535]) [tensor(2.9151), tensor(2.8429), tensor(2.9702), tensor(2.9740), tensor(2.7772)]\n",
      "258 tensor([545, 626, 528, 334, 535]) [tensor(2.6635), tensor(2.5754), tensor(2.7392), tensor(2.7151), tensor(2.5384)]\n",
      "276 tensor([545, 626, 528, 334, 535]) [tensor(2.6133), tensor(2.5571), tensor(2.6531), tensor(2.6621), tensor(2.4702)]\n",
      "280 tensor([545, 626, 528, 334, 535]) [tensor(2.8687), tensor(2.7832), tensor(2.9290), tensor(2.9322), tensor(2.7379)]\n",
      "303 tensor([545, 626, 528, 334, 535]) [tensor(3.5183), tensor(3.4650), tensor(3.5563), tensor(3.5685), tensor(3.3691)]\n",
      "328 tensor([626, 797, 334, 545, 592]) [tensor(2.6280), tensor(2.7019), tensor(2.7683), tensor(2.7157), tensor(2.7278)]\n",
      "337 tensor([545, 626, 528, 334, 535]) [tensor(3.1179), tensor(3.0904), tensor(3.1643), tensor(3.1880), tensor(2.9930)]\n",
      "355 tensor([545, 626, 528, 334, 535]) [tensor(2.5288), tensor(2.4382), tensor(2.5996), tensor(2.5842), tensor(2.4032)]\n",
      "393 tensor([626, 545, 613, 592, 797]) [tensor(2.8717), tensor(2.9492), tensor(2.9371), tensor(2.9633), tensor(2.9354)]\n",
      "395 tensor([545, 626, 528, 334, 535]) [tensor(2.6645), tensor(2.5803), tensor(2.7342), tensor(2.7296), tensor(2.5410)]\n",
      "432 tensor([545, 626, 528, 334, 535]) [tensor(2.5089), tensor(2.4348), tensor(2.5764), tensor(2.5668), tensor(2.3857)]\n",
      "446 tensor([545, 626, 528, 334, 535]) [tensor(2.5568), tensor(2.4646), tensor(2.6222), tensor(2.6131), tensor(2.4288)]\n",
      "457 tensor([545, 626, 528, 334, 675]) [tensor(2.6716), tensor(2.6103), tensor(2.7097), tensor(2.7156), tensor(2.4808)]\n",
      "460 tensor([545, 626, 528, 334, 535]) [tensor(2.8947), tensor(2.8203), tensor(2.9433), tensor(2.9350), tensor(2.7490)]\n",
      "534 tensor([545, 626, 528, 334, 535]) [tensor(3.1859), tensor(3.1133), tensor(3.2225), tensor(3.2428), tensor(3.0492)]\n",
      "543 tensor([545, 626, 528, 334, 535]) [tensor(2.7530), tensor(2.6721), tensor(2.8119), tensor(2.8083), tensor(2.6248)]\n",
      "550 tensor([545, 626, 528, 334, 535]) [tensor(2.6763), tensor(2.6025), tensor(2.7303), tensor(2.7358), tensor(2.5410)]\n",
      "559 tensor([545, 626, 528, 334, 535]) [tensor(2.5135), tensor(2.4193), tensor(2.5796), tensor(2.5677), tensor(2.3828)]\n",
      "573 tensor([545, 626, 528, 334, 535]) [tensor(2.6916), tensor(2.6137), tensor(2.7587), tensor(2.7464), tensor(2.5681)]\n",
      "580 tensor([545, 626, 528, 334, 535]) [tensor(3.1512), tensor(3.1007), tensor(3.1886), tensor(3.2182), tensor(3.0069)]\n",
      "585 tensor([545, 626, 528, 334, 535]) [tensor(2.7584), tensor(2.6932), tensor(2.8190), tensor(2.8195), tensor(2.6346)]\n",
      "622 tensor([545, 626, 528, 334, 535]) [tensor(2.5082), tensor(2.4317), tensor(2.5651), tensor(2.5706), tensor(2.3739)]\n",
      "672 tensor([626, 545, 797, 842, 623]) [tensor(2.5704), tensor(2.6227), tensor(2.6202), tensor(2.4676), tensor(2.6551)]\n",
      "686 tensor([545, 626, 528, 334, 535]) [tensor(2.6699), tensor(2.6010), tensor(2.7200), tensor(2.7198), tensor(2.5327)]\n",
      "710 tensor([545, 626, 528, 334, 535]) [tensor(3.0072), tensor(2.9669), tensor(3.0340), tensor(3.0552), tensor(2.8572)]\n",
      "766 tensor([545, 626, 528, 334, 535]) [tensor(2.7505), tensor(2.6824), tensor(2.8114), tensor(2.8041), tensor(2.6252)]\n",
      "840 tensor([626, 797, 545, 842, 334]) [tensor(2.4760), tensor(2.5399), tensor(2.5375), tensor(2.3736), tensor(2.5864)]\n",
      "891 tensor([545, 626, 528, 334, 535]) [tensor(2.8992), tensor(2.8337), tensor(2.9519), tensor(2.9689), tensor(2.7659)]\n",
      "905 tensor([545, 626, 528, 334, 535]) [tensor(2.8860), tensor(2.8323), tensor(2.9206), tensor(2.9454), tensor(2.7413)]\n",
      "924 tensor([545, 626, 528, 334, 535]) [tensor(2.5643), tensor(2.4868), tensor(2.6210), tensor(2.6255), tensor(2.4388)]\n",
      "954 tensor([545, 626, 528, 334, 535]) [tensor(2.5877), tensor(2.5056), tensor(2.6523), tensor(2.6571), tensor(2.4616)]\n",
      "957 tensor([545, 626, 528, 334, 535]) [tensor(2.8400), tensor(2.7623), tensor(2.9045), tensor(2.8960), tensor(2.7182)]\n",
      "969 tensor([545, 626, 528, 334, 675]) [tensor(2.6237), tensor(2.5797), tensor(2.7283), tensor(2.7010), tensor(2.4604)]\n",
      "987 tensor([626, 797, 545, 334, 842]) [tensor(2.6607), tensor(2.7447), tensor(2.7458), tensor(2.8006), tensor(2.5864)]\n",
      "1026 tensor([626, 545, 623, 797, 842]) [tensor(2.4450), tensor(2.5383), tensor(2.5636), tensor(2.5426), tensor(2.3851)]\n",
      "1033 tensor([545, 626, 528, 334, 535]) [tensor(2.9388), tensor(2.8753), tensor(2.9978), tensor(3.0084), tensor(2.8094)]\n",
      "1071 tensor([545, 626, 528, 334, 675]) [tensor(2.5098), tensor(2.4167), tensor(2.5760), tensor(2.5632), tensor(2.3158)]\n",
      "1121 tensor([626, 797, 545, 842, 334]) [tensor(3.0994), tensor(3.1699), tensor(3.1792), tensor(3.0075), tensor(3.2275)]\n",
      "1169 tensor([545, 626, 528, 334, 535]) [tensor(2.5296), tensor(2.4529), tensor(2.5975), tensor(2.5878), tensor(2.3998)]\n",
      "1175 tensor([545, 626, 528, 334, 535]) [tensor(2.8363), tensor(2.7713), tensor(2.8772), tensor(2.8837), tensor(2.6925)]\n",
      "1214 tensor([545, 626, 528, 334, 535]) [tensor(2.5469), tensor(2.4511), tensor(2.6123), tensor(2.5991), tensor(2.4126)]\n",
      "1223 tensor([545, 626, 528, 334, 535]) [tensor(3.3406), tensor(3.2748), tensor(3.3769), tensor(3.3915), tensor(3.1916)]\n",
      "1225 tensor([545, 626, 528, 334, 535]) [tensor(3.3770), tensor(3.3236), tensor(3.3948), tensor(3.4355), tensor(3.2260)]\n",
      "1262 tensor([545, 626, 528, 334, 535]) [tensor(2.6843), tensor(2.6066), tensor(2.7392), tensor(2.7288), tensor(2.5499)]\n",
      "1295 tensor([545, 626, 528, 334, 675]) [tensor(2.6282), tensor(2.5740), tensor(2.6763), tensor(2.7000), tensor(2.4362)]\n",
      "1338 tensor([545, 626, 528, 334, 535]) [tensor(2.4480), tensor(2.3553), tensor(2.5212), tensor(2.5034), tensor(2.3340)]\n",
      "1446 tensor([545, 626, 528, 334, 535]) [tensor(2.6955), tensor(2.6154), tensor(2.7406), tensor(2.7421), tensor(2.5572)]\n",
      "1535 tensor([626, 797, 334, 545,  18]) [tensor(3.3554), tensor(3.4172), tensor(3.4629), tensor(3.4100), tensor(3.4121)]\n",
      "1552 tensor([545, 626, 528, 334, 535]) [tensor(2.9754), tensor(2.9293), tensor(3.0165), tensor(3.0258), tensor(2.8318)]\n",
      "1616 tensor([545, 626, 528, 334, 675]) [tensor(2.6803), tensor(2.6265), tensor(2.7191), tensor(2.7315), tensor(2.4753)]\n",
      "1649 tensor([545, 626, 528, 334, 535]) [tensor(2.7600), tensor(2.7111), tensor(2.8215), tensor(2.8231), tensor(2.6354)]\n",
      "1689 tensor([545, 626, 528, 334, 535]) [tensor(3.1479), tensor(3.0880), tensor(3.1903), tensor(3.2027), tensor(3.0017)]\n",
      "1759 tensor([545, 626, 528, 334, 535]) [tensor(3.1101), tensor(3.0262), tensor(3.1486), tensor(3.1479), tensor(2.9636)]\n",
      "1786 tensor([545, 626, 528, 334, 535]) [tensor(2.4703), tensor(2.3876), tensor(2.5632), tensor(2.5363), tensor(2.3586)]\n",
      "1811 tensor([545, 626, 528, 334, 535]) [tensor(2.5656), tensor(2.5121), tensor(2.6132), tensor(2.6423), tensor(2.4334)]\n",
      "1906 tensor([545, 626, 528, 334, 535]) [tensor(2.5715), tensor(2.5108), tensor(2.6241), tensor(2.6191), tensor(2.4311)]\n",
      "1940 tensor([626, 797, 545, 334, 592]) [tensor(3.1015), tensor(3.1558), tensor(3.1618), tensor(3.2126), tensor(3.1819)]\n",
      "1991 tensor([545, 626, 528, 334, 675]) [tensor(2.5691), tensor(2.5015), tensor(2.6422), tensor(2.6414), tensor(2.3848)]\n",
      "2010 tensor([545, 626, 528, 334, 675]) [tensor(2.7290), tensor(2.6637), tensor(2.7560), tensor(2.7924), tensor(2.5229)]\n",
      "2036 tensor([545, 626, 528, 334, 535]) [tensor(2.6985), tensor(2.6147), tensor(2.7658), tensor(2.7496), tensor(2.5663)]\n",
      "2071 tensor([545, 626, 528, 334, 535]) [tensor(2.8070), tensor(2.7481), tensor(2.8791), tensor(2.8700), tensor(2.6905)]\n",
      "2099 tensor([545, 626, 528, 334, 535]) [tensor(2.7598), tensor(2.6763), tensor(2.8313), tensor(2.8173), tensor(2.6338)]\n",
      "2141 tensor([545, 626, 528, 334, 535]) [tensor(2.5298), tensor(2.4528), tensor(2.5882), tensor(2.5796), tensor(2.3946)]\n",
      "2144 tensor([545, 626, 528, 334, 535]) [tensor(3.0282), tensor(2.9525), tensor(3.0664), tensor(3.0741), tensor(2.8836)]\n",
      "2204 tensor([545, 626, 528, 334, 535]) [tensor(2.6123), tensor(2.5411), tensor(2.6771), tensor(2.6727), tensor(2.4833)]\n",
      "2208 tensor([545, 626, 528, 334, 535]) [tensor(2.8280), tensor(2.7760), tensor(2.8511), tensor(2.8768), tensor(2.6787)]\n",
      "2230 tensor([545, 626, 528, 334, 535]) [tensor(2.4825), tensor(2.3984), tensor(2.5425), tensor(2.5413), tensor(2.3549)]\n",
      "2267 tensor([545, 626, 528, 334, 535]) [tensor(3.2217), tensor(3.1689), tensor(3.2661), tensor(3.2917), tensor(3.0861)]\n",
      "2315 tensor([626, 797, 545, 334, 675]) [tensor(2.4716), tensor(2.5316), tensor(2.5183), tensor(2.5804), tensor(2.3323)]\n",
      "2367 tensor([545, 626, 528, 334, 535]) [tensor(2.4909), tensor(2.4216), tensor(2.5686), tensor(2.5456), tensor(2.3673)]\n",
      "2371 tensor([545, 626, 528, 334, 535]) [tensor(2.7412), tensor(2.6707), tensor(2.8115), tensor(2.8046), tensor(2.6128)]\n",
      "2377 tensor([545, 626, 528, 334, 535]) [tensor(2.5752), tensor(2.4898), tensor(2.6434), tensor(2.6321), tensor(2.4539)]\n",
      "2419 tensor([545, 626, 528, 334, 535]) [tensor(3.0248), tensor(2.9435), tensor(3.0677), tensor(3.0681), tensor(2.8798)]\n",
      "2425 tensor([545, 626, 528, 334, 535]) [tensor(2.4451), tensor(2.3622), tensor(2.5283), tensor(2.5014), tensor(2.3258)]\n",
      "2459 tensor([545, 626, 528, 334, 535]) [tensor(2.5575), tensor(2.4856), tensor(2.6218), tensor(2.6084), tensor(2.4312)]\n",
      "2469 tensor([545, 626, 528, 334, 535]) [tensor(2.6090), tensor(2.5248), tensor(2.6653), tensor(2.6597), tensor(2.4657)]\n",
      "2475 tensor([545, 626, 528, 334, 535]) [tensor(2.9720), tensor(2.9197), tensor(3.0132), tensor(3.0253), tensor(2.8304)]\n",
      "2480 tensor([545, 626, 528, 334, 535]) [tensor(2.6349), tensor(2.5551), tensor(2.7137), tensor(2.6963), tensor(2.5138)]\n",
      "2488 tensor([545, 626, 528, 334, 535]) [tensor(2.4515), tensor(2.3635), tensor(2.5243), tensor(2.5073), tensor(2.3289)]\n",
      "2519 tensor([545, 626, 528, 334, 675]) [tensor(2.5468), tensor(2.4630), tensor(2.6084), tensor(2.6063), tensor(2.3527)]\n",
      "2598 tensor([545, 626, 528, 334, 535]) [tensor(2.5776), tensor(2.4895), tensor(2.6421), tensor(2.6335), tensor(2.4524)]\n",
      "2636 tensor([545, 626, 528, 334, 535]) [tensor(2.5261), tensor(2.4472), tensor(2.5900), tensor(2.5692), tensor(2.4008)]\n",
      "2649 tensor([545, 626, 528, 334, 535]) [tensor(2.5899), tensor(2.4936), tensor(2.6921), tensor(2.6464), tensor(2.4762)]\n",
      "2727 tensor([545, 626, 528, 334, 535]) [tensor(2.5942), tensor(2.5280), tensor(2.6540), tensor(2.6613), tensor(2.4625)]\n",
      "2728 tensor([545, 626, 528, 334, 535]) [tensor(2.7263), tensor(2.6536), tensor(2.7738), tensor(2.7740), tensor(2.5832)]\n",
      "2749 tensor([545, 626, 528, 334, 535]) [tensor(3.0631), tensor(2.9853), tensor(3.1165), tensor(3.1191), tensor(2.9232)]\n",
      "2923 tensor([545, 626, 528, 334, 535]) [tensor(2.4963), tensor(2.4197), tensor(2.5750), tensor(2.5567), tensor(2.3806)]\n",
      "2944 tensor([545, 626, 528, 334, 535]) [tensor(2.5113), tensor(2.4314), tensor(2.5949), tensor(2.5746), tensor(2.3976)]\n",
      "2980 tensor([545, 626, 528, 334, 535]) [tensor(2.7000), tensor(2.6288), tensor(2.7701), tensor(2.7713), tensor(2.5783)]\n",
      "3068 tensor([545, 626, 528, 334, 535]) [tensor(2.6559), tensor(2.5803), tensor(2.7280), tensor(2.7176), tensor(2.5356)]\n",
      "3071 tensor([626, 797, 545, 334, 592]) [tensor(2.7267), tensor(2.7948), tensor(2.8061), tensor(2.8633), tensor(2.8261)]\n",
      "3099 tensor([545, 626, 528, 334, 535]) [tensor(2.6598), tensor(2.5978), tensor(2.7273), tensor(2.7316), tensor(2.5417)]\n",
      "3108 tensor([545, 626, 528, 334, 535]) [tensor(2.5088), tensor(2.4250), tensor(2.5913), tensor(2.5718), tensor(2.3919)]\n",
      "3109 tensor([545, 626, 528, 334, 535]) [tensor(2.7336), tensor(2.6593), tensor(2.7956), tensor(2.7861), tensor(2.6056)]\n",
      "3119 tensor([545, 626, 528, 334, 535]) [tensor(2.6061), tensor(2.5279), tensor(2.6872), tensor(2.6624), tensor(2.4875)]\n",
      "3145 tensor([545, 626, 528, 334, 535]) [tensor(3.0347), tensor(2.9744), tensor(3.0730), tensor(3.0885), tensor(2.8948)]\n",
      "3156 tensor([545, 626, 528, 334, 535]) [tensor(2.7349), tensor(2.6758), tensor(2.8259), tensor(2.8203), tensor(2.6296)]\n",
      "3185 tensor([545, 626, 528, 334, 535]) [tensor(2.9491), tensor(2.8862), tensor(2.9929), tensor(3.0009), tensor(2.8071)]\n",
      "3190 tensor([545, 626, 528, 334, 535]) [tensor(2.5809), tensor(2.4895), tensor(2.6464), tensor(2.6414), tensor(2.4540)]\n",
      "3199 tensor([545, 626, 528, 334, 535]) [tensor(2.8413), tensor(2.7666), tensor(2.9109), tensor(2.8965), tensor(2.7238)]\n",
      "3249 tensor([545, 626, 528, 334, 535]) [tensor(2.6326), tensor(2.5378), tensor(2.6732), tensor(2.6745), tensor(2.4867)]\n",
      "3271 tensor([545, 626, 528, 334, 535]) [tensor(2.6762), tensor(2.5910), tensor(2.7700), tensor(2.7334), tensor(2.5715)]\n",
      "3324 tensor([545, 626, 528, 334, 535]) [tensor(2.4713), tensor(2.3794), tensor(2.5551), tensor(2.5218), tensor(2.3562)]\n",
      "3331 tensor([626, 797, 545, 334, 592]) [tensor(2.7824), tensor(2.8195), tensor(2.8247), tensor(2.8837), tensor(2.8272)]\n",
      "3346 tensor([545, 626, 528, 334, 675]) [tensor(2.5961), tensor(2.5378), tensor(2.6410), tensor(2.6616), tensor(2.4008)]\n",
      "3357 tensor([545, 626, 528, 334, 535]) [tensor(3.2400), tensor(3.1835), tensor(3.2689), tensor(3.3044), tensor(3.0930)]\n",
      "3371 tensor([545, 626, 528, 334, 535]) [tensor(2.8631), tensor(2.7932), tensor(2.9060), tensor(2.9156), tensor(2.7202)]\n",
      "3400 tensor([545, 626, 528, 334, 535]) [tensor(2.6382), tensor(2.5512), tensor(2.6991), tensor(2.6981), tensor(2.5095)]\n",
      "3421 tensor([545, 626, 528, 334, 535]) [tensor(2.9697), tensor(2.9103), tensor(3.0017), tensor(3.0230), tensor(2.8362)]\n",
      "3433 tensor([626, 334, 545, 797, 613]) [tensor(2.4863), tensor(2.6141), tensor(2.5507), tensor(2.5533), tensor(2.5474)]\n",
      "3441 tensor([545, 626, 528, 334, 535]) [tensor(2.6410), tensor(2.5560), tensor(2.7119), tensor(2.6933), tensor(2.5162)]\n",
      "3443 tensor([545, 626, 528, 334, 535]) [tensor(2.6599), tensor(2.5802), tensor(2.7322), tensor(2.7123), tensor(2.5374)]\n",
      "3455 tensor([545, 626, 528, 334, 535]) [tensor(2.5780), tensor(2.4864), tensor(2.6603), tensor(2.6431), tensor(2.4595)]\n",
      "3461 tensor([545, 626, 528, 334, 535]) [tensor(2.8545), tensor(2.7703), tensor(2.9276), tensor(2.9167), tensor(2.7273)]\n",
      "3508 tensor([545, 626, 528, 334, 535]) [tensor(2.6939), tensor(2.6140), tensor(2.7432), tensor(2.7357), tensor(2.5580)]\n",
      "3509 tensor([545, 626, 528, 334, 535]) [tensor(2.6501), tensor(2.5913), tensor(2.7044), tensor(2.6967), tensor(2.5152)]\n",
      "3524 tensor([545, 626, 528, 334, 535]) [tensor(2.4720), tensor(2.3920), tensor(2.5593), tensor(2.5433), tensor(2.3641)]\n",
      "3582 tensor([545, 626, 528, 334, 535]) [tensor(2.8821), tensor(2.8157), tensor(2.9370), tensor(2.9478), tensor(2.7542)]\n",
      "3583 tensor([545, 626, 528, 334, 535]) [tensor(2.6149), tensor(2.5439), tensor(2.6820), tensor(2.6665), tensor(2.5000)]\n",
      "3603 tensor([545, 626, 528, 334, 535]) [tensor(2.7881), tensor(2.6979), tensor(2.8492), tensor(2.8433), tensor(2.6546)]\n",
      "3659 tensor([545, 626, 528, 334, 535]) [tensor(2.9930), tensor(2.9267), tensor(3.0483), tensor(3.0406), tensor(2.8558)]\n",
      "3684 tensor([545, 626, 528, 334, 535]) [tensor(2.7496), tensor(2.6810), tensor(2.8073), tensor(2.8155), tensor(2.6212)]\n",
      "3686 tensor([545, 626, 528, 334, 535]) [tensor(2.7327), tensor(2.6546), tensor(2.7938), tensor(2.7876), tensor(2.6039)]\n",
      "3706 tensor([545, 626, 528, 334, 535]) [tensor(2.7529), tensor(2.6682), tensor(2.8090), tensor(2.8093), tensor(2.6145)]\n",
      "3710 tensor([545, 626, 528, 334, 535]) [tensor(2.7303), tensor(2.6626), tensor(2.8104), tensor(2.7983), tensor(2.6114)]\n",
      "3732 tensor([545, 626, 528, 334, 675]) [tensor(2.6468), tensor(2.5914), tensor(2.6841), tensor(2.7058), tensor(2.4430)]\n",
      "3741 tensor([545, 626, 528, 334, 535]) [tensor(2.4692), tensor(2.3793), tensor(2.5470), tensor(2.5336), tensor(2.3500)]\n",
      "3744 tensor([545, 626, 528, 334, 535]) [tensor(2.5721), tensor(2.4827), tensor(2.6525), tensor(2.6305), tensor(2.4499)]\n",
      "3772 tensor([626, 797, 334, 545, 842]) [tensor(2.9497), tensor(3.0034), tensor(3.0695), tensor(3.0030), tensor(2.8410)]\n",
      "3780 tensor([545, 626, 528, 334, 535]) [tensor(2.5489), tensor(2.4599), tensor(2.6346), tensor(2.6110), tensor(2.4278)]\n",
      "3829 tensor([626, 545, 592, 334, 842]) [tensor(2.4202), tensor(2.5133), tensor(2.5465), tensor(2.5838), tensor(2.3702)]\n",
      "3832 tensor([545, 626, 528, 334, 535]) [tensor(2.5637), tensor(2.4957), tensor(2.6293), tensor(2.6181), tensor(2.4432)]\n",
      "3853 tensor([545, 626, 528, 334, 535]) [tensor(2.5814), tensor(2.5141), tensor(2.6246), tensor(2.6439), tensor(2.4478)]\n",
      "3902 tensor([545, 626, 528, 334, 535]) [tensor(2.6208), tensor(2.5436), tensor(2.6919), tensor(2.6808), tensor(2.4989)]\n",
      "3929 tensor([626, 545, 592, 797, 842]) [tensor(2.4859), tensor(2.5486), tensor(2.5621), tensor(2.5246), tensor(2.3874)]\n",
      "3947 tensor([626, 545, 334,  98, 842]) [tensor(2.5455), tensor(2.6111), tensor(2.6774), tensor(2.5188), tensor(2.4454)]\n",
      "3983 tensor([545, 626, 528, 334, 535]) [tensor(2.5148), tensor(2.4131), tensor(2.5963), tensor(2.5791), tensor(2.3948)]\n",
      "4012 tensor([545, 626, 528, 334, 535]) [tensor(2.5636), tensor(2.4898), tensor(2.6193), tensor(2.6180), tensor(2.4250)]\n",
      "4019 tensor([545, 626, 528, 334, 535]) [tensor(2.5805), tensor(2.4957), tensor(2.6461), tensor(2.6281), tensor(2.4550)]\n",
      "4022 tensor([545, 626, 528, 334, 535]) [tensor(2.5867), tensor(2.4968), tensor(2.6641), tensor(2.6500), tensor(2.4668)]\n",
      "4045 tensor([545, 626, 528, 334, 535]) [tensor(2.7593), tensor(2.6789), tensor(2.8398), tensor(2.8126), tensor(2.6368)]\n",
      "4056 tensor([545, 626, 528, 334, 535]) [tensor(3.3601), tensor(3.3153), tensor(3.3948), tensor(3.4241), tensor(3.2185)]\n",
      "4083 tensor([545, 626, 528, 334, 535]) [tensor(2.5664), tensor(2.4691), tensor(2.6265), tensor(2.6269), tensor(2.4387)]\n",
      "4100 tensor([545, 626, 528, 334, 675]) [tensor(2.5792), tensor(2.4975), tensor(2.6435), tensor(2.6417), tensor(2.3879)]\n",
      "4117 tensor([545, 626, 528, 334, 535]) [tensor(2.5720), tensor(2.5059), tensor(2.6183), tensor(2.6322), tensor(2.4394)]\n",
      "4131 tensor([545, 626, 528, 334, 535]) [tensor(2.5554), tensor(2.4828), tensor(2.6125), tensor(2.6029), tensor(2.4185)]\n",
      "4147 tensor([545, 626, 528, 334, 535]) [tensor(2.5397), tensor(2.4639), tensor(2.6238), tensor(2.5828), tensor(2.4178)]\n",
      "4153 tensor([545, 626, 528, 334, 535]) [tensor(2.8883), tensor(2.8146), tensor(2.9317), tensor(2.9448), tensor(2.7427)]\n",
      "4187 tensor([545, 626, 528, 334, 535]) [tensor(2.8969), tensor(2.8316), tensor(2.9315), tensor(2.9370), tensor(2.7428)]\n",
      "4213 tensor([545, 626, 528, 334, 535]) [tensor(2.5072), tensor(2.4338), tensor(2.5874), tensor(2.5769), tensor(2.4022)]\n",
      "4223 tensor([545, 626, 528, 334, 535]) [tensor(2.4758), tensor(2.3888), tensor(2.5632), tensor(2.5263), tensor(2.3551)]\n",
      "4239 tensor([545, 626, 528, 334, 535]) [tensor(2.4865), tensor(2.4015), tensor(2.5687), tensor(2.5490), tensor(2.3682)]\n",
      "4250 tensor([545, 626, 528, 334, 675]) [tensor(2.4824), tensor(2.4154), tensor(2.5670), tensor(2.5555), tensor(2.3067)]\n",
      "4262 tensor([545, 626, 528, 334, 535]) [tensor(2.9237), tensor(2.8444), tensor(2.9838), tensor(2.9804), tensor(2.7913)]\n",
      "4268 tensor([545, 626, 528, 334, 535]) [tensor(2.6186), tensor(2.5391), tensor(2.6835), tensor(2.6709), tensor(2.4896)]\n",
      "4283 tensor([545, 626, 528, 334, 535]) [tensor(2.5284), tensor(2.4455), tensor(2.6002), tensor(2.5816), tensor(2.4093)]\n",
      "4288 tensor([545, 626, 528, 334, 535]) [tensor(2.5600), tensor(2.4808), tensor(2.6349), tensor(2.6238), tensor(2.4438)]\n",
      "4312 tensor([545, 626, 528, 334, 535]) [tensor(3.0590), tensor(3.0167), tensor(3.0880), tensor(3.1155), tensor(2.9184)]\n",
      "4325 tensor([545, 626, 528, 334, 535]) [tensor(2.4998), tensor(2.4122), tensor(2.5657), tensor(2.5552), tensor(2.3692)]\n",
      "4330 tensor([545, 626, 528, 334, 535]) [tensor(2.5745), tensor(2.4863), tensor(2.6387), tensor(2.6300), tensor(2.4496)]\n",
      "4352 tensor([545, 626, 528, 334, 535]) [tensor(2.6114), tensor(2.5352), tensor(2.6710), tensor(2.6634), tensor(2.4736)]\n",
      "4362 tensor([545, 626, 528, 334, 535]) [tensor(3.0687), tensor(3.0056), tensor(3.1211), tensor(3.1168), tensor(2.9334)]\n",
      "4369 tensor([545, 626, 528, 334, 535]) [tensor(2.8595), tensor(2.8235), tensor(2.9465), tensor(2.9486), tensor(2.7614)]\n",
      "4382 tensor([545, 626, 528, 334, 535]) [tensor(2.5933), tensor(2.5164), tensor(2.6538), tensor(2.6542), tensor(2.4610)]\n",
      "4390 tensor([545, 626, 528, 334, 535]) [tensor(2.7905), tensor(2.7450), tensor(2.8635), tensor(2.8635), tensor(2.6655)]\n",
      "4417 tensor([545, 626, 528, 334, 535]) [tensor(2.5466), tensor(2.4820), tensor(2.6172), tensor(2.6004), tensor(2.4160)]\n",
      "4438 tensor([545, 626, 528, 334, 535]) [tensor(2.7524), tensor(2.6815), tensor(2.8179), tensor(2.8075), tensor(2.6267)]\n",
      "4457 tensor([545, 626, 528, 334, 535]) [tensor(2.8618), tensor(2.7869), tensor(2.9052), tensor(2.9118), tensor(2.7185)]\n",
      "4461 tensor([545, 626, 528, 334, 535]) [tensor(2.6620), tensor(2.6020), tensor(2.7343), tensor(2.7093), tensor(2.5276)]\n",
      "4478 tensor([545, 626, 528, 334, 535]) [tensor(2.6272), tensor(2.5580), tensor(2.6810), tensor(2.6818), tensor(2.4852)]\n",
      "4482 tensor([545, 626, 528, 334, 535]) [tensor(2.8308), tensor(2.7577), tensor(2.9065), tensor(2.9008), tensor(2.7187)]\n",
      "4491 tensor([545, 626, 528, 334, 535]) [tensor(2.8653), tensor(2.7954), tensor(2.9148), tensor(2.9164), tensor(2.7336)]\n",
      "4498 tensor([545, 626, 528, 334, 535]) [tensor(2.6042), tensor(2.5218), tensor(2.6620), tensor(2.6502), tensor(2.4705)]\n",
      "4522 tensor([545, 626, 528, 334, 535]) [tensor(2.9276), tensor(2.8864), tensor(2.9608), tensor(2.9837), tensor(2.7803)]\n",
      "4523 tensor([545, 626, 528, 334, 535]) [tensor(2.7545), tensor(2.7019), tensor(2.8015), tensor(2.8002), tensor(2.6074)]\n",
      "4562 tensor([545, 626, 528, 334, 535]) [tensor(2.7597), tensor(2.6555), tensor(2.8351), tensor(2.8149), tensor(2.6341)]\n",
      "4564 tensor([545, 626, 528, 334, 535]) [tensor(3.3674), tensor(3.3232), tensor(3.3996), tensor(3.4132), tensor(3.2163)]\n",
      "4597 tensor([545, 626, 528, 334, 675]) [tensor(2.6160), tensor(2.5346), tensor(2.6586), tensor(2.6604), tensor(2.4074)]\n",
      "4665 tensor([545, 626, 528, 334, 535]) [tensor(2.8797), tensor(2.8160), tensor(2.9460), tensor(2.9330), tensor(2.7545)]\n",
      "4674 tensor([545, 626, 528, 334, 535]) [tensor(2.6435), tensor(2.5579), tensor(2.6900), tensor(2.6825), tensor(2.5001)]\n",
      "4691 tensor([545, 626, 528, 334, 535]) [tensor(2.9054), tensor(2.8463), tensor(2.9373), tensor(2.9496), tensor(2.7527)]\n",
      "4707 tensor([545, 626, 528, 334, 535]) [tensor(2.7821), tensor(2.7100), tensor(2.8440), tensor(2.8294), tensor(2.6531)]\n",
      "4739 tensor([545, 626, 528, 334, 535]) [tensor(2.5797), tensor(2.5088), tensor(2.6493), tensor(2.6479), tensor(2.4554)]\n",
      "4744 tensor([545, 626, 528, 334, 535]) [tensor(2.9228), tensor(2.8500), tensor(2.9832), tensor(2.9784), tensor(2.7882)]\n",
      "4750 tensor([545, 626, 528, 334, 535]) [tensor(2.7231), tensor(2.6616), tensor(2.7933), tensor(2.7887), tensor(2.6081)]\n",
      "4764 tensor([545, 626, 528, 334, 535]) [tensor(2.6071), tensor(2.5474), tensor(2.6695), tensor(2.6592), tensor(2.4596)]\n",
      "4801 tensor([545, 626, 528, 334, 535]) [tensor(2.8455), tensor(2.7778), tensor(2.8952), tensor(2.8948), tensor(2.7106)]\n",
      "4816 tensor([545, 626, 528, 334, 535]) [tensor(2.6724), tensor(2.5855), tensor(2.7302), tensor(2.7210), tensor(2.5441)]\n",
      "4829 tensor([545, 626, 528, 334, 535]) [tensor(2.6188), tensor(2.5559), tensor(2.6972), tensor(2.6833), tensor(2.5056)]\n",
      "4831 tensor([545, 626, 528, 334, 535]) [tensor(2.5087), tensor(2.4195), tensor(2.5793), tensor(2.5611), tensor(2.3859)]\n",
      "4842 tensor([545, 626, 528, 334, 535]) [tensor(2.7499), tensor(2.6749), tensor(2.8120), tensor(2.7953), tensor(2.6183)]\n",
      "4857 tensor([545, 626, 528, 334, 535]) [tensor(2.5448), tensor(2.4701), tensor(2.6118), tensor(2.6090), tensor(2.4178)]\n",
      "4867 tensor([545, 626, 528, 334, 535]) [tensor(2.8882), tensor(2.8147), tensor(2.9392), tensor(2.9361), tensor(2.7518)]\n",
      "4882 tensor([545, 626, 528, 334, 535]) [tensor(2.8801), tensor(2.8205), tensor(2.9240), tensor(2.9392), tensor(2.7367)]\n",
      "4893 tensor([545, 626, 528, 334, 535]) [tensor(3.0692), tensor(3.0191), tensor(3.1196), tensor(3.1377), tensor(2.9356)]\n",
      "4903 tensor([545, 626, 528, 334, 675]) [tensor(2.5900), tensor(2.5353), tensor(2.6319), tensor(2.6455), tensor(2.3935)]\n",
      "4917 tensor([545, 626, 528, 334, 535]) [tensor(2.5198), tensor(2.4482), tensor(2.5905), tensor(2.5782), tensor(2.3961)]\n",
      "4921 tensor([545, 626, 528, 334, 535]) [tensor(2.6756), tensor(2.6038), tensor(2.7290), tensor(2.7268), tensor(2.5468)]\n",
      "4938 tensor([545, 626, 528, 334, 535]) [tensor(2.6878), tensor(2.6181), tensor(2.7435), tensor(2.7440), tensor(2.5497)]\n",
      "4946 tensor([545, 626, 528, 334, 535]) [tensor(2.8822), tensor(2.8081), tensor(2.9014), tensor(2.9254), tensor(2.7269)]\n",
      "4949 tensor([545, 626, 528, 334, 675]) [tensor(2.5439), tensor(2.4596), tensor(2.6151), tensor(2.5904), tensor(2.3549)]\n",
      "4988 tensor([545, 626, 528, 334, 535]) [tensor(2.7529), tensor(2.6748), tensor(2.7968), tensor(2.8065), tensor(2.6240)]\n",
      "5002 tensor([545, 626, 528, 334, 535]) [tensor(2.7336), tensor(2.6499), tensor(2.7966), tensor(2.7821), tensor(2.6053)]\n",
      "5015 tensor([545, 626, 528, 334, 535]) [tensor(2.6043), tensor(2.5321), tensor(2.6373), tensor(2.6512), tensor(2.4606)]\n",
      "5021 tensor([545, 626, 528, 334, 535]) [tensor(2.7024), tensor(2.6346), tensor(2.7454), tensor(2.7556), tensor(2.5701)]\n",
      "5026 tensor([545, 626, 528, 334, 535]) [tensor(2.7103), tensor(2.6324), tensor(2.7714), tensor(2.7657), tensor(2.5774)]\n",
      "5084 tensor([545, 626, 528, 334, 535]) [tensor(3.1781), tensor(3.1500), tensor(3.2095), tensor(3.2575), tensor(3.0400)]\n",
      "5086 tensor([545, 626, 528, 334, 535]) [tensor(2.6579), tensor(2.5769), tensor(2.7161), tensor(2.7034), tensor(2.5298)]\n",
      "5127 tensor([545, 626, 528, 334, 535]) [tensor(2.4451), tensor(2.3502), tensor(2.5262), tensor(2.5053), tensor(2.3269)]\n",
      "5128 tensor([626, 545, 613, 334, 797]) [tensor(2.4034), tensor(2.4901), tensor(2.4922), tensor(2.5364), tensor(2.4804)]\n",
      "5153 tensor([545, 626, 528, 334, 535]) [tensor(3.0089), tensor(2.9410), tensor(3.0891), tensor(3.0801), tensor(2.8892)]\n",
      "5160 tensor([545, 626, 528, 334, 535]) [tensor(2.9838), tensor(2.9048), tensor(3.0210), tensor(3.0379), tensor(2.8394)]\n",
      "5170 tensor([545, 626, 528, 334, 535]) [tensor(2.6823), tensor(2.6148), tensor(2.7281), tensor(2.7366), tensor(2.5408)]\n",
      "5179 tensor([545, 626, 528, 334, 535]) [tensor(2.7938), tensor(2.7250), tensor(2.8420), tensor(2.8510), tensor(2.6508)]\n",
      "5199 tensor([545, 626, 528, 334, 675]) [tensor(2.6162), tensor(2.5581), tensor(2.6642), tensor(2.6527), tensor(2.4100)]\n",
      "5217 tensor([545, 626, 528, 334, 535]) [tensor(2.8282), tensor(2.7633), tensor(2.8839), tensor(2.8826), tensor(2.6907)]\n",
      "5268 tensor([545, 626, 528, 334, 535]) [tensor(2.7822), tensor(2.7111), tensor(2.8360), tensor(2.8257), tensor(2.6499)]\n",
      "5272 tensor([626, 545, 797, 675, 334]) [tensor(2.5403), tensor(2.6155), tensor(2.6052), tensor(2.4185), tensor(2.6756)]\n",
      "5290 tensor([545, 626, 528, 334, 535]) [tensor(2.6949), tensor(2.6203), tensor(2.7531), tensor(2.7623), tensor(2.5626)]\n",
      "5306 tensor([626, 545, 797, 592, 334]) [tensor(2.5214), tensor(2.5977), tensor(2.5891), tensor(2.5998), tensor(2.6470)]\n"
     ]
    }
   ],
   "source": [
    "history_buffer = HistoryBuffer(history_buffer_size)\n",
    "eps_eval = 0.1\n",
    "T = 5\n",
    "\n",
    "steps = 0\n",
    "rec = set()\n",
    "for index, e in enumerate(np.unique([r[0] for r in rew])):\n",
    "    # extract user reviews and positive user reviews for user id\n",
    "    user_reviews = test_data[test_data[:, 0] == e]\n",
    "    pos_user_reviews = user_reviews[user_reviews[:, 2] > 0]\n",
    "\n",
    "    # history should be sufficient\n",
    "    if pos_user_reviews.shape[0] < history_buffer_size:\n",
    "        continue\n",
    "        \n",
    "    # print(pos_user_reviews)\n",
    "\n",
    "    steps += 1   \n",
    "    \n",
    "    # sort user history by timestamp\n",
    "    user_reviews = user_reviews[user_reviews[:, 3].sort(descending=True)[1]]\n",
    "    pos_user_reviews = pos_user_reviews[pos_user_reviews[:, 3].sort(descending=True)[1]]\n",
    "\n",
    "    # canditate items embedding for recommendation\n",
    "    candidate_items = item_embeddings.detach().clone().to(device)\n",
    "\n",
    "    # get user embedding\n",
    "    user_emb = user_embeddings[e]\n",
    "\n",
    "    history_buffer.clear()\n",
    "\n",
    "    # fill up history buffer\n",
    "    for i in range(history_buffer_size):\n",
    "        emb = candidate_items[pos_user_reviews[i, 1]]\n",
    "        history_buffer.push(emb.detach().clone())\n",
    "\n",
    "    # get action\n",
    "    with torch.no_grad():\n",
    "        # use state rep net weights to get state (input args is user embedding and history buffer)\n",
    "        state = state_rep_net(user_emb, torch.stack(history_buffer.to_list()))\n",
    "\n",
    "        if np.random.uniform(0, 1) < eps_eval:\n",
    "            action = torch.from_numpy(0.1 * np.random.rand(100)).float().to(device)\n",
    "        else:\n",
    "            action = actor_net(state.detach())\n",
    "\n",
    "\n",
    "    # matmul for ranking scores\n",
    "    ranking_scores = candidate_items @ action\n",
    "\n",
    "    # get top T item indices\n",
    "    _, indices = torch.topk(ranking_scores, T)\n",
    "    rec.update(indices.numpy())\n",
    "    \n",
    "    rewards = [reward_function(torch.tensor(e).to(device) ,rec_item_index) for rec_item_index in indices]\n",
    "    rewards1 = [discretize_reward_(reward).item() for reward in rewards]\n",
    "    \n",
    "    print(e, indices, rewards)"
   ]
  },
  {
   "cell_type": "code",
   "execution_count": null,
   "id": "42f01924-6057-4018-9935-a0f808909d15",
   "metadata": {},
   "outputs": [],
   "source": []
  },
  {
   "cell_type": "code",
   "execution_count": 256,
   "id": "e52ede06-e35b-4994-b9f8-c68452f4cbbb",
   "metadata": {},
   "outputs": [
    {
     "data": {
      "text/plain": [
       "13"
      ]
     },
     "execution_count": 256,
     "metadata": {},
     "output_type": "execute_result"
    }
   ],
   "source": [
    "len(rec)"
   ]
  },
  {
   "cell_type": "code",
   "execution_count": 257,
   "id": "c798178a-284a-4cc1-9401-737e1b480dab",
   "metadata": {},
   "outputs": [
    {
     "data": {
      "text/plain": [
       "{18, 98, 334, 528, 535, 545, 592, 613, 623, 626, 675, 797, 842}"
      ]
     },
     "execution_count": 257,
     "metadata": {},
     "output_type": "execute_result"
    }
   ],
   "source": [
    "rec"
   ]
  },
  {
   "cell_type": "code",
   "execution_count": 64,
   "id": "565ff36f-0039-410d-807b-91697c23409c",
   "metadata": {},
   "outputs": [
    {
     "data": {
      "text/plain": [
       "1777"
      ]
     },
     "execution_count": 64,
     "metadata": {},
     "output_type": "execute_result"
    }
   ],
   "source": [
    "steps"
   ]
  },
  {
   "cell_type": "code",
   "execution_count": 67,
   "id": "8aeaac61-61e6-4350-ae24-adbc7332ffe1",
   "metadata": {},
   "outputs": [
    {
     "data": {
      "text/plain": [
       "smartphone    17263\n",
       "Name: cat_2, dtype: int64"
      ]
     },
     "execution_count": 67,
     "metadata": {},
     "output_type": "execute_result"
    }
   ],
   "source": [
    "data_df[data_df.product_id_num.isin(rec)].cat_2.value_counts()"
   ]
  },
  {
   "cell_type": "code",
   "execution_count": 70,
   "id": "f8a01579-9037-4f12-94ca-8fa4572b1622",
   "metadata": {},
   "outputs": [
    {
     "data": {
      "text/plain": [
       "electronics     82871\n",
       "appliances      16940\n",
       "computers       15720\n",
       "apparel          3014\n",
       "construction     2146\n",
       "auto             1691\n",
       "accessories       948\n",
       "kids              884\n",
       "furniture         806\n",
       "sport             431\n",
       "medicine           49\n",
       "country_yard       17\n",
       "stationery         17\n",
       "Name: cat_1, dtype: int64"
      ]
     },
     "execution_count": 70,
     "metadata": {},
     "output_type": "execute_result"
    }
   ],
   "source": [
    "data_df.cat_1.value_counts()"
   ]
  },
  {
   "cell_type": "code",
   "execution_count": 18,
   "id": "678e8d4b-f203-44e0-9b62-86f2d2c434bc",
   "metadata": {},
   "outputs": [
    {
     "data": {
      "text/plain": [
       "array([1579, 2144, 3952, 2410, 2204, 4842,  543, 4893,  677,  393, 1642,\n",
       "       1551, 1639, 1572,  460, 2836, 1677, 1379, 3124, 2982,  316, 3399,\n",
       "        817, 2037, 2210, 5021, 3576, 4794, 2232, 3659, 3762, 4611, 1445,\n",
       "       1689, 1275, 5186,  596, 1659, 2544, 5251,  152, 1940, 1727, 4055,\n",
       "       3087, 1789, 3983, 3684, 4599, 3109,  322, 5055, 1646, 3728, 3524,\n",
       "         41, 2562, 4829, 1498,  446, 3920, 4082, 3162,  650, 1964, 3932,\n",
       "       2251, 3113, 2171, 1635, 3591, 5169, 4410,  382,   82, 1007, 1157,\n",
       "       3108, 1430, 3389, 1922, 1850, 3955,  483,  587, 3449, 1530,  750,\n",
       "        730, 3117, 2406, 1338, 1191, 1978,  844, 1751, 1798,  552, 2992,\n",
       "       4518, 1238,  657, 2978, 1467, 4641, 1316,  754,  835,  566, 3103,\n",
       "       1353, 3785, 3778, 3505, 3863, 1698,  149, 1028,  862,   81, 1648,\n",
       "       3605, 1005, 1182,  530,  102, 2573, 2059, 1526,  857, 2274, 3387,\n",
       "       3290, 1138, 2517, 1156, 3396,  579, 2706, 4104, 4311, 5141, 1669,\n",
       "       1297, 4342, 4777, 1454, 2946, 1695, 3709,  881,  390, 3821,  610,\n",
       "       1517, 2214,  682, 1420, 2449, 2220, 4573, 5050, 3246, 2288, 3298,\n",
       "       3870,  665, 2427, 3895, 4804, 4095, 2185, 3724,  154, 4889, 2093,\n",
       "       3627, 1051,   21,  461, 1416,  468, 4345, 2352,  734, 4921, 3948,\n",
       "       1459, 2396, 4238, 1977, 2313, 1343,  740,  215, 1362, 3485, 4296,\n",
       "       1930, 3272, 4637, 1313, 1553, 2598, 5063, 1168, 3999,  364,  899,\n",
       "       2000,  559, 1697, 2951,  777, 3176, 2501, 1885, 1109, 3581, 1560,\n",
       "       3987, 2567,  229,   46, 1296, 2273, 1480,  675,   54, 3282, 3169,\n",
       "        916,  379,  573,  644, 3803, 1335, 4458, 4068, 2289, 2817, 3238,\n",
       "       4010, 3139, 3867, 5119, 4665,  822, 2436, 3303,  994, 1221, 4059,\n",
       "       2719, 3925,  738, 3838, 3903, 2690, 3276, 2700,  736, 1145, 1613,\n",
       "       4649, 2404, 2552, 1293, 4690, 2912, 4001, 4073, 2658, 4333,  156,\n",
       "       3481, 1207, 1709, 4700,  350,  286,  228, 3921, 3516, 4174, 3646,\n",
       "       1159, 3171, 4854, 3624, 4388, 1256, 3444, 2685, 2588,  138, 3592,\n",
       "       2881, 1351, 2265, 1044,   17,  850, 1513, 4141, 2618, 2291, 1818,\n",
       "       1861,  600,  308, 1599,  944, 1911, 3775, 5023, 1166, 4578,  507,\n",
       "       4910, 3062,  475, 3779, 3130, 4179, 1541, 4436, 4416])"
      ]
     },
     "execution_count": 18,
     "metadata": {},
     "output_type": "execute_result"
    }
   ],
   "source": [
    "data_df[(data_df.user_id_num.isin(user_idxs)) & (data_df.cat_1=='furniture')].user_id_num.unique()"
   ]
  },
  {
   "cell_type": "code",
   "execution_count": 14,
   "id": "821d10a1-d499-4252-b97d-612e0556ba9f",
   "metadata": {},
   "outputs": [
    {
     "data": {
      "text/plain": [
       "tensor([[0.9305],\n",
       "        [0.9254]])"
      ]
     },
     "execution_count": 14,
     "metadata": {},
     "output_type": "execute_result"
    }
   ],
   "source": [
    "calc_cos_similarity([437, 5551], [545])"
   ]
  },
  {
   "cell_type": "code",
   "execution_count": 33,
   "id": "2b8a053b-1b6c-4eb5-af3e-a7530aaa12f6",
   "metadata": {},
   "outputs": [
    {
     "data": {
      "text/plain": [
       "electronics     0.660148\n",
       "appliances      0.134944\n",
       "computers       0.125225\n",
       "apparel         0.024009\n",
       "construction    0.017095\n",
       "auto            0.013470\n",
       "accessories     0.007552\n",
       "kids            0.007042\n",
       "furniture       0.006421\n",
       "sport           0.003433\n",
       "medicine        0.000390\n",
       "country_yard    0.000135\n",
       "stationery      0.000135\n",
       "Name: cat_1, dtype: float64"
      ]
     },
     "execution_count": 33,
     "metadata": {},
     "output_type": "execute_result"
    }
   ],
   "source": [
    "data_df.cat_1.value_counts(normalize=True)"
   ]
  },
  {
   "cell_type": "code",
   "execution_count": 42,
   "id": "58eb603d-e692-498b-9147-92bb0d654a3c",
   "metadata": {},
   "outputs": [],
   "source": [
    "data_df['non_popular_products'] = data_df.cat_1.apply(lambda x : 1 if x not in ['electronics', 'appliances', 'computers'] else 0)"
   ]
  },
  {
   "cell_type": "code",
   "execution_count": 43,
   "id": "69ce5787-25c7-4552-bffb-925fcdd4411f",
   "metadata": {},
   "outputs": [
    {
     "data": {
      "text/html": [
       "<div>\n",
       "<style scoped>\n",
       "    .dataframe tbody tr th:only-of-type {\n",
       "        vertical-align: middle;\n",
       "    }\n",
       "\n",
       "    .dataframe tbody tr th {\n",
       "        vertical-align: top;\n",
       "    }\n",
       "\n",
       "    .dataframe thead th {\n",
       "        text-align: right;\n",
       "    }\n",
       "</style>\n",
       "<table border=\"1\" class=\"dataframe\">\n",
       "  <thead>\n",
       "    <tr style=\"text-align: right;\">\n",
       "      <th></th>\n",
       "      <th>event_time</th>\n",
       "      <th>event_type</th>\n",
       "      <th>product_id</th>\n",
       "      <th>user_id</th>\n",
       "      <th>cat_1</th>\n",
       "      <th>cat_2</th>\n",
       "      <th>user_id_num</th>\n",
       "      <th>product_id_num</th>\n",
       "      <th>behavior</th>\n",
       "      <th>non_popular_products</th>\n",
       "    </tr>\n",
       "  </thead>\n",
       "  <tbody>\n",
       "    <tr>\n",
       "      <th>0</th>\n",
       "      <td>1569888134000000000</td>\n",
       "      <td>purchase</td>\n",
       "      <td>1004856</td>\n",
       "      <td>543272936</td>\n",
       "      <td>electronics</td>\n",
       "      <td>smartphone</td>\n",
       "      <td>3796</td>\n",
       "      <td>613</td>\n",
       "      <td>3</td>\n",
       "      <td>0</td>\n",
       "    </tr>\n",
       "    <tr>\n",
       "      <th>1</th>\n",
       "      <td>1569896511000000000</td>\n",
       "      <td>cart</td>\n",
       "      <td>1005135</td>\n",
       "      <td>515384420</td>\n",
       "      <td>electronics</td>\n",
       "      <td>smartphone</td>\n",
       "      <td>1811</td>\n",
       "      <td>817</td>\n",
       "      <td>2</td>\n",
       "      <td>0</td>\n",
       "    </tr>\n",
       "  </tbody>\n",
       "</table>\n",
       "</div>"
      ],
      "text/plain": [
       "            event_time event_type  product_id    user_id        cat_1  \\\n",
       "0  1569888134000000000   purchase     1004856  543272936  electronics   \n",
       "1  1569896511000000000       cart     1005135  515384420  electronics   \n",
       "\n",
       "        cat_2  user_id_num  product_id_num  behavior  non_popular_products  \n",
       "0  smartphone         3796             613         3                     0  \n",
       "1  smartphone         1811             817         2                     0  "
      ]
     },
     "execution_count": 43,
     "metadata": {},
     "output_type": "execute_result"
    }
   ],
   "source": [
    "data_df.head(2)"
   ]
  },
  {
   "cell_type": "code",
   "execution_count": 48,
   "id": "c795e21e-cd94-49ab-a31a-47b75e0b820c",
   "metadata": {},
   "outputs": [],
   "source": [
    "temp = data_df.groupby(by=['user_id_num']).agg({'non_popular_products': 'mean'})"
   ]
  },
  {
   "cell_type": "code",
   "execution_count": 52,
   "id": "67e71cd7-655b-4639-809e-28b269f9e0ba",
   "metadata": {},
   "outputs": [
    {
     "data": {
      "text/plain": [
       "(5309, 1)"
      ]
     },
     "execution_count": 52,
     "metadata": {},
     "output_type": "execute_result"
    }
   ],
   "source": [
    "temp.shape"
   ]
  },
  {
   "cell_type": "code",
   "execution_count": 56,
   "id": "bf13ce63-f1c1-481d-9690-33a5d7c526e3",
   "metadata": {},
   "outputs": [
    {
     "data": {
      "text/plain": [
       "Int64Index([   4,   26,  103,  221,  250,  259,  263,  301,  313,  318,\n",
       "            ...\n",
       "            5205, 5230, 5234, 5239, 5251, 5257, 5274, 5276, 5288, 5296],\n",
       "           dtype='int64', name='user_id_num', length=251)"
      ]
     },
     "execution_count": 56,
     "metadata": {},
     "output_type": "execute_result"
    }
   ],
   "source": [
    "temp[temp['non_popular_products']>0.8].index"
   ]
  },
  {
   "cell_type": "code",
   "execution_count": 61,
   "id": "6dc91691-efc9-45cf-a0f1-8f343e6d2263",
   "metadata": {},
   "outputs": [],
   "source": [
    "r = candidate_items @ user_embeddings[4]"
   ]
  },
  {
   "cell_type": "code",
   "execution_count": 64,
   "id": "d45ec16d-d866-46b7-ab77-fc160c633849",
   "metadata": {},
   "outputs": [],
   "source": [
    "_, rec_items = r.topk(20)"
   ]
  },
  {
   "cell_type": "code",
   "execution_count": 65,
   "id": "4658445a-693b-4784-aed1-827a52ad3aed",
   "metadata": {},
   "outputs": [
    {
     "data": {
      "text/plain": [
       "tensor([626, 545, 797, 334, 842, 623, 613, 592, 481,  98, 675,  18, 595, 535,\n",
       "         87,  28, 530, 676, 528,  97])"
      ]
     },
     "execution_count": 65,
     "metadata": {},
     "output_type": "execute_result"
    }
   ],
   "source": [
    "rec_items"
   ]
  },
  {
   "cell_type": "code",
   "execution_count": 76,
   "id": "b12f076a-f838-47e1-b28b-a67edac15435",
   "metadata": {},
   "outputs": [
    {
     "data": {
      "text/plain": [
       "electronics    21274\n",
       "Name: cat_1, dtype: int64"
      ]
     },
     "execution_count": 76,
     "metadata": {},
     "output_type": "execute_result"
    }
   ],
   "source": [
    "data_df[data_df.product_id_num.isin(rec_items.numpy())].cat_1.value_counts()"
   ]
  },
  {
   "cell_type": "code",
   "execution_count": 103,
   "id": "32ab654b-2a8c-41db-bb39-ed77502cfd52",
   "metadata": {},
   "outputs": [
    {
     "data": {
      "text/plain": [
       "cat_1\n",
       "accessories      535\n",
       "apparel         1605\n",
       "appliances      3663\n",
       "auto             390\n",
       "computers       2878\n",
       "construction     830\n",
       "country_yard      14\n",
       "electronics     4166\n",
       "furniture        432\n",
       "kids             431\n",
       "medicine          10\n",
       "sport            217\n",
       "stationery        13\n",
       "Name: product_id_num, dtype: int64"
      ]
     },
     "execution_count": 103,
     "metadata": {},
     "output_type": "execute_result"
    }
   ],
   "source": [
    "data_df.groupby('cat_1')['product_id_num'].nunique()"
   ]
  },
  {
   "cell_type": "code",
   "execution_count": 182,
   "id": "538f90a1-fa13-46eb-8aa2-204d4e3ff70c",
   "metadata": {},
   "outputs": [],
   "source": [
    "other_product_ids = data_df[data_df.non_popular_products==1].product_id_num.unique()"
   ]
  },
  {
   "cell_type": "code",
   "execution_count": 183,
   "id": "8e01a964-62da-4506-a3fe-f8a56cd4d03c",
   "metadata": {},
   "outputs": [
    {
     "data": {
      "text/plain": [
       "array([13032,  6805, 12706, ...,  9805, 14729, 13707])"
      ]
     },
     "execution_count": 183,
     "metadata": {},
     "output_type": "execute_result"
    }
   ],
   "source": [
    "other_product_ids"
   ]
  },
  {
   "cell_type": "code",
   "execution_count": 210,
   "id": "022baf75-7127-4cdb-9f4d-ae5af6c9fa6a",
   "metadata": {},
   "outputs": [],
   "source": [
    "user_idx = data_df.user_id_num.unique()"
   ]
  },
  {
   "cell_type": "code",
   "execution_count": 211,
   "id": "68dec50a-ea82-4963-abc7-c3aa7b3a578e",
   "metadata": {},
   "outputs": [
    {
     "data": {
      "text/plain": [
       "array([3796, 1811, 3804, ..., 2578, 4171,  187])"
      ]
     },
     "execution_count": 211,
     "metadata": {},
     "output_type": "execute_result"
    }
   ],
   "source": [
    "user_idx"
   ]
  },
  {
   "cell_type": "code",
   "execution_count": 212,
   "id": "274acdcb-22e6-4bc6-a3bf-27a5f1ba0347",
   "metadata": {},
   "outputs": [],
   "source": [
    "user_h1 = user_embeddings[user_idx]"
   ]
  },
  {
   "cell_type": "code",
   "execution_count": 213,
   "id": "35385f55-5527-41c2-ab13-b448e8c002da",
   "metadata": {},
   "outputs": [],
   "source": [
    "item_h1 = candidate_items[other_product_ids]"
   ]
  },
  {
   "cell_type": "code",
   "execution_count": 214,
   "id": "5f81eb1f-bcbe-4422-b109-b11d2c1b0010",
   "metadata": {},
   "outputs": [],
   "source": [
    "R_h = (user_h1 @ item_h1.T) + reward_function.ub(torch.tensor(user_idx)) + reward_function.ib(torch.tensor(other_product_ids)).T"
   ]
  },
  {
   "cell_type": "code",
   "execution_count": 216,
   "id": "a69942a6-41ed-4603-b616-210ca220b927",
   "metadata": {},
   "outputs": [
    {
     "data": {
      "text/plain": [
       "tensor(2.9125)"
      ]
     },
     "execution_count": 216,
     "metadata": {},
     "output_type": "execute_result"
    }
   ],
   "source": [
    "R_h.max()"
   ]
  },
  {
   "cell_type": "code",
   "execution_count": 217,
   "id": "7b76fadf-3ccc-4d62-b1c9-5ef45af210cd",
   "metadata": {},
   "outputs": [
    {
     "data": {
      "text/plain": [
       "tensor(-0.0597)"
      ]
     },
     "execution_count": 217,
     "metadata": {},
     "output_type": "execute_result"
    }
   ],
   "source": [
    "R_h.min()"
   ]
  },
  {
   "cell_type": "code",
   "execution_count": 266,
   "id": "97dee6f6-bc49-474a-8970-dc45a902051b",
   "metadata": {},
   "outputs": [],
   "source": [
    "user_product_pairs = []\n",
    "rew = []"
   ]
  },
  {
   "cell_type": "code",
   "execution_count": 268,
   "id": "7437db74-7290-43d7-8b60-21f7e2898fde",
   "metadata": {},
   "outputs": [],
   "source": [
    "for i, uid in enumerate(user_idx):\n",
    "    for j, iid in enumerate(other_product_ids):\n",
    "        if R_h[i][j] > 2.0:\n",
    "            user_product_pairs.append([uid, iid])\n",
    "            rew.append(R_h[i][j].item)"
   ]
  },
  {
   "cell_type": "code",
   "execution_count": 269,
   "id": "e864697d-fbf2-4d3e-b177-08160e0aa2db",
   "metadata": {},
   "outputs": [],
   "source": [
    "user_product_pairs = np.array(user_product_pairs)"
   ]
  },
  {
   "cell_type": "code",
   "execution_count": 270,
   "id": "e10ea490-7530-41e9-8f0f-c5a7ddd5df6e",
   "metadata": {},
   "outputs": [
    {
     "data": {
      "text/plain": [
       "230"
      ]
     },
     "execution_count": 270,
     "metadata": {},
     "output_type": "execute_result"
    }
   ],
   "source": [
    "len(np.unique(user_product_pairs[:, 0]))"
   ]
  },
  {
   "cell_type": "code",
   "execution_count": 275,
   "id": "ac8cb3fe-fe93-4b5f-9966-651c5722c4fb",
   "metadata": {},
   "outputs": [],
   "source": [
    "R_h1 = (user_embeddings[np.unique(user_product_pairs[:, 0])] @ item_embeddings.T) + reward_function.ub(torch.tensor(np.unique(user_product_pairs[:, 0]))) + reward_function.ib.weight.T"
   ]
  },
  {
   "cell_type": "code",
   "execution_count": 276,
   "id": "584a6c0b-e76b-46a3-83b5-87569e53d18c",
   "metadata": {},
   "outputs": [
    {
     "data": {
      "text/plain": [
       "torch.Size([230, 15184])"
      ]
     },
     "execution_count": 276,
     "metadata": {},
     "output_type": "execute_result"
    }
   ],
   "source": [
    "R_h1.shape"
   ]
  },
  {
   "cell_type": "code",
   "execution_count": 280,
   "id": "c378b3ce-d4a7-4625-a808-122c57fd3774",
   "metadata": {},
   "outputs": [],
   "source": [
    "_, indices = R_h1.topk(10)"
   ]
  },
  {
   "cell_type": "code",
   "execution_count": 281,
   "id": "5cee7a6c-0660-4e17-bf34-17dff13d0af4",
   "metadata": {},
   "outputs": [
    {
     "data": {
      "text/plain": [
       "torch.Size([230, 10])"
      ]
     },
     "execution_count": 281,
     "metadata": {},
     "output_type": "execute_result"
    }
   ],
   "source": [
    "indices.shape"
   ]
  },
  {
   "cell_type": "code",
   "execution_count": 299,
   "id": "4b8be1c0-a48f-4ca7-a758-0605c6f88df2",
   "metadata": {},
   "outputs": [],
   "source": [
    "user_profile = data_df.groupby(by=['user_id_num'])['behavior'].sum().reset_index(name='behavior_sum')"
   ]
  },
  {
   "cell_type": "code",
   "execution_count": 300,
   "id": "5299675a-1c24-4611-a005-092b62c2fde9",
   "metadata": {},
   "outputs": [],
   "source": [
    "x = data_df[data_df.non_popular_products==1].groupby(by=['user_id_num'])['behavior'].sum().reset_index(name='other_sum')"
   ]
  },
  {
   "cell_type": "code",
   "execution_count": 306,
   "id": "6f218a42-74fe-4992-b301-ac23a4a85373",
   "metadata": {},
   "outputs": [
    {
     "data": {
      "text/html": [
       "<div>\n",
       "<style scoped>\n",
       "    .dataframe tbody tr th:only-of-type {\n",
       "        vertical-align: middle;\n",
       "    }\n",
       "\n",
       "    .dataframe tbody tr th {\n",
       "        vertical-align: top;\n",
       "    }\n",
       "\n",
       "    .dataframe thead th {\n",
       "        text-align: right;\n",
       "    }\n",
       "</style>\n",
       "<table border=\"1\" class=\"dataframe\">\n",
       "  <thead>\n",
       "    <tr style=\"text-align: right;\">\n",
       "      <th></th>\n",
       "      <th>user_id_num</th>\n",
       "      <th>behavior_sum</th>\n",
       "      <th>other_sum</th>\n",
       "    </tr>\n",
       "  </thead>\n",
       "  <tbody>\n",
       "    <tr>\n",
       "      <th>0</th>\n",
       "      <td>0</td>\n",
       "      <td>11</td>\n",
       "      <td>0.0</td>\n",
       "    </tr>\n",
       "    <tr>\n",
       "      <th>1</th>\n",
       "      <td>1</td>\n",
       "      <td>25</td>\n",
       "      <td>0.0</td>\n",
       "    </tr>\n",
       "    <tr>\n",
       "      <th>2</th>\n",
       "      <td>2</td>\n",
       "      <td>9</td>\n",
       "      <td>0.0</td>\n",
       "    </tr>\n",
       "    <tr>\n",
       "      <th>3</th>\n",
       "      <td>3</td>\n",
       "      <td>9</td>\n",
       "      <td>0.0</td>\n",
       "    </tr>\n",
       "    <tr>\n",
       "      <th>4</th>\n",
       "      <td>4</td>\n",
       "      <td>19</td>\n",
       "      <td>18.0</td>\n",
       "    </tr>\n",
       "    <tr>\n",
       "      <th>...</th>\n",
       "      <td>...</td>\n",
       "      <td>...</td>\n",
       "      <td>...</td>\n",
       "    </tr>\n",
       "    <tr>\n",
       "      <th>5304</th>\n",
       "      <td>5304</td>\n",
       "      <td>10</td>\n",
       "      <td>0.0</td>\n",
       "    </tr>\n",
       "    <tr>\n",
       "      <th>5305</th>\n",
       "      <td>5305</td>\n",
       "      <td>13</td>\n",
       "      <td>0.0</td>\n",
       "    </tr>\n",
       "    <tr>\n",
       "      <th>5306</th>\n",
       "      <td>5306</td>\n",
       "      <td>133</td>\n",
       "      <td>5.0</td>\n",
       "    </tr>\n",
       "    <tr>\n",
       "      <th>5307</th>\n",
       "      <td>5307</td>\n",
       "      <td>5</td>\n",
       "      <td>0.0</td>\n",
       "    </tr>\n",
       "    <tr>\n",
       "      <th>5308</th>\n",
       "      <td>5308</td>\n",
       "      <td>9</td>\n",
       "      <td>1.0</td>\n",
       "    </tr>\n",
       "  </tbody>\n",
       "</table>\n",
       "<p>5309 rows × 3 columns</p>\n",
       "</div>"
      ],
      "text/plain": [
       "      user_id_num  behavior_sum  other_sum\n",
       "0               0            11        0.0\n",
       "1               1            25        0.0\n",
       "2               2             9        0.0\n",
       "3               3             9        0.0\n",
       "4               4            19       18.0\n",
       "...           ...           ...        ...\n",
       "5304         5304            10        0.0\n",
       "5305         5305            13        0.0\n",
       "5306         5306           133        5.0\n",
       "5307         5307             5        0.0\n",
       "5308         5308             9        1.0\n",
       "\n",
       "[5309 rows x 3 columns]"
      ]
     },
     "execution_count": 306,
     "metadata": {},
     "output_type": "execute_result"
    }
   ],
   "source": [
    "user_profile = pd.merge(user_profile, x, on='user_id_num', how='left')\n",
    "user_profile.fillna(0, inplace=True)\n",
    "user_profile"
   ]
  },
  {
   "cell_type": "code",
   "execution_count": 307,
   "id": "dcd5830d-afaf-46a8-a366-7dcb72d0bb82",
   "metadata": {},
   "outputs": [],
   "source": [
    "user_profile['behavior_ratio'] = user_profile['other_sum']/user_profile['behavior_sum']"
   ]
  },
  {
   "cell_type": "code",
   "execution_count": 315,
   "id": "f45f8589-c3fe-487b-8e91-5c9dc1e12a08",
   "metadata": {},
   "outputs": [],
   "source": [
    "sample_users1 = user_profile.sort_values(by=['behavior_ratio'], ascending=False)[:50].user_id_num.to_list()"
   ]
  },
  {
   "cell_type": "code",
   "execution_count": 321,
   "id": "93f8750c-7f27-4b93-965c-13fec4d28d71",
   "metadata": {},
   "outputs": [],
   "source": [
    "R_h2 = (user_embeddings[sample_users1] @ item_embeddings.T) + reward_function.ub(torch.tensor(sample_users1)) + reward_function.ib.weight.T"
   ]
  },
  {
   "cell_type": "code",
   "execution_count": 322,
   "id": "d43b806f-1f07-44b8-85e2-1336e3d7b29a",
   "metadata": {},
   "outputs": [
    {
     "data": {
      "text/plain": [
       "torch.Size([50, 15184])"
      ]
     },
     "execution_count": 322,
     "metadata": {},
     "output_type": "execute_result"
    }
   ],
   "source": [
    "R_h2.shape"
   ]
  },
  {
   "cell_type": "code",
   "execution_count": 329,
   "id": "fa1cff6b-65bc-4d0a-b496-351befb96002",
   "metadata": {},
   "outputs": [],
   "source": [
    "v, indices2 = R_h2.topk(10)"
   ]
  },
  {
   "cell_type": "code",
   "execution_count": 337,
   "id": "a45de77b-5b91-45da-a582-094c01d0fa75",
   "metadata": {},
   "outputs": [],
   "source": [
    "uids = np.unique(user_product_pairs[:, 0])"
   ]
  },
  {
   "cell_type": "code",
   "execution_count": 342,
   "id": "0b560b6e-bc67-4823-9e32-0c8d2505ac66",
   "metadata": {},
   "outputs": [],
   "source": [
    "R_h3 = (user_embeddings[sample_users1] @ item_embeddings[other_product_ids].T) + \\\n",
    "        reward_function.ub(torch.tensor(sample_users1)) + \\\n",
    "        reward_function.ib(torch.tensor(other_product_ids)).T"
   ]
  },
  {
   "cell_type": "code",
   "execution_count": 343,
   "id": "feb6592f-24a4-44b0-9548-d18f36983d17",
   "metadata": {},
   "outputs": [
    {
     "data": {
      "text/plain": [
       "torch.Size([50, 4477])"
      ]
     },
     "execution_count": 343,
     "metadata": {},
     "output_type": "execute_result"
    }
   ],
   "source": [
    "R_h3.shape"
   ]
  },
  {
   "cell_type": "code",
   "execution_count": 344,
   "id": "7d9edd61-36e9-4d13-b152-263f3f7908ee",
   "metadata": {},
   "outputs": [],
   "source": [
    "val, indices3 = R_h3.topk(10)"
   ]
  },
  {
   "cell_type": "code",
   "execution_count": null,
   "id": "b81e5722-9c5b-4c65-96ce-6574c823a314",
   "metadata": {},
   "outputs": [],
   "source": []
  },
  {
   "cell_type": "code",
   "execution_count": 336,
   "id": "74ca3391-e701-40cb-9955-2a5c21d077d8",
   "metadata": {},
   "outputs": [
    {
     "name": "stdout",
     "output_type": "stream",
     "text": [
      "['smartphone' 'audio']\n",
      "['smartphone' 'audio']\n",
      "['smartphone' 'audio']\n",
      "['smartphone' 'audio']\n",
      "['smartphone' 'audio']\n",
      "['smartphone' 'audio']\n",
      "['smartphone' 'audio']\n",
      "['smartphone' 'audio']\n",
      "['smartphone' 'audio']\n",
      "['smartphone' 'audio']\n",
      "['smartphone' 'audio']\n",
      "['smartphone' 'audio']\n",
      "['smartphone' 'audio']\n",
      "['smartphone' 'audio']\n",
      "['smartphone' 'audio']\n",
      "['smartphone' 'audio']\n",
      "['smartphone' 'audio']\n",
      "['smartphone' 'audio']\n",
      "['smartphone' 'audio']\n",
      "['smartphone' 'audio']\n",
      "['smartphone' 'audio']\n",
      "['smartphone' 'audio']\n",
      "['smartphone' 'audio']\n",
      "['smartphone' 'audio']\n",
      "['smartphone' 'audio']\n",
      "['smartphone' 'audio']\n",
      "['smartphone' 'audio']\n",
      "['smartphone' 'audio']\n",
      "['smartphone' 'audio']\n",
      "['smartphone' 'audio']\n",
      "['smartphone' 'audio']\n",
      "['smartphone' 'audio']\n",
      "['smartphone' 'audio']\n",
      "['smartphone' 'audio']\n",
      "['smartphone' 'audio']\n",
      "['smartphone' 'audio']\n",
      "['smartphone' 'audio']\n",
      "['smartphone' 'audio']\n",
      "['smartphone' 'audio']\n",
      "['smartphone' 'audio']\n",
      "['smartphone' 'audio']\n",
      "['smartphone' 'audio']\n",
      "['smartphone' 'audio']\n",
      "['smartphone' 'audio']\n",
      "['smartphone' 'audio']\n",
      "['smartphone' 'audio']\n",
      "['smartphone' 'audio']\n",
      "['smartphone' 'audio']\n",
      "['smartphone' 'audio']\n",
      "['smartphone' 'audio']\n"
     ]
    }
   ],
   "source": [
    "for i in range(50):\n",
    "    print(data_df[data_df.product_id_num.isin(indices2[i].numpy())].cat_2.unique())"
   ]
  },
  {
   "cell_type": "code",
   "execution_count": null,
   "id": "89b951c5-d771-4bd6-876a-35c78f982329",
   "metadata": {},
   "outputs": [],
   "source": []
  }
 ],
 "metadata": {
  "kernelspec": {
   "display_name": "Python 3 (ipykernel)",
   "language": "python",
   "name": "python3"
  },
  "language_info": {
   "codemirror_mode": {
    "name": "ipython",
    "version": 3
   },
   "file_extension": ".py",
   "mimetype": "text/x-python",
   "name": "python",
   "nbconvert_exporter": "python",
   "pygments_lexer": "ipython3",
   "version": "3.10.4"
  }
 },
 "nbformat": 4,
 "nbformat_minor": 5
}
