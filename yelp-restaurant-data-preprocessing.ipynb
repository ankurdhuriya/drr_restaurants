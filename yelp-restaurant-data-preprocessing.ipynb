{
 "cells": [
  {
   "cell_type": "code",
   "execution_count": 1,
   "id": "c81c5be2-a038-4e9b-b984-5c43369d0ac3",
   "metadata": {},
   "outputs": [],
   "source": [
    "import pandas as pd\n",
    "import numpy as np\n",
    "import pickle"
   ]
  },
  {
   "cell_type": "code",
   "execution_count": 2,
   "id": "9a48ef2e-e206-4e09-83a8-44ea2dca8417",
   "metadata": {},
   "outputs": [],
   "source": [
    "REVIEW_DROP = 1000\n",
    "RESTAURANTS_PATH = '../data/yelp-restaurants/yelp_business.csv'\n",
    "REVIEWS_PATH = '../data/yelp-restaurants/yelp_review.csv'\n",
    "USERS_PATH = '../data/yelp-restaurants/yelp_user.csv'"
   ]
  },
  {
   "cell_type": "code",
   "execution_count": 3,
   "id": "5e1a05c0-236c-4e7e-9a74-dfd766dbdcdd",
   "metadata": {},
   "outputs": [],
   "source": [
    "def load_data():\n",
    "    print(\"Reading users\")\n",
    "    users = pd.read_csv(USERS_PATH, usecols=['user_id', 'review_count'])\n",
    "    users = users[users['review_count'] > REVIEW_DROP]\n",
    "    users = users.drop(columns='review_count')\n",
    "    users['user_id'] = users['user_id'].astype('category')\n",
    "    users['user_id_num'] = users['user_id'].cat.codes\n",
    "    user_id_to_num = dict(zip(users['user_id'], users['user_id_num']))\n",
    "\n",
    "    print(\"Reading reviews\")\n",
    "    reviews = pd.read_csv(REVIEWS_PATH, usecols=['user_id', 'business_id', 'stars', 'date'])\n",
    "    reviews = pd.merge(reviews, users, how='inner', on='user_id')\n",
    "    reviews = reviews.drop(columns='user_id')\n",
    "    reviews['business_id'] = reviews['business_id'].astype('category')\n",
    "    reviews['business_id_num'] = reviews['business_id'].cat.codes \n",
    "    rest_id_to_num = dict(zip(reviews['business_id'], reviews['business_id_num']))\n",
    "    reviews = reviews.drop(columns='business_id')\n",
    "    \n",
    "    print(f\"Unique users : {len(user_id_to_num)}, Unique restaurants {len(rest_id_to_num)}\")\n",
    "    \n",
    "    reviews['date'] = reviews['date'].apply(lambda x : pd.to_datetime(x).value)\n",
    "    # reviews['stars'] = reviews['stars']*1.0\n",
    "    \n",
    "    reviews = reviews.loc[:, ['user_id_num', 'business_id_num', 'stars', 'date']]\n",
    "    \n",
    "    print(\"REVIEWS.HEAD() -------------------------------------------------------------------\")\n",
    "    print(reviews.head())\n",
    "    \n",
    "    print(reviews.shape)\n",
    "    \n",
    "    print(reviews.isnull().values.any())\n",
    "    \n",
    "    pickle.dump(user_id_to_num, open('dataset/user_id_to_num.pkl', 'wb'))\n",
    "    pickle.dump(rest_id_to_num, open('dataset/rest_id_to_num.pkl', 'wb'))\n",
    "    np.save('dataset/data.npy', reviews.values)\n"
   ]
  },
  {
   "cell_type": "code",
   "execution_count": 4,
   "id": "4fa737c7-ea9a-44ed-9e38-79fd783cf84d",
   "metadata": {},
   "outputs": [
    {
     "name": "stdout",
     "output_type": "stream",
     "text": [
      "Reading users\n"
     ]
    }
   ],
   "source": [
    "print(\"Reading users\")\n",
    "users = pd.read_csv(USERS_PATH, usecols=['user_id', 'review_count'])\n",
    "users = users[users['review_count'] > REVIEW_DROP]\n",
    "users = users.drop(columns='review_count')\n",
    "users['user_id'] = users['user_id'].astype('category')\n",
    "users['user_id_num'] = users['user_id'].cat.codes\n",
    "user_id_to_num = dict(zip(users['user_id'], users['user_id_num']))\n"
   ]
  },
  {
   "cell_type": "code",
   "execution_count": 5,
   "id": "bb5c7c2a-16d3-4eb6-9426-9b44a4cae23e",
   "metadata": {},
   "outputs": [
    {
     "name": "stdout",
     "output_type": "stream",
     "text": [
      "Reading users\n",
      "Reading reviews\n",
      "Unique users : 1245, Unique restaurants 40829\n",
      "REVIEWS.HEAD() -------------------------------------------------------------------\n",
      "   user_id_num  business_id_num  stars                 date\n",
      "0           89             7518      4  1277078400000000000\n",
      "1           89              815      2  1374883200000000000\n",
      "2           89            26953      4  1298505600000000000\n",
      "3           89            19651      2  1327795200000000000\n",
      "4           89            14411      3  1391212800000000000\n",
      "(104850, 4)\n",
      "False\n"
     ]
    }
   ],
   "source": [
    "load_data()"
   ]
  },
  {
   "cell_type": "code",
   "execution_count": null,
   "id": "47e38567-130f-41c4-91f2-f882aa2fac0a",
   "metadata": {},
   "outputs": [],
   "source": []
  }
 ],
 "metadata": {
  "kernelspec": {
   "display_name": "Python 3 (ipykernel)",
   "language": "python",
   "name": "python3"
  },
  "language_info": {
   "codemirror_mode": {
    "name": "ipython",
    "version": 3
   },
   "file_extension": ".py",
   "mimetype": "text/x-python",
   "name": "python",
   "nbconvert_exporter": "python",
   "pygments_lexer": "ipython3",
   "version": "3.10.4"
  }
 },
 "nbformat": 4,
 "nbformat_minor": 5
}
