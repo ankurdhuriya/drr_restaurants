{
 "cells": [
  {
   "cell_type": "code",
   "execution_count": 1,
   "id": "280994ff-c246-4b7b-96b0-bcdbf93a24b3",
   "metadata": {},
   "outputs": [],
   "source": [
    "import os\n",
    "import pickle\n",
    "import pandas as pd"
   ]
  },
  {
   "cell_type": "code",
   "execution_count": 2,
   "id": "47749319-155a-4eab-baac-4963354e8d22",
   "metadata": {},
   "outputs": [],
   "source": [
    "raw_csv = '../../data/eComm-behavior/eCommerce-behavior-data-2019-Oct.csv'\n",
    "data_dir = '../dataset'"
   ]
  },
  {
   "cell_type": "code",
   "execution_count": 3,
   "id": "0ea3c362-fff8-4a42-be9d-04fe911caff3",
   "metadata": {},
   "outputs": [
    {
     "data": {
      "text/plain": [
       "(42448764, 9)"
      ]
     },
     "execution_count": 3,
     "metadata": {},
     "output_type": "execute_result"
    }
   ],
   "source": [
    "raw_df = pd.read_csv(raw_csv)\n",
    "raw_df.shape"
   ]
  },
  {
   "cell_type": "code",
   "execution_count": 4,
   "id": "5c8ee8c7-dcf8-4463-b560-63f55b83bb7e",
   "metadata": {},
   "outputs": [
    {
     "data": {
      "text/html": [
       "<div>\n",
       "<style scoped>\n",
       "    .dataframe tbody tr th:only-of-type {\n",
       "        vertical-align: middle;\n",
       "    }\n",
       "\n",
       "    .dataframe tbody tr th {\n",
       "        vertical-align: top;\n",
       "    }\n",
       "\n",
       "    .dataframe thead th {\n",
       "        text-align: right;\n",
       "    }\n",
       "</style>\n",
       "<table border=\"1\" class=\"dataframe\">\n",
       "  <thead>\n",
       "    <tr style=\"text-align: right;\">\n",
       "      <th></th>\n",
       "      <th>event_time</th>\n",
       "      <th>event_type</th>\n",
       "      <th>product_id</th>\n",
       "      <th>category_id</th>\n",
       "      <th>category_code</th>\n",
       "      <th>brand</th>\n",
       "      <th>price</th>\n",
       "      <th>user_id</th>\n",
       "      <th>user_session</th>\n",
       "    </tr>\n",
       "  </thead>\n",
       "  <tbody>\n",
       "    <tr>\n",
       "      <th>0</th>\n",
       "      <td>2019-10-01 00:00:00 UTC</td>\n",
       "      <td>view</td>\n",
       "      <td>44600062</td>\n",
       "      <td>2103807459595387724</td>\n",
       "      <td>NaN</td>\n",
       "      <td>shiseido</td>\n",
       "      <td>35.79</td>\n",
       "      <td>541312140</td>\n",
       "      <td>72d76fde-8bb3-4e00-8c23-a032dfed738c</td>\n",
       "    </tr>\n",
       "    <tr>\n",
       "      <th>1</th>\n",
       "      <td>2019-10-01 00:00:00 UTC</td>\n",
       "      <td>view</td>\n",
       "      <td>3900821</td>\n",
       "      <td>2053013552326770905</td>\n",
       "      <td>appliances.environment.water_heater</td>\n",
       "      <td>aqua</td>\n",
       "      <td>33.20</td>\n",
       "      <td>554748717</td>\n",
       "      <td>9333dfbd-b87a-4708-9857-6336556b0fcc</td>\n",
       "    </tr>\n",
       "  </tbody>\n",
       "</table>\n",
       "</div>"
      ],
      "text/plain": [
       "                event_time event_type  product_id          category_id  \\\n",
       "0  2019-10-01 00:00:00 UTC       view    44600062  2103807459595387724   \n",
       "1  2019-10-01 00:00:00 UTC       view     3900821  2053013552326770905   \n",
       "\n",
       "                         category_code     brand  price    user_id  \\\n",
       "0                                  NaN  shiseido  35.79  541312140   \n",
       "1  appliances.environment.water_heater      aqua  33.20  554748717   \n",
       "\n",
       "                           user_session  \n",
       "0  72d76fde-8bb3-4e00-8c23-a032dfed738c  \n",
       "1  9333dfbd-b87a-4708-9857-6336556b0fcc  "
      ]
     },
     "execution_count": 4,
     "metadata": {},
     "output_type": "execute_result"
    }
   ],
   "source": [
    "raw_df.head(2)"
   ]
  },
  {
   "cell_type": "code",
   "execution_count": 5,
   "id": "e6aec021-6195-4ce9-9cf5-728a55cc5d3f",
   "metadata": {},
   "outputs": [
    {
     "data": {
      "text/plain": [
       "(26560620, 9)"
      ]
     },
     "execution_count": 5,
     "metadata": {},
     "output_type": "execute_result"
    }
   ],
   "source": [
    "raw_df = raw_df.dropna()\n",
    "raw_df.shape"
   ]
  },
  {
   "cell_type": "code",
   "execution_count": 6,
   "id": "209d9672-7f8d-4ae2-a6b3-75fe624ee9a8",
   "metadata": {},
   "outputs": [
    {
     "name": "stdout",
     "output_type": "stream",
     "text": [
      "(26560620, 10)\n"
     ]
    },
    {
     "data": {
      "text/html": [
       "<div>\n",
       "<style scoped>\n",
       "    .dataframe tbody tr th:only-of-type {\n",
       "        vertical-align: middle;\n",
       "    }\n",
       "\n",
       "    .dataframe tbody tr th {\n",
       "        vertical-align: top;\n",
       "    }\n",
       "\n",
       "    .dataframe thead th {\n",
       "        text-align: right;\n",
       "    }\n",
       "</style>\n",
       "<table border=\"1\" class=\"dataframe\">\n",
       "  <thead>\n",
       "    <tr style=\"text-align: right;\">\n",
       "      <th></th>\n",
       "      <th>event_time</th>\n",
       "      <th>event_type</th>\n",
       "      <th>product_id</th>\n",
       "      <th>category_id</th>\n",
       "      <th>category_code</th>\n",
       "      <th>brand</th>\n",
       "      <th>price</th>\n",
       "      <th>user_id</th>\n",
       "      <th>user_session</th>\n",
       "      <th>total_interactions</th>\n",
       "    </tr>\n",
       "  </thead>\n",
       "  <tbody>\n",
       "    <tr>\n",
       "      <th>0</th>\n",
       "      <td>2019-10-01 00:00:00 UTC</td>\n",
       "      <td>view</td>\n",
       "      <td>3900821</td>\n",
       "      <td>2053013552326770905</td>\n",
       "      <td>appliances.environment.water_heater</td>\n",
       "      <td>aqua</td>\n",
       "      <td>33.20</td>\n",
       "      <td>554748717</td>\n",
       "      <td>9333dfbd-b87a-4708-9857-6336556b0fcc</td>\n",
       "      <td>3</td>\n",
       "    </tr>\n",
       "    <tr>\n",
       "      <th>1</th>\n",
       "      <td>2019-10-01 00:00:01 UTC</td>\n",
       "      <td>view</td>\n",
       "      <td>1307067</td>\n",
       "      <td>2053013558920217191</td>\n",
       "      <td>computers.notebook</td>\n",
       "      <td>lenovo</td>\n",
       "      <td>251.74</td>\n",
       "      <td>550050854</td>\n",
       "      <td>7c90fc70-0e80-4590-96f3-13c02c18c713</td>\n",
       "      <td>10</td>\n",
       "    </tr>\n",
       "  </tbody>\n",
       "</table>\n",
       "</div>"
      ],
      "text/plain": [
       "                event_time event_type  product_id          category_id  \\\n",
       "0  2019-10-01 00:00:00 UTC       view     3900821  2053013552326770905   \n",
       "1  2019-10-01 00:00:01 UTC       view     1307067  2053013558920217191   \n",
       "\n",
       "                         category_code   brand   price    user_id  \\\n",
       "0  appliances.environment.water_heater    aqua   33.20  554748717   \n",
       "1                   computers.notebook  lenovo  251.74  550050854   \n",
       "\n",
       "                           user_session  total_interactions  \n",
       "0  9333dfbd-b87a-4708-9857-6336556b0fcc                   3  \n",
       "1  7c90fc70-0e80-4590-96f3-13c02c18c713                  10  "
      ]
     },
     "execution_count": 6,
     "metadata": {},
     "output_type": "execute_result"
    }
   ],
   "source": [
    "temp = raw_df.groupby(\n",
    "    by=['user_id'], as_index=False).agg({'product_id': 'count'}).rename(\n",
    "        columns={'product_id': 'total_interactions'})\n",
    "\n",
    "raw_df = pd.merge(raw_df, temp, on=\"user_id\", how=\"left\")\n",
    "print(raw_df.shape)\n",
    "raw_df.head(2)"
   ]
  },
  {
   "cell_type": "code",
   "execution_count": 7,
   "id": "4562fde8-f1fc-43d5-8f70-d1b71f0036f6",
   "metadata": {},
   "outputs": [],
   "source": [
    "del temp"
   ]
  },
  {
   "cell_type": "code",
   "execution_count": 8,
   "id": "1a66cbc9-6d14-4462-a39f-19827b1c33f2",
   "metadata": {},
   "outputs": [
    {
     "name": "stdout",
     "output_type": "stream",
     "text": [
      "(1527951, 10)\n"
     ]
    }
   ],
   "source": [
    "sample_df  = raw_df[raw_df.total_interactions.between(200, 600)]\n",
    "print(sample_df.shape)"
   ]
  },
  {
   "cell_type": "code",
   "execution_count": 9,
   "id": "b2025667-e301-490c-98ca-4047c5e1d8fa",
   "metadata": {},
   "outputs": [],
   "source": [
    "df1 = sample_df[sample_df.event_type.isin(['cart', 'purchase'])]\n",
    "\n",
    "df2 = sample_df[sample_df.event_type.isin(['view'])].sample(df1.shape[0], random_state=1)"
   ]
  },
  {
   "cell_type": "code",
   "execution_count": 10,
   "id": "ea218add-2c14-42a0-bc04-f94bd8cf0548",
   "metadata": {},
   "outputs": [
    {
     "name": "stdout",
     "output_type": "stream",
     "text": [
      "(126332, 10)\n"
     ]
    },
    {
     "data": {
      "text/html": [
       "<div>\n",
       "<style scoped>\n",
       "    .dataframe tbody tr th:only-of-type {\n",
       "        vertical-align: middle;\n",
       "    }\n",
       "\n",
       "    .dataframe tbody tr th {\n",
       "        vertical-align: top;\n",
       "    }\n",
       "\n",
       "    .dataframe thead th {\n",
       "        text-align: right;\n",
       "    }\n",
       "</style>\n",
       "<table border=\"1\" class=\"dataframe\">\n",
       "  <thead>\n",
       "    <tr style=\"text-align: right;\">\n",
       "      <th></th>\n",
       "      <th>event_time</th>\n",
       "      <th>event_type</th>\n",
       "      <th>product_id</th>\n",
       "      <th>category_id</th>\n",
       "      <th>category_code</th>\n",
       "      <th>brand</th>\n",
       "      <th>price</th>\n",
       "      <th>user_id</th>\n",
       "      <th>user_session</th>\n",
       "      <th>total_interactions</th>\n",
       "    </tr>\n",
       "  </thead>\n",
       "  <tbody>\n",
       "    <tr>\n",
       "      <th>0</th>\n",
       "      <td>1569888134000000000</td>\n",
       "      <td>purchase</td>\n",
       "      <td>1004856</td>\n",
       "      <td>2053013555631882655</td>\n",
       "      <td>electronics.smartphone</td>\n",
       "      <td>samsung</td>\n",
       "      <td>130.76</td>\n",
       "      <td>543272936</td>\n",
       "      <td>8187d148-3c41-46d4-b0c0-9c08cd9dc564</td>\n",
       "      <td>205</td>\n",
       "    </tr>\n",
       "    <tr>\n",
       "      <th>1</th>\n",
       "      <td>1569896511000000000</td>\n",
       "      <td>cart</td>\n",
       "      <td>1005135</td>\n",
       "      <td>2053013555631882655</td>\n",
       "      <td>electronics.smartphone</td>\n",
       "      <td>apple</td>\n",
       "      <td>1747.79</td>\n",
       "      <td>515384420</td>\n",
       "      <td>7f82b450-6c45-4346-96fb-ecf4ab25779c</td>\n",
       "      <td>475</td>\n",
       "    </tr>\n",
       "  </tbody>\n",
       "</table>\n",
       "</div>"
      ],
      "text/plain": [
       "            event_time event_type  product_id          category_id  \\\n",
       "0  1569888134000000000   purchase     1004856  2053013555631882655   \n",
       "1  1569896511000000000       cart     1005135  2053013555631882655   \n",
       "\n",
       "            category_code    brand    price    user_id  \\\n",
       "0  electronics.smartphone  samsung   130.76  543272936   \n",
       "1  electronics.smartphone    apple  1747.79  515384420   \n",
       "\n",
       "                           user_session  total_interactions  \n",
       "0  8187d148-3c41-46d4-b0c0-9c08cd9dc564                 205  \n",
       "1  7f82b450-6c45-4346-96fb-ecf4ab25779c                 475  "
      ]
     },
     "execution_count": 10,
     "metadata": {},
     "output_type": "execute_result"
    }
   ],
   "source": [
    "sample_df = pd.concat([df1, df2])\n",
    "sample_df.drop_duplicates(subset=['event_time', 'user_id', 'product_id'], inplace=True)\n",
    "sample_df['event_time'] = sample_df['event_time'].apply(lambda x : pd.to_datetime(x).value)\n",
    "sample_df.reset_index(drop=True, inplace=True)\n",
    "print(sample_df.shape)\n",
    "sample_df.head(2)"
   ]
  },
  {
   "cell_type": "code",
   "execution_count": 11,
   "id": "d84d442e-a3d0-449a-8d9f-a9febe5d24c1",
   "metadata": {},
   "outputs": [],
   "source": [
    "del df1, df2"
   ]
  },
  {
   "cell_type": "code",
   "execution_count": 12,
   "id": "eec19049-21eb-4e99-8843-d7ec0b4765dd",
   "metadata": {},
   "outputs": [],
   "source": [
    "sample_df[['cat_1', 'cat_2']] = sample_df['category_code'].str.split('.', 1, expand=True)\n",
    "sample_df['cat_2'] = sample_df['cat_2'].str.split('.').str[0]"
   ]
  },
  {
   "cell_type": "code",
   "execution_count": 13,
   "id": "b933ad5f-bcbe-436a-8e59-65a240f37c1e",
   "metadata": {},
   "outputs": [
    {
     "data": {
      "text/html": [
       "<div>\n",
       "<style scoped>\n",
       "    .dataframe tbody tr th:only-of-type {\n",
       "        vertical-align: middle;\n",
       "    }\n",
       "\n",
       "    .dataframe tbody tr th {\n",
       "        vertical-align: top;\n",
       "    }\n",
       "\n",
       "    .dataframe thead th {\n",
       "        text-align: right;\n",
       "    }\n",
       "</style>\n",
       "<table border=\"1\" class=\"dataframe\">\n",
       "  <thead>\n",
       "    <tr style=\"text-align: right;\">\n",
       "      <th></th>\n",
       "      <th>event_time</th>\n",
       "      <th>event_type</th>\n",
       "      <th>product_id</th>\n",
       "      <th>category_id</th>\n",
       "      <th>category_code</th>\n",
       "      <th>brand</th>\n",
       "      <th>price</th>\n",
       "      <th>user_id</th>\n",
       "      <th>user_session</th>\n",
       "      <th>total_interactions</th>\n",
       "      <th>cat_1</th>\n",
       "      <th>cat_2</th>\n",
       "    </tr>\n",
       "  </thead>\n",
       "  <tbody>\n",
       "    <tr>\n",
       "      <th>0</th>\n",
       "      <td>1569888134000000000</td>\n",
       "      <td>purchase</td>\n",
       "      <td>1004856</td>\n",
       "      <td>2053013555631882655</td>\n",
       "      <td>electronics.smartphone</td>\n",
       "      <td>samsung</td>\n",
       "      <td>130.76</td>\n",
       "      <td>543272936</td>\n",
       "      <td>8187d148-3c41-46d4-b0c0-9c08cd9dc564</td>\n",
       "      <td>205</td>\n",
       "      <td>electronics</td>\n",
       "      <td>smartphone</td>\n",
       "    </tr>\n",
       "    <tr>\n",
       "      <th>1</th>\n",
       "      <td>1569896511000000000</td>\n",
       "      <td>cart</td>\n",
       "      <td>1005135</td>\n",
       "      <td>2053013555631882655</td>\n",
       "      <td>electronics.smartphone</td>\n",
       "      <td>apple</td>\n",
       "      <td>1747.79</td>\n",
       "      <td>515384420</td>\n",
       "      <td>7f82b450-6c45-4346-96fb-ecf4ab25779c</td>\n",
       "      <td>475</td>\n",
       "      <td>electronics</td>\n",
       "      <td>smartphone</td>\n",
       "    </tr>\n",
       "  </tbody>\n",
       "</table>\n",
       "</div>"
      ],
      "text/plain": [
       "            event_time event_type  product_id          category_id  \\\n",
       "0  1569888134000000000   purchase     1004856  2053013555631882655   \n",
       "1  1569896511000000000       cart     1005135  2053013555631882655   \n",
       "\n",
       "            category_code    brand    price    user_id  \\\n",
       "0  electronics.smartphone  samsung   130.76  543272936   \n",
       "1  electronics.smartphone    apple  1747.79  515384420   \n",
       "\n",
       "                           user_session  total_interactions        cat_1  \\\n",
       "0  8187d148-3c41-46d4-b0c0-9c08cd9dc564                 205  electronics   \n",
       "1  7f82b450-6c45-4346-96fb-ecf4ab25779c                 475  electronics   \n",
       "\n",
       "        cat_2  \n",
       "0  smartphone  \n",
       "1  smartphone  "
      ]
     },
     "execution_count": 13,
     "metadata": {},
     "output_type": "execute_result"
    }
   ],
   "source": [
    "sample_df.head(2)"
   ]
  },
  {
   "cell_type": "code",
   "execution_count": 14,
   "id": "406f3502-3028-4608-9499-138eb207c992",
   "metadata": {},
   "outputs": [],
   "source": [
    "sample_df['user_id'] = sample_df['user_id'].astype('category')\n",
    "sample_df['user_id_num'] = sample_df['user_id'].cat.codes\n",
    "user_num_to_id = dict(zip(sample_df['user_id_num'], sample_df['user_id']))"
   ]
  },
  {
   "cell_type": "code",
   "execution_count": 15,
   "id": "9c66e126-3465-4399-a0f5-caf5ad64bef3",
   "metadata": {},
   "outputs": [],
   "source": [
    "sample_df['product_id'] = sample_df['product_id'].astype('category')\n",
    "sample_df['product_id_num'] = sample_df['product_id'].cat.codes\n",
    "item_num_to_id = dict(zip(sample_df['product_id_num'], sample_df['product_id']))"
   ]
  },
  {
   "cell_type": "code",
   "execution_count": 16,
   "id": "12bc96fc-f0a9-4813-9ac7-ed5643e96a7f",
   "metadata": {},
   "outputs": [
    {
     "name": "stdout",
     "output_type": "stream",
     "text": [
      "Sample data shape 126332\n",
      "Unique users : 5380, Unique items : 15286\n"
     ]
    }
   ],
   "source": [
    "print(f\"Sample data shape {len(sample_df)}\")\n",
    "\n",
    "print(f\"Unique users : {len(user_num_to_id)}, Unique items : {len(item_num_to_id)}\")"
   ]
  },
  {
   "cell_type": "code",
   "execution_count": 17,
   "id": "b5bcdf25-cbcc-4c5d-91f0-9536d48575f5",
   "metadata": {},
   "outputs": [],
   "source": [
    "with open(os.path.join(data_dir, 'user_num_to_id.pkl'), 'wb') as handle:\n",
    "    pickle.dump(user_num_to_id, handle, protocol=pickle.HIGHEST_PROTOCOL)\n",
    "\n",
    "with open(os.path.join(data_dir, 'item_num_to_id.pkl'), 'wb') as handle:\n",
    "    pickle.dump(item_num_to_id, handle, protocol=pickle.HIGHEST_PROTOCOL)\n",
    "\n",
    "sample_df.to_csv(os.path.join(data_dir, 'sample_data.csv'), index=False)"
   ]
  },
  {
   "cell_type": "code",
   "execution_count": null,
   "id": "551f8f1b-bbb0-4d30-943d-27ed116241a5",
   "metadata": {},
   "outputs": [],
   "source": []
  }
 ],
 "metadata": {
  "kernelspec": {
   "display_name": "Python 3 (ipykernel)",
   "language": "python",
   "name": "python3"
  },
  "language_info": {
   "codemirror_mode": {
    "name": "ipython",
    "version": 3
   },
   "file_extension": ".py",
   "mimetype": "text/x-python",
   "name": "python",
   "nbconvert_exporter": "python",
   "pygments_lexer": "ipython3",
   "version": "3.10.4"
  }
 },
 "nbformat": 4,
 "nbformat_minor": 5
}
