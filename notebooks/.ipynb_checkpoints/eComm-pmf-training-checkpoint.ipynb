{
 "cells": [
  {
   "cell_type": "code",
   "execution_count": 1,
   "id": "0bcd00bb-08c7-426f-b928-e24fb87c49ed",
   "metadata": {},
   "outputs": [],
   "source": [
    "import sys\n",
    "sys.path.insert(0, '../model')"
   ]
  },
  {
   "cell_type": "code",
   "execution_count": 2,
   "id": "2483360d-0aad-47b8-af54-0f8be1c91006",
   "metadata": {},
   "outputs": [],
   "source": [
    "import os\n",
    "import torch\n",
    "import torch.nn as nn\n",
    "import torch.optim as optim\n",
    "from torch.autograd import Variable\n",
    "from torch.utils.data import Dataset, DataLoader\n",
    "import numpy as np\n",
    "import pandas as pd\n",
    "import matplotlib.pyplot as plt\n",
    "from sklearn.utils import shuffle\n",
    "from model import PMF"
   ]
  },
  {
   "cell_type": "code",
   "execution_count": 3,
   "id": "fb658a94-885a-4759-88f2-c827cb1118b1",
   "metadata": {},
   "outputs": [],
   "source": [
    "class EcommDataset(Dataset):\n",
    "    def __init__(self, X, y, transform=None):\n",
    "        self.X = X\n",
    "        self.y = y\n",
    "        assert self.X.shape[0] == self.y.shape[0]\n",
    "        self.transform = transform\n",
    "        pass\n",
    "    \n",
    "    def __len__(self):\n",
    "        return len(self.X)\n",
    "    \n",
    "    def __getitem__(self, idx):\n",
    "        if torch.is_tensor(idx):\n",
    "            idx = idx.tolist()\n",
    "        return (self.X[idx], self.y[idx])"
   ]
  },
  {
   "cell_type": "code",
   "execution_count": 4,
   "id": "22dad2b6-4acf-43b6-b6cc-26f9a7e978c4",
   "metadata": {},
   "outputs": [],
   "source": [
    "def RMSE(preds, truth):\n",
    "    return np.sqrt(np.mean(np.square(preds-truth)))"
   ]
  },
  {
   "cell_type": "code",
   "execution_count": 5,
   "id": "1019f6a4-e9f9-4683-b38f-29b39ea64859",
   "metadata": {},
   "outputs": [],
   "source": [
    "def training_epoch(epoch, train_data_loader):\n",
    "    # Initialize\n",
    "    model.train()\n",
    "    epoch_loss = 0.0\n",
    "    optimizer.zero_grad()\n",
    " \n",
    "    # Go through batches\n",
    "    for batch_idx, ele in enumerate(train_data_loader):\n",
    "        # Zero optimizer gradient\n",
    "        optimizer.zero_grad()\n",
    " \n",
    "        # Extract user_id_nums: row, item_id_nums: col, ratings: val\n",
    "        row = ele[0][:,0]\n",
    "        col = ele[0][:,1]\n",
    "        val = ele[1].squeeze()\n",
    "         \n",
    "        # Set to variables\n",
    "        row = Variable(row.long())\n",
    "        if isinstance(col, list):\n",
    "            col = tuple(Variable(c.long()) for c in col)\n",
    "        else:\n",
    "            col = Variable(col.long())\n",
    "        val = Variable(val.float())\n",
    " \n",
    "        # Move data to CUDA\n",
    "        if cuda:\n",
    "            row = row.cuda()\n",
    "            col = col.cuda()\n",
    "            val = val.cuda()\n",
    " \n",
    "        # Train\n",
    "        preds = model.forward(row, col)\n",
    "        loss = loss_function(preds, val)\n",
    "        loss.backward()\n",
    "        optimizer.step()\n",
    " \n",
    "        # Update epoch loss\n",
    "        epoch_loss += loss.item()\n",
    "        \n",
    "        print(f\"Epoch {epoch}, batch_idx {batch_idx}, epoch_loss {loss.item()}\", end='\\r')\n",
    " \n",
    "    epoch_loss /= len(train_data_loader.dataset)\n",
    "    return epoch_loss"
   ]
  },
  {
   "cell_type": "code",
   "execution_count": 6,
   "id": "6e107ca2-84d8-4e90-bc71-80f88a708ba2",
   "metadata": {},
   "outputs": [],
   "source": [
    "csv_path = '../dataset/sample_data.csv'\n",
    "model_dir = '../trained'"
   ]
  },
  {
   "cell_type": "code",
   "execution_count": 7,
   "id": "62768aab-3217-4aa0-a000-00718e841a70",
   "metadata": {},
   "outputs": [],
   "source": [
    "reward_map = {'view': 1.0, 'cart': 2.0, 'purchase': 3.0}\n",
    "ratio = 0.8\n",
    "cuda = False\n",
    "device = torch.device('cpu')\n",
    "seed = 1\n",
    "BATCH_SIZE = 1024\n",
    "embedding_feature_size = 100\n",
    "lr = 0.0001\n",
    "weight_decay = 0.1\n",
    "momentum = 0.9\n",
    "epochs = 25"
   ]
  },
  {
   "cell_type": "code",
   "execution_count": 8,
   "id": "44b10ec9-fcd5-424a-a8dd-ff89bae66886",
   "metadata": {},
   "outputs": [],
   "source": [
    "torch.manual_seed(seed=seed)\n",
    "if cuda:\n",
    "    torch.cuda.empty_cache()\n",
    "    torch.cuda.manual_seed(seed=seed)\n",
    "\n",
    "kwargs = {'num_workers':2, 'pin_memory':True} if cuda else {}"
   ]
  },
  {
   "cell_type": "code",
   "execution_count": 9,
   "id": "03dcb658-8df2-453f-816a-4fbc9afd9661",
   "metadata": {},
   "outputs": [],
   "source": [
    "data_df = pd.read_csv(csv_path)\n",
    "data_df['behavior'] = data_df['event_type'].apply(lambda x : reward_map[x])\n",
    "\n",
    "NUM_USERS, NUM_ITEMS = data_df.user_id_num.nunique(), data_df.product_id_num.nunique()\n",
    "\n",
    "data = data_df.loc[:, ['user_id_num', 'product_id_num', 'behavior']]\n",
    "# Shuffle data\n",
    "data = shuffle(data, random_state=1)\n",
    "data.reset_index(drop=True, inplace=True)\n",
    "# Split data\n",
    "train_data = data.loc[:int(ratio*data.shape[0])]\n",
    "valid_data = data.loc[int(ratio*data.shape[0]):int((ratio+(1-ratio)/2)*data.shape[0])]\n",
    "test_data = data.loc[int((ratio+(1-ratio)/2)*data.shape[0]):]"
   ]
  },
  {
   "cell_type": "code",
   "execution_count": 10,
   "id": "5b9eb99f-f289-46e2-84c7-0c3e010c2f65",
   "metadata": {},
   "outputs": [],
   "source": [
    "X_train, y_train = train_data.loc[:, ['user_id_num', 'product_id_num']].values, train_data.loc[:, ['behavior']].values\n",
    "X_valid, y_valid = valid_data.loc[:, ['user_id_num', 'product_id_num']].values, valid_data.loc[:, ['behavior']].values\n",
    "X_test, y_test = test_data.loc[:, ['user_id_num', 'product_id_num']].values, test_data.loc[:, ['behavior']].values"
   ]
  },
  {
   "cell_type": "code",
   "execution_count": 11,
   "id": "ba61925c-19b6-4eeb-9009-98a13dfac732",
   "metadata": {},
   "outputs": [],
   "source": [
    "train_dataset = EcommDataset(X_train, y_train)\n",
    "train_data_loader = DataLoader(train_dataset, batch_size=BATCH_SIZE, shuffle=False, **kwargs)\n",
    "\n",
    "valid_dataset = EcommDataset(X_valid, y_valid)\n",
    "vald_data_loader = DataLoader(valid_dataset, batch_size=len(X_valid), shuffle=False, **kwargs)\n",
    "valid_data_full = next(iter(vald_data_loader))\n",
    "\n",
    "test_dataset = EcommDataset(X_test, y_test)\n",
    "test_data_loader = DataLoader(test_dataset, batch_size=len(X_test), shuffle=False, **kwargs)\n",
    "test_data_full = next(iter(test_data_loader))"
   ]
  },
  {
   "cell_type": "code",
   "execution_count": 12,
   "id": "182231f1-5ea9-4920-b1af-9708b4d565ff",
   "metadata": {},
   "outputs": [
    {
     "name": "stdout",
     "output_type": "stream",
     "text": [
      "total batches 99\n"
     ]
    }
   ],
   "source": [
    "model = PMF(n_users=NUM_USERS, n_items=NUM_ITEMS, n_factors=embedding_feature_size, no_cuda=cuda)\n",
    "if cuda:\n",
    "    model.cuda()\n",
    "    print(\"Model moved to CUDA\")\n",
    "\n",
    "loss_function = nn.MSELoss(reduction='sum')\n",
    "\n",
    "optimizer = optim.SGD(model.parameters(), lr=lr, weight_decay=weight_decay, momentum=momentum)\n",
    "\n",
    "print(f\"total batches {len(train_data_loader)}\")"
   ]
  },
  {
   "cell_type": "code",
   "execution_count": 13,
   "id": "384bd39f-1b65-410d-a38a-dfb54db8b7d0",
   "metadata": {},
   "outputs": [
    {
     "name": "stdout",
     "output_type": "stream",
     "text": [
      "------------------------------------------- Training Model------------------------------------------------\n",
      "parameters are: train ratio:0.800000,batch_size:1024, epoches:25, weight_decay:0.100000\n",
      "PMF(\n",
      "  (user_embeddings): Embedding(5380, 100)\n",
      "  (item_embeddings): Embedding(15286, 100)\n",
      "  (ub): Embedding(5380, 1)\n",
      "  (ib): Embedding(15286, 1)\n",
      ")\n",
      "Training epoch: 1, training rmse: 1.375266, vali rmse:1.366617\n",
      "Training epoch: 2, training rmse: 1.080605, vali rmse:1.293068\n",
      "Training epoch: 3, training rmse: 0.970746, vali rmse:1.255549\n",
      "Training epoch: 4, training rmse: 0.905220, vali rmse:1.230492\n",
      "Training epoch: 5, training rmse: 0.859574, vali rmse:1.211883\n",
      "Training epoch: 6, training rmse: 0.825220, vali rmse:1.197303\n",
      "Training epoch: 7, training rmse: 0.798156, vali rmse:1.185488\n",
      "Training epoch: 8, training rmse: 0.776177, vali rmse:1.175676\n",
      "Training epoch: 9, training rmse: 0.757930, vali rmse:1.167372\n",
      "Training epoch: 10, training rmse: 0.742522, vali rmse:1.160237\n",
      "Training epoch: 11, training rmse: 0.729335, vali rmse:1.154030\n",
      "Training epoch: 12, training rmse: 0.717922, vali rmse:1.148575\n",
      "Training epoch: 13, training rmse: 0.707951, vali rmse:1.143739\n",
      "Training epoch: 14, training rmse: 0.699170, vali rmse:1.139421\n",
      "Training epoch: 15, training rmse: 0.691383, vali rmse:1.135542\n",
      "Training epoch: 16, training rmse: 0.684433, vali rmse:1.132038\n",
      "Training epoch: 17, training rmse: 0.678197, vali rmse:1.128859\n",
      "Training epoch: 18, training rmse: 0.672572, vali rmse:1.125962\n",
      "Training epoch: 19, training rmse: 0.667476, vali rmse:1.123313\n",
      "Training epoch: 20, training rmse: 0.662839, vali rmse:1.120884\n",
      "Training epoch: 21, training rmse: 0.658604, vali rmse:1.118649\n",
      "Training epoch: 22, training rmse: 0.654722, vali rmse:1.116588\n",
      "Training epoch: 23, training rmse: 0.651152, vali rmse:1.114682\n",
      "Training epoch: 24, training rmse: 0.647859, vali rmse:1.112917\n",
      "Training epoch: 25, training rmse: 0.644811, vali rmse:1.111278\n"
     ]
    }
   ],
   "source": [
    "print('------------------------------------------- Training Model------------------------------------------------')\n",
    "train_loss_list = []\n",
    "last_vali_rmse = None\n",
    "train_rmse_list = []\n",
    "vali_rmse_list = []\n",
    "print('parameters are: train ratio:{:f},batch_size:{:d}, epoches:{:d}, weight_decay:{:f}'.format(ratio, BATCH_SIZE, epochs, weight_decay))\n",
    "print(model)\n",
    "\n",
    "for epoch in range(1, epochs+1):\n",
    "    # Train epoch\n",
    "    train_epoch_loss = training_epoch(epoch, train_data_loader)\n",
    "\n",
    "    # Get epoch loss\n",
    "    train_loss_list.append(train_epoch_loss)\n",
    "\n",
    "    # Move validation data to CUDA\n",
    "    if cuda:\n",
    "        vali_row = Variable(valid_data_full[0][:,0]).long().cuda()\n",
    "        vali_col = Variable(valid_data_full[0][:,1]).long().cuda()\n",
    "    else:\n",
    "        vali_row = Variable(valid_data_full[0][:,0]).long()\n",
    "        vali_col = Variable(valid_data_full[0][:,1]).long()\n",
    "\n",
    "    # Get validation predictions\n",
    "    vali_preds = model.predict(vali_row, vali_col)\n",
    "\n",
    "    # Calculate train rmse loss\n",
    "    train_rmse = np.sqrt(train_epoch_loss)\n",
    "\n",
    "    # Calculate validation rmse loss\n",
    "    if cuda:\n",
    "        vali_rmse = RMSE(vali_preds.cpu().data.numpy(), valid_data_full[1].cpu().data.numpy())\n",
    "    else:\n",
    "        vali_rmse = RMSE(vali_preds.data.numpy(), valid_data_full[1].data.numpy())\n",
    "\n",
    "    # Add losses to rmse loss lists\n",
    "    train_rmse_list.append(train_rmse)\n",
    "    vali_rmse_list.append(vali_rmse)\n",
    "\n",
    "    print('Training epoch:{: d}, training rmse:{: .6f}, vali rmse:{:.6f}'. \\\n",
    "            format(epoch, train_rmse, vali_rmse))\n",
    "\n",
    "    # Early stop condition\n",
    "    if last_vali_rmse and last_vali_rmse < vali_rmse:\n",
    "        break\n",
    "    else:\n",
    "        last_vali_rmse = vali_rmse"
   ]
  },
  {
   "cell_type": "code",
   "execution_count": 14,
   "id": "28f3bcc3-b1b9-49a4-a514-bdab2499400c",
   "metadata": {},
   "outputs": [],
   "source": [
    "torch.save(model.state_dict(), os.path.join(model_dir, 'trained_pmf.pt'))"
   ]
  },
  {
   "cell_type": "code",
   "execution_count": 15,
   "id": "620eade4-9a63-4e1a-8179-abe0254c060a",
   "metadata": {},
   "outputs": [
    {
     "name": "stdout",
     "output_type": "stream",
     "text": [
      "------------------------------------------- Testing Model------------------------------------------------\n"
     ]
    }
   ],
   "source": [
    "print('------------------------------------------- Testing Model------------------------------------------------')\n",
    "\n",
    "# Move test set to CUDA\n",
    "if cuda:\n",
    "    test_row = Variable(test_data_full[0][:,0]).long().cuda()\n",
    "    test_col = Variable(test_data_full[0][:,1]).long().cuda()\n",
    "else:\n",
    "    test_row = Variable(test_data_full[0][:,0]).long()\n",
    "    test_col = Variable(test_data_full[0][:,1]).long()"
   ]
  },
  {
   "cell_type": "code",
   "execution_count": 16,
   "id": "6d8fc91c-79b3-45ef-b6d9-470dd8e6182c",
   "metadata": {},
   "outputs": [
    {
     "name": "stdout",
     "output_type": "stream",
     "text": [
      "Test rmse: 1.097730\n"
     ]
    }
   ],
   "source": [
    "# Get test predictions\n",
    "preds = model.predict(test_row, test_col)\n",
    "\n",
    "# Get test rmse loss\n",
    "if cuda:\n",
    "    test_rmse = RMSE(preds.cpu().data.numpy(), test_data_full[1].data.numpy())\n",
    "else:\n",
    "    test_rmse = RMSE(preds.data.numpy(), test_data_full[1].data.numpy())\n",
    "\n",
    "print('Test rmse: {:f}'.format(test_rmse))"
   ]
  },
  {
   "cell_type": "code",
   "execution_count": 17,
   "id": "fae61544-b738-4720-9288-b520872c1215",
   "metadata": {},
   "outputs": [
    {
     "data": {
      "image/png": "[encoded data removed]",
      "text/plain": [
       "<Figure size 432x288 with 1 Axes>"
      ]
     },
     "metadata": {
      "needs_background": "light"
     },
     "output_type": "display_data"
    }
   ],
   "source": [
    "# Create plots\n",
    "plt.figure(1)\n",
    "plt.plot(range(1, len(train_rmse_list)+1), train_rmse_list, color='r', label='train rmse')\n",
    "plt.plot(range(1, len(vali_rmse_list)+1), vali_rmse_list, color='b', label='test rmse')\n",
    "plt.legend()\n",
    "plt.annotate(r'train=%f' % (train_rmse_list[-1]), xy=(len(train_rmse_list), train_rmse_list[-1]),\n",
    "            xycoords='data', xytext=(-30, 30), textcoords='offset points', fontsize=10,\n",
    "            arrowprops=dict(arrowstyle='->', connectionstyle='arc3, rad=.2'))\n",
    "plt.annotate(r'vali=%f' % (vali_rmse_list[-1]), xy=(len(vali_rmse_list), vali_rmse_list[-1]),\n",
    "            xycoords='data', xytext=(-30, 30), textcoords='offset points', fontsize=10,\n",
    "            arrowprops=dict(arrowstyle='->', connectionstyle='arc3, rad=.2'))\n",
    "plt.xlim([1, len(train_rmse_list)+10])\n",
    "plt.xlabel('iterations')\n",
    "plt.ylabel('RMSE')\n",
    "plt.title('RMSE Curve in Training Process')\n",
    "plt.savefig(\"pmf-training-curve.png\")\n",
    "plt.show()"
   ]
  },
  {
   "cell_type": "code",
   "execution_count": null,
   "id": "14327f4c-c53f-4bff-ae0e-5eda48a05b16",
   "metadata": {},
   "outputs": [],
   "source": []
  }
 ],
 "metadata": {
  "kernelspec": {
   "display_name": "Python 3 (ipykernel)",
   "language": "python",
   "name": "python3"
  },
  "language_info": {
   "codemirror_mode": {
    "name": "ipython",
    "version": 3
   },
   "file_extension": ".py",
   "mimetype": "text/x-python",
   "name": "python",
   "nbconvert_exporter": "python",
   "pygments_lexer": "ipython3",
   "version": "3.10.4"
  }
 },
 "nbformat": 4,
 "nbformat_minor": 5
}
