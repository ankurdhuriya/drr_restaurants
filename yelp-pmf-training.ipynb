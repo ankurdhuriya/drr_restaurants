{
 "cells": [
  {
   "cell_type": "code",
   "execution_count": 1,
   "id": "32ac2228-17d3-4c12-bcb8-9720fce19379",
   "metadata": {},
   "outputs": [],
   "source": [
    "from __future__ import print_function\n",
    "import numpy as np\n",
    "import pickle\n",
    "import torch\n",
    "import torch.nn as nn\n",
    "import torch.optim as optim\n",
    "from torch.autograd import Variable\n",
    "from torch.utils.data import Dataset, DataLoader\n",
    "import matplotlib.pyplot as plt\n",
    " \n",
    "from model import PMF\n",
    "from evaluations import RMSE"
   ]
  },
  {
   "cell_type": "code",
   "execution_count": 2,
   "id": "b8911788-cf47-4705-bfda-035c7e615fa0",
   "metadata": {},
   "outputs": [],
   "source": [
    "# --------------------------------------------- HYPERPARAMETERS ----------------------------------------------------\n",
    "# Input batch size for training\n",
    "batch_size = 1024\n",
    "# Number of maximum epoches to train\n",
    "epoches = 100\n",
    "# Enables CUDA training\n",
    "use_cuda = False\n",
    "# Generate random seed\n",
    "seed = 1\n",
    "# Weight decay\n",
    "weight_decay = 0.1\n",
    "# Size of embedding features\n",
    "embedding_feature_size = 100\n",
    "# Training ratio\n",
    "ratio = 0.8\n",
    "# Learning rate\n",
    "lr = 0.0001\n",
    "# Momentum value\n",
    "momentum = 0.9"
   ]
  },
  {
   "cell_type": "code",
   "execution_count": 3,
   "id": "fec79ecb-c964-4899-9b9b-1182f71588de",
   "metadata": {},
   "outputs": [
    {
     "name": "stdout",
     "output_type": "stream",
     "text": [
      "Loaded user\n",
      "Loaded rest\n",
      "Loaded data\n"
     ]
    }
   ],
   "source": [
    "# Load datasets\n",
    "user = pickle.load(open('dataset/user_id_to_num.pkl', 'rb'))\n",
    "print(\"Loaded user\")\n",
    "rest = pickle.load(open('dataset/rest_id_to_num.pkl', 'rb'))\n",
    "print(\"Loaded rest\")\n",
    "data = np.load('dataset/data.npy')\n",
    "print(\"Loaded data\")"
   ]
  },
  {
   "cell_type": "code",
   "execution_count": 4,
   "id": "a451abb4-4207-48c8-b420-f58081b7bd27",
   "metadata": {},
   "outputs": [
    {
     "name": "stdout",
     "output_type": "stream",
     "text": [
      "1245 40829\n"
     ]
    }
   ],
   "source": [
    "NUM_USERS = len(user)\n",
    "NUM_ITEMS = len(rest)\n",
    "\n",
    "print(NUM_USERS, NUM_ITEMS)"
   ]
  },
  {
   "cell_type": "code",
   "execution_count": 5,
   "id": "87423e32-c315-437b-9bc7-f25de4ec3733",
   "metadata": {},
   "outputs": [],
   "source": [
    "# Shuffle data\n",
    "np.random.shuffle(data)\n",
    " \n",
    "# Split data\n",
    "train = data[:int(ratio*data.shape[0])]\n",
    "valid = data[int(ratio*data.shape[0]):int((ratio+(1-ratio)/2)*data.shape[0])]\n",
    "test = data[int((ratio+(1-ratio)/2)*data.shape[0]):]"
   ]
  },
  {
   "cell_type": "code",
   "execution_count": 6,
   "id": "69cc7f3e-fb22-4ebb-a7ce-3c5570799d8e",
   "metadata": {},
   "outputs": [],
   "source": [
    "cuda = torch.cuda.is_available()\n",
    "device = torch.device(\"cuda\" if cuda and use_cuda else \"cpu\")"
   ]
  },
  {
   "cell_type": "code",
   "execution_count": 7,
   "id": "4d013874-b892-43e5-975e-f1a027fa369b",
   "metadata": {},
   "outputs": [],
   "source": [
    "torch.manual_seed(seed=seed)\n",
    "if cuda:\n",
    "    torch.cuda.empty_cache()\n",
    "    torch.cuda.manual_seed(seed=seed)"
   ]
  },
  {
   "cell_type": "code",
   "execution_count": 8,
   "id": "5857bc78-9c91-4b3e-b96a-dd9894836abd",
   "metadata": {},
   "outputs": [],
   "source": [
    "kwargs = {'num_workers':2, 'pin_memory':True} if cuda else {}"
   ]
  },
  {
   "cell_type": "code",
   "execution_count": 13,
   "id": "ec723c60-5197-4806-80b8-0fe359c2451d",
   "metadata": {},
   "outputs": [],
   "source": [
    "class YelpDataset(Dataset):\n",
    "    def __init__(self, data, transform=None):\n",
    "        self.data = data\n",
    "        self.transform = transform\n",
    "        pass\n",
    "    \n",
    "    def __len__(self):\n",
    "        return len(self.data)\n",
    "    \n",
    "    def __getitem__(self, idx):\n",
    "        if torch.is_tensor(idx):\n",
    "            idx = idx.tolist()\n",
    "        sample = self.data[idx, :]\n",
    "        return sample[:3]"
   ]
  },
  {
   "cell_type": "code",
   "execution_count": 14,
   "id": "cc7d294b-411d-4cf9-a8c6-cfefb18b6047",
   "metadata": {},
   "outputs": [],
   "source": [
    "train_dataset = YelpDataset(train)\n",
    "train_data_loader = DataLoader(train_dataset, batch_size=batch_size, shuffle=False, **kwargs)"
   ]
  },
  {
   "cell_type": "code",
   "execution_count": 15,
   "id": "eef51a46-7b1e-4453-9e3c-cb8013b6bbb0",
   "metadata": {},
   "outputs": [],
   "source": [
    "valid_dataset = YelpDataset(valid)\n",
    "vald_data_loader = DataLoader(valid_dataset, batch_size=len(valid), shuffle=False, **kwargs)\n",
    "valid_data = next(iter(vald_data_loader))"
   ]
  },
  {
   "cell_type": "code",
   "execution_count": 16,
   "id": "0142c609-fa8a-49b7-a946-2942ba9b5460",
   "metadata": {},
   "outputs": [],
   "source": [
    "test_dataset = YelpDataset(test)\n",
    "test_data_loader = DataLoader(test_dataset, batch_size=len(test), shuffle=False, **kwargs)\n",
    "test_data = next(iter(test_data_loader))"
   ]
  },
  {
   "cell_type": "code",
   "execution_count": 25,
   "id": "d294b6bd-147a-48e1-a3c2-d60b477cc35c",
   "metadata": {},
   "outputs": [
    {
     "data": {
      "text/plain": [
       "array([1, 2, 3, 4, 5])"
      ]
     },
     "execution_count": 25,
     "metadata": {},
     "output_type": "execute_result"
    }
   ],
   "source": [
    "np.unique(valid_data[:, 2])"
   ]
  },
  {
   "cell_type": "code",
   "execution_count": 26,
   "id": "a808ce66-e39b-43d8-981d-a925d1642ef5",
   "metadata": {},
   "outputs": [],
   "source": [
    "# Initialize model\n",
    "model = PMF(n_users=NUM_USERS, n_items=NUM_ITEMS, n_factors=embedding_feature_size, no_cuda=use_cuda)\n",
    " \n",
    "# Move model to CUDA if CUDA selected\n",
    "if cuda:\n",
    "    model.cuda()\n",
    "    print(\"Model moved to CUDA\")\n",
    " \n",
    "# Set loss function\n",
    "loss_function = nn.MSELoss(reduction='sum')\n",
    " \n",
    "# Set optimizer (uncomment Adam for adam)\n",
    "optimizer = optim.SGD(model.parameters(), lr=lr, weight_decay=weight_decay, momentum=momentum)"
   ]
  },
  {
   "cell_type": "code",
   "execution_count": 27,
   "id": "7ec76380-b785-40dd-b66b-ebb45aacfd43",
   "metadata": {},
   "outputs": [
    {
     "name": "stdout",
     "output_type": "stream",
     "text": [
      "total batches 82\n"
     ]
    }
   ],
   "source": [
    "print(f\"total batches {len(train_data_loader)}\")"
   ]
  },
  {
   "cell_type": "code",
   "execution_count": 30,
   "id": "e332d536-3a64-4222-a817-a48939ba072f",
   "metadata": {},
   "outputs": [],
   "source": [
    "def train(epoch, train_data_loader):\n",
    "    # Initialize\n",
    "    model.train()\n",
    "    epoch_loss = 0.0\n",
    "    optimizer.zero_grad()\n",
    " \n",
    "    # Go through batches\n",
    "    for batch_idx, ele in enumerate(train_data_loader):\n",
    "        # Zero optimizer gradient\n",
    "        optimizer.zero_grad()\n",
    " \n",
    "        # Extract user_id_nums: row, item_id_nums: col, ratings: val\n",
    "        row = ele[:, 0]\n",
    "        col = ele[:, 1]\n",
    "        val = ele[:, 2]\n",
    " \n",
    "        # Set to variables\n",
    "        row = Variable(row.long())\n",
    "        if isinstance(col, list):\n",
    "            col = tuple(Variable(c.long()) for c in col)\n",
    "        else:\n",
    "            col = Variable(col.long())\n",
    "        val = Variable(val.float())\n",
    " \n",
    "        # Move data to CUDA\n",
    "        if cuda:\n",
    "            row = row.cuda()\n",
    "            col = col.cuda()\n",
    "            val = val.cuda()\n",
    " \n",
    "        # Train\n",
    "        preds = model.forward(row, col)\n",
    "        loss = loss_function(preds, val)\n",
    "        loss.backward()\n",
    "        optimizer.step()\n",
    " \n",
    "        # Update epoch loss\n",
    "        epoch_loss += loss.item()\n",
    "        \n",
    "        print(f\"Epoch {epoch}, batch_idx {batch_idx}, epoch_loss {loss.item()}\", end='\\r')\n",
    " \n",
    "    epoch_loss /= len(train_data_loader.dataset)\n",
    "    return epoch_loss\n"
   ]
  },
  {
   "cell_type": "code",
   "execution_count": 31,
   "id": "e2bac5a1-4886-42b4-9789-0d331159bcb4",
   "metadata": {},
   "outputs": [
    {
     "name": "stdout",
     "output_type": "stream",
     "text": [
      "------------------------------------------- Training Model------------------------------------------------\n",
      "parameters are: train ratio:0.800000,batch_size:1024, epoches:100, weight_decay:0.100000\n",
      "PMF(\n",
      "  (user_embeddings): Embedding(1245, 100)\n",
      "  (item_embeddings): Embedding(40829, 100)\n",
      "  (ub): Embedding(1245, 1)\n",
      "  (ib): Embedding(40829, 1)\n",
      ")\n",
      "Training epoch: 10, training rmse: 1.187908, vali rmse:1.248801\n",
      "Training epoch: 20, training rmse: 0.983555, vali rmse:1.099946\n",
      "Training epoch: 30, training rmse: 0.890710, vali rmse:1.047827\n",
      "Training epoch: 40, training rmse: 0.830801, vali rmse:1.024964\n",
      "Training epoch: 50, training rmse: 0.785254, vali rmse:1.014196\n",
      "Training epoch: 60, training rmse: 0.746637, vali rmse:1.008851\n",
      "Training epoch: 70, training rmse: 0.712102, vali rmse:1.006080\n",
      "Training epoch: 80, training rmse: 0.681501, vali rmse:1.004742\n",
      "Training epoch: 90, training rmse: 0.654919, vali rmse:1.004309\n",
      "Epoch 93, batch_idx 81, epoch_loss 405.54696655273445\r"
     ]
    }
   ],
   "source": [
    "print('------------------------------------------- Training Model------------------------------------------------')\n",
    "train_loss_list = []\n",
    "last_vali_rmse = None\n",
    "train_rmse_list = []\n",
    "vali_rmse_list = []\n",
    "print('parameters are: train ratio:{:f},batch_size:{:d}, epoches:{:d}, weight_decay:{:f}'.format(ratio, batch_size, epoches, weight_decay))\n",
    "print(model)\n",
    " \n",
    "# Go through epochs\n",
    "for epoch in range(1, epoches+1):\n",
    " \n",
    "    # Train epoch\n",
    "    train_epoch_loss = train(epoch, train_data_loader)\n",
    " \n",
    "    # Get epoch loss\n",
    "    train_loss_list.append(train_epoch_loss)\n",
    " \n",
    "    # Move validation data to CUDA\n",
    "    if cuda:\n",
    "        vali_row = Variable(valid_data[:, 0]).long().cuda()\n",
    "        vali_col = Variable(valid_data[:, 1]).long().cuda()\n",
    "    else:\n",
    "        vali_row = Variable(valid_data[:, 0]).long()\n",
    "        vali_col = Variable(valid_data[:, 1]).long()\n",
    " \n",
    "    # Get validation predictions\n",
    "    vali_preds = model.predict(vali_row, vali_col)\n",
    " \n",
    "    # Calculate train rmse loss\n",
    "    train_rmse = np.sqrt(train_epoch_loss)\n",
    " \n",
    "    # Calculate validation rmse loss\n",
    "    if cuda:\n",
    "        vali_rmse = RMSE(vali_preds.cpu().data.numpy(), valid_data[:, 2].cpu().data.numpy())\n",
    "    else:\n",
    "        vali_rmse = RMSE(vali_preds.data.numpy(), valid_data[:, 2].data.numpy())\n",
    " \n",
    "    # Add losses to rmse loss lists\n",
    "    train_rmse_list.append(train_rmse)\n",
    "    vali_rmse_list.append(vali_rmse)\n",
    "    \n",
    "    if epoch % 10 == 0:\n",
    "        print('Training epoch:{: d}, training rmse:{: .6f}, vali rmse:{:.6f}'. \\\n",
    "              format(epoch, train_rmse, vali_rmse))\n",
    " \n",
    "    # Early stop condition\n",
    "    if last_vali_rmse and last_vali_rmse < vali_rmse:\n",
    "        break\n",
    "    else:\n",
    "        last_vali_rmse = vali_rmse\n",
    " "
   ]
  },
  {
   "cell_type": "code",
   "execution_count": 33,
   "id": "94d35ec2-9d23-4c0b-a637-0a8b512171a0",
   "metadata": {},
   "outputs": [
    {
     "name": "stdout",
     "output_type": "stream",
     "text": [
      "Test rmse: 1.015752\n"
     ]
    },
    {
     "data": {
      "image/png": "[encoded data removed]",
      "text/plain": [
       "<Figure size 432x288 with 1 Axes>"
      ]
     },
     "metadata": {
      "needs_background": "light"
     },
     "output_type": "display_data"
    }
   ],
   "source": [
    "# Move test set to CUDA\n",
    "if cuda:\n",
    "    test_row = Variable(test_data[:, 0]).long().cuda()\n",
    "    test_col = Variable(test_data[:, 1]).long().cuda()\n",
    "else:\n",
    "    test_row = Variable(test_data[:, 0]).long()\n",
    "    test_col = Variable(test_data[:, 1]).long()\n",
    "\n",
    "preds = model.predict(test_row, test_col)\n",
    " \n",
    "# Get test rmse loss\n",
    "if cuda:\n",
    "    test_rmse = RMSE(preds.cpu().data.numpy(), test_data[:, 2].data.numpy())\n",
    "else:\n",
    "    test_rmse = RMSE(preds.data.numpy(), test_data[:, 2].data.numpy())\n",
    "print('Test rmse: {:f}'.format(test_rmse))\n",
    " \n",
    "# Create plots\n",
    "plt.figure(1)\n",
    "plt.plot(range(1, len(train_rmse_list)+1), train_rmse_list, color='r', label='train rmse')\n",
    "plt.plot(range(1, len(vali_rmse_list)+1), vali_rmse_list, color='b', label='test rmse')\n",
    "plt.legend()\n",
    "plt.annotate(r'train=%f' % (train_rmse_list[-1]), xy=(len(train_rmse_list), train_rmse_list[-1]),\n",
    "             xycoords='data', xytext=(-30, 30), textcoords='offset points', fontsize=10,\n",
    "             arrowprops=dict(arrowstyle='->', connectionstyle='arc3, rad=.2'))\n",
    "plt.annotate(r'vali=%f' % (vali_rmse_list[-1]), xy=(len(vali_rmse_list), vali_rmse_list[-1]),\n",
    "             xycoords='data', xytext=(-30, 30), textcoords='offset points', fontsize=10,\n",
    "             arrowprops=dict(arrowstyle='->', connectionstyle='arc3, rad=.2'))\n",
    "plt.xlim([1, len(train_rmse_list)+10])\n",
    "plt.xlabel('iterations')\n",
    "plt.ylabel('RMSE')\n",
    "plt.title('RMSE Curve in Training Process')\n",
    "plt.savefig('RMSE-Curve-PMF-yelp.png')\n",
    "plt.show()\n",
    " "
   ]
  },
  {
   "cell_type": "code",
   "execution_count": 34,
   "id": "40afcac2-1f60-458f-a679-671ac3159d6f",
   "metadata": {},
   "outputs": [],
   "source": [
    "# Save model\n",
    "path_to_trained_pmf = 'trained/yelp_ratio_{:f}_bs_{:d}_e_{:d}_wd_{:f}_lr_{:f}_trained_pmf.pt'.format(ratio, batch_size, len(train_rmse_list), weight_decay, lr)\n",
    "torch.save(model.state_dict(), path_to_trained_pmf)"
   ]
  },
  {
   "cell_type": "code",
   "execution_count": 20,
   "id": "53fa270d-782a-46d1-ad66-14a7bbc260d1",
   "metadata": {},
   "outputs": [],
   "source": [
    "import pandas as pd"
   ]
  },
  {
   "cell_type": "code",
   "execution_count": 25,
   "id": "254feb25-f773-4746-bda4-3d1c979119a3",
   "metadata": {},
   "outputs": [
    {
     "data": {
      "text/plain": [
       "array([499, 530, 273, ..., 905, 807, 273])"
      ]
     },
     "execution_count": 25,
     "metadata": {},
     "output_type": "execute_result"
    }
   ],
   "source": [
    "test[:, 0]"
   ]
  },
  {
   "cell_type": "code",
   "execution_count": 37,
   "id": "26f020af-055a-45ac-8c96-8f2082fff5f5",
   "metadata": {},
   "outputs": [
    {
     "data": {
      "text/plain": [
       "(tensor(-0.5677, grad_fn=<MinBackward1>),\n",
       " tensor(1.1993, grad_fn=<MaxBackward1>))"
      ]
     },
     "execution_count": 37,
     "metadata": {},
     "output_type": "execute_result"
    }
   ],
   "source": [
    "torch.min(preds), torch.max(preds)"
   ]
  },
  {
   "cell_type": "code",
   "execution_count": 42,
   "id": "d5e7b4b7-f35d-43d0-b51b-171cefac6bb6",
   "metadata": {},
   "outputs": [
    {
     "data": {
      "text/plain": [
       "tensor([2., 3., 4., 5.], grad_fn=<Unique2Backward0>)"
      ]
     },
     "execution_count": 42,
     "metadata": {},
     "output_type": "execute_result"
    }
   ],
   "source": [
    "torch.unique(((preds*2.0)+3.0).round())"
   ]
  },
  {
   "cell_type": "code",
   "execution_count": 44,
   "id": "995b2c3b-69fb-4a14-9c5b-37c1d6edb04f",
   "metadata": {},
   "outputs": [],
   "source": [
    "test_prediction_analysis = pd.DataFrame({'user':test[:, 0], \n",
    "                                         'item': test[:, 1],\n",
    "                                         'predicted': ((preds*2.0)+3.0).round().detach().long().numpy(), \n",
    "                                         'actual': test[:, 2]})"
   ]
  },
  {
   "cell_type": "code",
   "execution_count": 45,
   "id": "9d741b45-51af-4b1a-934a-392e89a5ecf5",
   "metadata": {},
   "outputs": [
    {
     "data": {
      "image/png": "[encoded data removed]",
      "text/plain": [
       "<Figure size 432x288 with 1 Axes>"
      ]
     },
     "metadata": {
      "needs_background": "light"
     },
     "output_type": "display_data"
    }
   ],
   "source": [
    "plt.hist(test_prediction_analysis['predicted'])\n",
    "plt.show()"
   ]
  },
  {
   "cell_type": "code",
   "execution_count": 46,
   "id": "2a6ebacc-05a2-4550-b2b1-60ad4fc45af7",
   "metadata": {},
   "outputs": [
    {
     "data": {
      "text/plain": [
       "array([4, 3, 2, 5])"
      ]
     },
     "execution_count": 46,
     "metadata": {},
     "output_type": "execute_result"
    }
   ],
   "source": [
    "test_prediction_analysis.predicted.unique()"
   ]
  },
  {
   "cell_type": "code",
   "execution_count": 47,
   "id": "949bb86f-17d5-4b04-9011-3d1ca2a8682f",
   "metadata": {},
   "outputs": [
    {
     "data": {
      "image/png": "[encoded data removed]",
      "text/plain": [
       "<Figure size 432x288 with 1 Axes>"
      ]
     },
     "metadata": {
      "needs_background": "light"
     },
     "output_type": "display_data"
    }
   ],
   "source": [
    "plt.hist(test_prediction_analysis['actual'])\n",
    "plt.show()"
   ]
  },
  {
   "cell_type": "code",
   "execution_count": null,
   "id": "52e7b056-8fed-40d9-9158-48861f67397b",
   "metadata": {},
   "outputs": [],
   "source": [
    "test_prediction_analysis.actual.unique()"
   ]
  },
  {
   "cell_type": "code",
   "execution_count": null,
   "id": "0511050e-8d6a-4c5c-9d79-abf32a1259dc",
   "metadata": {},
   "outputs": [],
   "source": [
    "model.predict(torch.tensor(520), torch.tensor(37984))"
   ]
  },
  {
   "cell_type": "code",
   "execution_count": null,
   "id": "6a88af8b-0b31-4a42-8ede-22f294ad707e",
   "metadata": {},
   "outputs": [],
   "source": [
    "for i in range(NUM_ITEMS):\n",
    "    p = model.predict(torch.tensor(123), torch.tensor(i)).round().item()\n",
    "    if p > 5:\n",
    "        print(i, p)"
   ]
  },
  {
   "cell_type": "code",
   "execution_count": null,
   "id": "a6bf678b-4133-45d2-be59-ec4db7ac80bd",
   "metadata": {},
   "outputs": [],
   "source": [
    "test_prediction_analysis[test_prediction_analysis.predicted==0]"
   ]
  },
  {
   "cell_type": "code",
   "execution_count": null,
   "id": "cda8496d-811c-46de-80d3-340e117d3d3c",
   "metadata": {},
   "outputs": [],
   "source": [
    "test_prediction_analysis.to_csv('test_prediction_analysis-yelp.csv', index=None)"
   ]
  },
  {
   "cell_type": "code",
   "execution_count": null,
   "id": "9385fdc2-f6c4-4def-a81d-99d0b8025732",
   "metadata": {},
   "outputs": [],
   "source": []
  }
 ],
 "metadata": {
  "kernelspec": {
   "display_name": "Python 3 (ipykernel)",
   "language": "python",
   "name": "python3"
  },
  "language_info": {
   "codemirror_mode": {
    "name": "ipython",
    "version": 3
   },
   "file_extension": ".py",
   "mimetype": "text/x-python",
   "name": "python",
   "nbconvert_exporter": "python",
   "pygments_lexer": "ipython3",
   "version": "3.10.4"
  }
 },
 "nbformat": 4,
 "nbformat_minor": 5
}
