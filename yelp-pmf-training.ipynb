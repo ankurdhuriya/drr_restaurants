{
 "cells": [
  {
   "cell_type": "code",
   "execution_count": 1,
   "id": "32ac2228-17d3-4c12-bcb8-9720fce19379",
   "metadata": {},
   "outputs": [],
   "source": [
    "from __future__ import print_function\n",
    "import numpy as np\n",
    "import pickle\n",
    "import torch\n",
    "import torch.nn as nn\n",
    "import torch.optim as optim\n",
    "from torch.autograd import Variable\n",
    "from torch.utils.data import Dataset, DataLoader\n",
    "import matplotlib.pyplot as plt\n",
    " \n",
    "from model import PMF\n",
    "from evaluations import RMSE"
   ]
  },
  {
   "cell_type": "code",
   "execution_count": 2,
   "id": "b8911788-cf47-4705-bfda-035c7e615fa0",
   "metadata": {},
   "outputs": [],
   "source": [
    "# --------------------------------------------- HYPERPARAMETERS ----------------------------------------------------\n",
    "# Input batch size for training\n",
    "batch_size = 64\n",
    "# Number of maximum epoches to train\n",
    "epoches = 100\n",
    "# Enables CUDA training\n",
    "use_cuda = False\n",
    "# Generate random seed\n",
    "seed = 1\n",
    "# Weight decay\n",
    "weight_decay = 0.1\n",
    "# Size of embedding features\n",
    "embedding_feature_size = 100\n",
    "# Training ratio\n",
    "ratio = 0.8\n",
    "# Learning rate\n",
    "lr = 0.0001\n",
    "# Momentum value\n",
    "momentum = 0.9"
   ]
  },
  {
   "cell_type": "code",
   "execution_count": 3,
   "id": "fec79ecb-c964-4899-9b9b-1182f71588de",
   "metadata": {},
   "outputs": [
    {
     "name": "stdout",
     "output_type": "stream",
     "text": [
      "Loaded user\n",
      "Loaded rest\n",
      "Loaded data\n"
     ]
    }
   ],
   "source": [
    "# Load datasets\n",
    "user = pickle.load(open('dataset/user_id_to_num.pkl', 'rb'))\n",
    "print(\"Loaded user\")\n",
    "rest = pickle.load(open('dataset/rest_id_to_num.pkl', 'rb'))\n",
    "print(\"Loaded rest\")\n",
    "data = np.load('dataset/data.npy')\n",
    "print(\"Loaded data\")"
   ]
  },
  {
   "cell_type": "code",
   "execution_count": 4,
   "id": "a451abb4-4207-48c8-b420-f58081b7bd27",
   "metadata": {},
   "outputs": [
    {
     "name": "stdout",
     "output_type": "stream",
     "text": [
      "1245 40829\n"
     ]
    }
   ],
   "source": [
    "NUM_USERS = len(user)\n",
    "NUM_ITEMS = len(rest)\n",
    "\n",
    "print(NUM_USERS, NUM_ITEMS)"
   ]
  },
  {
   "cell_type": "code",
   "execution_count": 5,
   "id": "87423e32-c315-437b-9bc7-f25de4ec3733",
   "metadata": {},
   "outputs": [],
   "source": [
    "# Shuffle data\n",
    "np.random.shuffle(data)\n",
    " \n",
    "# Split data\n",
    "train_data = data[:int(ratio*data.shape[0])]\n",
    "vali_data = data[int(ratio*data.shape[0]):int((ratio+(1-ratio)/2)*data.shape[0])]\n",
    "test_data = data[int((ratio+(1-ratio)/2)*data.shape[0]):]"
   ]
  },
  {
   "cell_type": "code",
   "execution_count": 6,
   "id": "69cc7f3e-fb22-4ebb-a7ce-3c5570799d8e",
   "metadata": {},
   "outputs": [],
   "source": [
    "cuda = torch.cuda.is_available()\n",
    "device = torch.device(\"cuda\" if cuda and use_cuda else \"cpu\")"
   ]
  },
  {
   "cell_type": "code",
   "execution_count": 7,
   "id": "4d013874-b892-43e5-975e-f1a027fa369b",
   "metadata": {},
   "outputs": [],
   "source": [
    "torch.manual_seed(seed=seed)\n",
    "if cuda:\n",
    "    torch.cuda.empty_cache()\n",
    "    torch.cuda.manual_seed(seed=seed)"
   ]
  },
  {
   "cell_type": "code",
   "execution_count": 8,
   "id": "5857bc78-9c91-4b3e-b96a-dd9894836abd",
   "metadata": {},
   "outputs": [],
   "source": [
    "kwargs = {'num_workers':2, 'pin_memory':True} if cuda else {}"
   ]
  },
  {
   "cell_type": "code",
   "execution_count": 9,
   "id": "ec723c60-5197-4806-80b8-0fe359c2451d",
   "metadata": {},
   "outputs": [],
   "source": [
    "class YelpDataset(Dataset):\n",
    "    def __init__(self, data, transform=None):\n",
    "        self.data = data\n",
    "        self.transform = transform\n",
    "        pass\n",
    "    \n",
    "    def __len__(self):\n",
    "        return len(self.data)\n",
    "    \n",
    "    def __getitem__(self, idx):\n",
    "        if torch.is_tensor(idx):\n",
    "            idx = idx.tolist()\n",
    "        \n",
    "        sample = self.data[[idx], :]\n",
    "            \n",
    "        return sample[:, [0, 1, 2]].squeeze()"
   ]
  },
  {
   "cell_type": "code",
   "execution_count": 10,
   "id": "cc7d294b-411d-4cf9-a8c6-cfefb18b6047",
   "metadata": {},
   "outputs": [],
   "source": [
    "train_dataset = YelpDataset(train_data)\n",
    "train_data_loader = DataLoader(train_dataset, batch_size=batch_size, shuffle=False, **kwargs)"
   ]
  },
  {
   "cell_type": "code",
   "execution_count": 11,
   "id": "eef51a46-7b1e-4453-9e3c-cb8013b6bbb0",
   "metadata": {},
   "outputs": [],
   "source": [
    "valid_dataset = YelpDataset(vali_data)\n",
    "vald_data_loader = DataLoader(valid_dataset, batch_size=len(vali_data), shuffle=False, **kwargs)\n",
    "valid_data = next(iter(vald_data_loader))"
   ]
  },
  {
   "cell_type": "code",
   "execution_count": 12,
   "id": "0142c609-fa8a-49b7-a946-2942ba9b5460",
   "metadata": {},
   "outputs": [],
   "source": [
    "test_dataset = YelpDataset(test_data)\n",
    "test_data_loader = DataLoader(test_dataset, batch_size=len(vali_data), shuffle=False, **kwargs)\n",
    "test_data = next(iter(test_data_loader))"
   ]
  },
  {
   "cell_type": "code",
   "execution_count": 13,
   "id": "a808ce66-e39b-43d8-981d-a925d1642ef5",
   "metadata": {},
   "outputs": [],
   "source": [
    "# Initialize model\n",
    "model = PMF(n_users=NUM_USERS, n_items=NUM_ITEMS, n_factors=embedding_feature_size, no_cuda=use_cuda)\n",
    " \n",
    "# Move model to CUDA if CUDA selected\n",
    "if cuda:\n",
    "    model.cuda()\n",
    "    print(\"Model moved to CUDA\")\n",
    " \n",
    "# Set loss function\n",
    "loss_function = nn.MSELoss(reduction='sum')\n",
    " \n",
    "# Set optimizer (uncomment Adam for adam)\n",
    "optimizer = optim.SGD(model.parameters(), lr=lr, weight_decay=weight_decay, momentum=momentum)"
   ]
  },
  {
   "cell_type": "code",
   "execution_count": 14,
   "id": "7ec76380-b785-40dd-b66b-ebb45aacfd43",
   "metadata": {},
   "outputs": [
    {
     "name": "stdout",
     "output_type": "stream",
     "text": [
      "total batches 1311\n"
     ]
    }
   ],
   "source": [
    "print(f\"total batches {len(train_data_loader)}\")"
   ]
  },
  {
   "cell_type": "code",
   "execution_count": 15,
   "id": "e332d536-3a64-4222-a817-a48939ba072f",
   "metadata": {},
   "outputs": [],
   "source": [
    "def train(epoch, train_data_loader):\n",
    "    # Initialize\n",
    "    model.train()\n",
    "    epoch_loss = 0.0\n",
    "    optimizer.zero_grad()\n",
    " \n",
    "    # Go through batches\n",
    "    for batch_idx, ele in enumerate(train_data_loader):\n",
    "        # Zero optimizer gradient\n",
    "        optimizer.zero_grad()\n",
    " \n",
    "        # Extract user_id_nums: row, item_id_nums: col, ratings: val\n",
    "        row = ele[:, 0]\n",
    "        col = ele[:, 1]\n",
    "        val = ele[:, 2]\n",
    " \n",
    "        # Set to variables\n",
    "        row = Variable(row.long())\n",
    "        if isinstance(col, list):\n",
    "            col = tuple(Variable(c.long()) for c in col)\n",
    "        else:\n",
    "            col = Variable(col.long())\n",
    "        val = Variable(val.float())\n",
    " \n",
    "        # Move data to CUDA\n",
    "        if cuda:\n",
    "            row = row.cuda()\n",
    "            col = col.cuda()\n",
    "            val = val.cuda()\n",
    " \n",
    "        # Train\n",
    "        preds = model.forward(row, col)\n",
    "        loss = loss_function(preds, val)\n",
    "        loss.backward()\n",
    "        optimizer.step()\n",
    " \n",
    "        # Update epoch loss\n",
    "        epoch_loss += loss.item()\n",
    "        \n",
    "        print(f\"Epoch {epoch}, batch_idx {batch_idx}, epoch_loss {loss.item()}\", end='\\r')\n",
    " \n",
    "    epoch_loss /= len(train_data_loader.dataset)\n",
    "    return epoch_loss\n"
   ]
  },
  {
   "cell_type": "code",
   "execution_count": 16,
   "id": "e2bac5a1-4886-42b4-9789-0d331159bcb4",
   "metadata": {},
   "outputs": [
    {
     "name": "stdout",
     "output_type": "stream",
     "text": [
      "------------------------------------------- Training Model------------------------------------------------\n",
      "parameters are: train ratio:0.800000,batch_size:64, epoches:100, weight_decay:0.100000\n",
      "PMF(\n",
      "  (user_embeddings): Embedding(1245, 100)\n",
      "  (item_embeddings): Embedding(40829, 100)\n",
      "  (ub): Embedding(1245, 1)\n",
      "  (ib): Embedding(40829, 1)\n",
      ")\n",
      "Training epoch: 1, training rmse: 2.723436, vali rmse:2.274824\n",
      "Training epoch: 2, training rmse: 2.110635, vali rmse:2.013248\n",
      "Training epoch: 3, training rmse: 1.923591, vali rmse:1.893980\n",
      "Training epoch: 4, training rmse: 1.825149, vali rmse:1.824771\n",
      "Training epoch: 5, training rmse: 1.764223, vali rmse:1.780200\n",
      "Training epoch: 6, training rmse: 1.723511, vali rmse:1.749667\n",
      "Training epoch: 7, training rmse: 1.695010, vali rmse:1.727849\n",
      "Training epoch: 8, training rmse: 1.674416, vali rmse:1.711762\n",
      "Training epoch: 9, training rmse: 1.659188, vali rmse:1.699611\n",
      "Training epoch: 10, training rmse: 1.647732, vali rmse:1.690254\n",
      "Training epoch: 11, training rmse: 1.638996, vali rmse:1.682934\n",
      "Training epoch: 12, training rmse: 1.632264, vali rmse:1.677133\n",
      "Training epoch: 13, training rmse: 1.627033, vali rmse:1.672487\n",
      "Training epoch: 14, training rmse: 1.622943, vali rmse:1.668731\n",
      "Training epoch: 15, training rmse: 1.619728, vali rmse:1.665672\n",
      "Training epoch: 16, training rmse: 1.617191, vali rmse:1.663165\n",
      "Training epoch: 17, training rmse: 1.615185, vali rmse:1.661100\n",
      "Training epoch: 18, training rmse: 1.613595, vali rmse:1.659391\n",
      "Training epoch: 19, training rmse: 1.612335, vali rmse:1.657971\n",
      "Training epoch: 20, training rmse: 1.611337, vali rmse:1.656788\n",
      "Training epoch: 21, training rmse: 1.610548, vali rmse:1.655800\n",
      "Training epoch: 22, training rmse: 1.609924, vali rmse:1.654972\n",
      "Training epoch: 23, training rmse: 1.609434, vali rmse:1.654278\n",
      "Training epoch: 24, training rmse: 1.609052, vali rmse:1.653696\n",
      "Training epoch: 25, training rmse: 1.608755, vali rmse:1.653207\n",
      "Training epoch: 26, training rmse: 1.608527, vali rmse:1.652795\n",
      "Training epoch: 27, training rmse: 1.608355, vali rmse:1.652450\n",
      "Training epoch: 28, training rmse: 1.608227, vali rmse:1.652159\n",
      "Epoch 29, batch_idx 117, epoch_loss 162.22766113281254\r"
     ]
    },
    {
     "ename": "KeyboardInterrupt",
     "evalue": "",
     "output_type": "error",
     "traceback": [
      "\u001b[0;31m---------------------------------------------------------------------------\u001b[0m",
      "\u001b[0;31mKeyboardInterrupt\u001b[0m                         Traceback (most recent call last)",
      "Input \u001b[0;32mIn [16]\u001b[0m, in \u001b[0;36m<cell line: 10>\u001b[0;34m()\u001b[0m\n\u001b[1;32m      9\u001b[0m \u001b[38;5;66;03m# Go through epochs\u001b[39;00m\n\u001b[1;32m     10\u001b[0m \u001b[38;5;28;01mfor\u001b[39;00m epoch \u001b[38;5;129;01min\u001b[39;00m \u001b[38;5;28mrange\u001b[39m(\u001b[38;5;241m1\u001b[39m, epoches\u001b[38;5;241m+\u001b[39m\u001b[38;5;241m1\u001b[39m):\n\u001b[1;32m     11\u001b[0m  \n\u001b[1;32m     12\u001b[0m     \u001b[38;5;66;03m# Train epoch\u001b[39;00m\n\u001b[0;32m---> 13\u001b[0m     train_epoch_loss \u001b[38;5;241m=\u001b[39m \u001b[43mtrain\u001b[49m\u001b[43m(\u001b[49m\u001b[43mepoch\u001b[49m\u001b[43m,\u001b[49m\u001b[43m \u001b[49m\u001b[43mtrain_data_loader\u001b[49m\u001b[43m)\u001b[49m\n\u001b[1;32m     15\u001b[0m     \u001b[38;5;66;03m# Get epoch loss\u001b[39;00m\n\u001b[1;32m     16\u001b[0m     train_loss_list\u001b[38;5;241m.\u001b[39mappend(train_epoch_loss)\n",
      "Input \u001b[0;32mIn [15]\u001b[0m, in \u001b[0;36mtrain\u001b[0;34m(epoch, train_data_loader)\u001b[0m\n\u001b[1;32m     32\u001b[0m preds \u001b[38;5;241m=\u001b[39m model\u001b[38;5;241m.\u001b[39mforward(row, col)\n\u001b[1;32m     33\u001b[0m loss \u001b[38;5;241m=\u001b[39m loss_function(preds, val)\n\u001b[0;32m---> 34\u001b[0m \u001b[43mloss\u001b[49m\u001b[38;5;241;43m.\u001b[39;49m\u001b[43mbackward\u001b[49m\u001b[43m(\u001b[49m\u001b[43m)\u001b[49m\n\u001b[1;32m     35\u001b[0m optimizer\u001b[38;5;241m.\u001b[39mstep()\n\u001b[1;32m     37\u001b[0m \u001b[38;5;66;03m# Update epoch loss\u001b[39;00m\n",
      "File \u001b[0;32m~/miniconda3/envs/drr_pytorch/lib/python3.10/site-packages/torch/_tensor.py:363\u001b[0m, in \u001b[0;36mTensor.backward\u001b[0;34m(self, gradient, retain_graph, create_graph, inputs)\u001b[0m\n\u001b[1;32m    354\u001b[0m \u001b[38;5;28;01mif\u001b[39;00m has_torch_function_unary(\u001b[38;5;28mself\u001b[39m):\n\u001b[1;32m    355\u001b[0m     \u001b[38;5;28;01mreturn\u001b[39;00m handle_torch_function(\n\u001b[1;32m    356\u001b[0m         Tensor\u001b[38;5;241m.\u001b[39mbackward,\n\u001b[1;32m    357\u001b[0m         (\u001b[38;5;28mself\u001b[39m,),\n\u001b[0;32m   (...)\u001b[0m\n\u001b[1;32m    361\u001b[0m         create_graph\u001b[38;5;241m=\u001b[39mcreate_graph,\n\u001b[1;32m    362\u001b[0m         inputs\u001b[38;5;241m=\u001b[39minputs)\n\u001b[0;32m--> 363\u001b[0m \u001b[43mtorch\u001b[49m\u001b[38;5;241;43m.\u001b[39;49m\u001b[43mautograd\u001b[49m\u001b[38;5;241;43m.\u001b[39;49m\u001b[43mbackward\u001b[49m\u001b[43m(\u001b[49m\u001b[38;5;28;43mself\u001b[39;49m\u001b[43m,\u001b[49m\u001b[43m \u001b[49m\u001b[43mgradient\u001b[49m\u001b[43m,\u001b[49m\u001b[43m \u001b[49m\u001b[43mretain_graph\u001b[49m\u001b[43m,\u001b[49m\u001b[43m \u001b[49m\u001b[43mcreate_graph\u001b[49m\u001b[43m,\u001b[49m\u001b[43m \u001b[49m\u001b[43minputs\u001b[49m\u001b[38;5;241;43m=\u001b[39;49m\u001b[43minputs\u001b[49m\u001b[43m)\u001b[49m\n",
      "File \u001b[0;32m~/miniconda3/envs/drr_pytorch/lib/python3.10/site-packages/torch/autograd/__init__.py:173\u001b[0m, in \u001b[0;36mbackward\u001b[0;34m(tensors, grad_tensors, retain_graph, create_graph, grad_variables, inputs)\u001b[0m\n\u001b[1;32m    168\u001b[0m     retain_graph \u001b[38;5;241m=\u001b[39m create_graph\n\u001b[1;32m    170\u001b[0m \u001b[38;5;66;03m# The reason we repeat same the comment below is that\u001b[39;00m\n\u001b[1;32m    171\u001b[0m \u001b[38;5;66;03m# some Python versions print out the first line of a multi-line function\u001b[39;00m\n\u001b[1;32m    172\u001b[0m \u001b[38;5;66;03m# calls in the traceback and some print out the last line\u001b[39;00m\n\u001b[0;32m--> 173\u001b[0m \u001b[43mVariable\u001b[49m\u001b[38;5;241;43m.\u001b[39;49m\u001b[43m_execution_engine\u001b[49m\u001b[38;5;241;43m.\u001b[39;49m\u001b[43mrun_backward\u001b[49m\u001b[43m(\u001b[49m\u001b[43m  \u001b[49m\u001b[38;5;66;43;03m# Calls into the C++ engine to run the backward pass\u001b[39;49;00m\n\u001b[1;32m    174\u001b[0m \u001b[43m    \u001b[49m\u001b[43mtensors\u001b[49m\u001b[43m,\u001b[49m\u001b[43m \u001b[49m\u001b[43mgrad_tensors_\u001b[49m\u001b[43m,\u001b[49m\u001b[43m \u001b[49m\u001b[43mretain_graph\u001b[49m\u001b[43m,\u001b[49m\u001b[43m \u001b[49m\u001b[43mcreate_graph\u001b[49m\u001b[43m,\u001b[49m\u001b[43m \u001b[49m\u001b[43minputs\u001b[49m\u001b[43m,\u001b[49m\n\u001b[1;32m    175\u001b[0m \u001b[43m    \u001b[49m\u001b[43mallow_unreachable\u001b[49m\u001b[38;5;241;43m=\u001b[39;49m\u001b[38;5;28;43;01mTrue\u001b[39;49;00m\u001b[43m,\u001b[49m\u001b[43m \u001b[49m\u001b[43maccumulate_grad\u001b[49m\u001b[38;5;241;43m=\u001b[39;49m\u001b[38;5;28;43;01mTrue\u001b[39;49;00m\u001b[43m)\u001b[49m\n",
      "\u001b[0;31mKeyboardInterrupt\u001b[0m: "
     ]
    }
   ],
   "source": [
    "print('------------------------------------------- Training Model------------------------------------------------')\n",
    "train_loss_list = []\n",
    "last_vali_rmse = None\n",
    "train_rmse_list = []\n",
    "vali_rmse_list = []\n",
    "print('parameters are: train ratio:{:f},batch_size:{:d}, epoches:{:d}, weight_decay:{:f}'.format(ratio, batch_size, epoches, weight_decay))\n",
    "print(model)\n",
    " \n",
    "# Go through epochs\n",
    "for epoch in range(1, epoches+1):\n",
    " \n",
    "    # Train epoch\n",
    "    train_epoch_loss = train(epoch, train_data_loader)\n",
    " \n",
    "    # Get epoch loss\n",
    "    train_loss_list.append(train_epoch_loss)\n",
    " \n",
    "    # Move validation data to CUDA\n",
    "    if cuda:\n",
    "        vali_row = Variable(valid_data[:, 0]).long().cuda()\n",
    "        vali_col = Variable(valid_data[:, 1]).long().cuda()\n",
    "    else:\n",
    "        vali_row = Variable(valid_data[:, 0]).long()\n",
    "        vali_col = Variable(valid_data[:, 1]).long()\n",
    " \n",
    "    # Get validation predictions\n",
    "    vali_preds = model.predict(vali_row, vali_col)\n",
    " \n",
    "    # Calculate train rmse loss\n",
    "    train_rmse = np.sqrt(train_epoch_loss)\n",
    " \n",
    "    # Calculate validation rmse loss\n",
    "    if cuda:\n",
    "        vali_rmse = RMSE(vali_preds.cpu().data.numpy(), valid_data[:, 2].cpu().data.numpy())\n",
    "    else:\n",
    "        vali_rmse = RMSE(vali_preds.data.numpy(), valid_data[:, 2].data.numpy())\n",
    " \n",
    "    # Add losses to rmse loss lists\n",
    "    train_rmse_list.append(train_rmse)\n",
    "    vali_rmse_list.append(vali_rmse)\n",
    " \n",
    "    print('Training epoch:{: d}, training rmse:{: .6f}, vali rmse:{:.6f}'. \\\n",
    "              format(epoch, train_rmse, vali_rmse))\n",
    " \n",
    "    # Early stop condition\n",
    "    if last_vali_rmse and last_vali_rmse < vali_rmse:\n",
    "        break\n",
    "    else:\n",
    "        last_vali_rmse = vali_rmse\n",
    " "
   ]
  },
  {
   "cell_type": "code",
   "execution_count": 17,
   "id": "94d35ec2-9d23-4c0b-a637-0a8b512171a0",
   "metadata": {},
   "outputs": [
    {
     "name": "stdout",
     "output_type": "stream",
     "text": [
      "Test rmse: 1.615717\n"
     ]
    },
    {
     "data": {
      "image/png": "[encoded data removed]",
      "text/plain": [
       "<Figure size 432x288 with 1 Axes>"
      ]
     },
     "metadata": {
      "needs_background": "light"
     },
     "output_type": "display_data"
    }
   ],
   "source": [
    "# Move test set to CUDA\n",
    "if cuda:\n",
    "    test_row = Variable(test_data[:, 0]).long().cuda()\n",
    "    test_col = Variable(test_data[:, 1]).long().cuda()\n",
    "else:\n",
    "    test_row = Variable(test_data[:, 0]).long()\n",
    "    test_col = Variable(test_data[:, 1]).long()\n",
    "\n",
    "preds = model.predict(test_row, test_col)\n",
    " \n",
    "# Get test rmse loss\n",
    "if cuda:\n",
    "    test_rmse = RMSE(preds.cpu().data.numpy(), test_data[:, 2].data.numpy())\n",
    "else:\n",
    "    test_rmse = RMSE(preds.data.numpy(), test_data[:, 2].data.numpy())\n",
    "print('Test rmse: {:f}'.format(test_rmse))\n",
    " \n",
    "# Create plots\n",
    "plt.figure(1)\n",
    "plt.plot(range(1, len(train_rmse_list)+1), train_rmse_list, color='r', label='train rmse')\n",
    "plt.plot(range(1, len(vali_rmse_list)+1), vali_rmse_list, color='b', label='test rmse')\n",
    "plt.legend()\n",
    "plt.annotate(r'train=%f' % (train_rmse_list[-1]), xy=(len(train_rmse_list), train_rmse_list[-1]),\n",
    "             xycoords='data', xytext=(-30, 30), textcoords='offset points', fontsize=10,\n",
    "             arrowprops=dict(arrowstyle='->', connectionstyle='arc3, rad=.2'))\n",
    "plt.annotate(r'vali=%f' % (vali_rmse_list[-1]), xy=(len(vali_rmse_list), vali_rmse_list[-1]),\n",
    "             xycoords='data', xytext=(-30, 30), textcoords='offset points', fontsize=10,\n",
    "             arrowprops=dict(arrowstyle='->', connectionstyle='arc3, rad=.2'))\n",
    "plt.xlim([1, len(train_rmse_list)+10])\n",
    "plt.xlabel('iterations')\n",
    "plt.ylabel('RMSE')\n",
    "plt.title('RMSE Curve in Training Process')\n",
    "plt.savefig('RMSE-Curve-PMF-yelp.png')\n",
    "plt.show()\n",
    " "
   ]
  },
  {
   "cell_type": "code",
   "execution_count": 39,
   "id": "53fa270d-782a-46d1-ad66-14a7bbc260d1",
   "metadata": {},
   "outputs": [],
   "source": [
    "import pandas as pd"
   ]
  },
  {
   "cell_type": "code",
   "execution_count": 74,
   "id": "995b2c3b-69fb-4a14-9c5b-37c1d6edb04f",
   "metadata": {},
   "outputs": [],
   "source": [
    "test_prediction_analysis = pd.DataFrame({'user':test_data[:, 0].numpy(), 'item': test_data[:, 1].numpy(),'predicted': preds.round().detach().long().numpy(), 'actual': test_data[:, 2].long().numpy()})"
   ]
  },
  {
   "cell_type": "code",
   "execution_count": 61,
   "id": "9d741b45-51af-4b1a-934a-392e89a5ecf5",
   "metadata": {},
   "outputs": [
    {
     "data": {
      "image/png": "[encoded data removed]",
      "text/plain": [
       "<Figure size 432x288 with 1 Axes>"
      ]
     },
     "metadata": {
      "needs_background": "light"
     },
     "output_type": "display_data"
    }
   ],
   "source": [
    "plt.hist(test_prediction_analysis['predicted'])\n",
    "plt.show()"
   ]
  },
  {
   "cell_type": "code",
   "execution_count": 67,
   "id": "2a6ebacc-05a2-4550-b2b1-60ad4fc45af7",
   "metadata": {},
   "outputs": [
    {
     "data": {
      "text/plain": [
       "array([4, 3, 2, 0, 5, 1])"
      ]
     },
     "execution_count": 67,
     "metadata": {},
     "output_type": "execute_result"
    }
   ],
   "source": [
    "test_prediction_analysis.predicted.unique()"
   ]
  },
  {
   "cell_type": "code",
   "execution_count": 62,
   "id": "949bb86f-17d5-4b04-9011-3d1ca2a8682f",
   "metadata": {},
   "outputs": [
    {
     "data": {
      "image/png": "[encoded data removed]",
      "text/plain": [
       "<Figure size 432x288 with 1 Axes>"
      ]
     },
     "metadata": {
      "needs_background": "light"
     },
     "output_type": "display_data"
    }
   ],
   "source": [
    "plt.hist(test_prediction_analysis['actual'])\n",
    "plt.show()"
   ]
  },
  {
   "cell_type": "code",
   "execution_count": 68,
   "id": "52e7b056-8fed-40d9-9158-48861f67397b",
   "metadata": {},
   "outputs": [
    {
     "data": {
      "text/plain": [
       "array([5, 2, 4, 3, 1])"
      ]
     },
     "execution_count": 68,
     "metadata": {},
     "output_type": "execute_result"
    }
   ],
   "source": [
    "test_prediction_analysis.actual.unique()"
   ]
  },
  {
   "cell_type": "code",
   "execution_count": 79,
   "id": "0511050e-8d6a-4c5c-9d79-abf32a1259dc",
   "metadata": {},
   "outputs": [
    {
     "data": {
      "text/plain": [
       "tensor(0.4011, grad_fn=<AddBackward0>)"
      ]
     },
     "execution_count": 79,
     "metadata": {},
     "output_type": "execute_result"
    }
   ],
   "source": [
    "model.predict(torch.tensor(520), torch.tensor(37984))"
   ]
  },
  {
   "cell_type": "code",
   "execution_count": 71,
   "id": "6a88af8b-0b31-4a42-8ede-22f294ad707e",
   "metadata": {},
   "outputs": [],
   "source": [
    "for i in range(NUM_ITEMS):\n",
    "    p = model.predict(torch.tensor(123), torch.tensor(i)).round().item()\n",
    "    if p > 5:\n",
    "        print(i, p)"
   ]
  },
  {
   "cell_type": "code",
   "execution_count": 75,
   "id": "a6bf678b-4133-45d2-be59-ec4db7ac80bd",
   "metadata": {},
   "outputs": [
    {
     "data": {
      "text/html": [
       "<div>\n",
       "<style scoped>\n",
       "    .dataframe tbody tr th:only-of-type {\n",
       "        vertical-align: middle;\n",
       "    }\n",
       "\n",
       "    .dataframe tbody tr th {\n",
       "        vertical-align: top;\n",
       "    }\n",
       "\n",
       "    .dataframe thead th {\n",
       "        text-align: right;\n",
       "    }\n",
       "</style>\n",
       "<table border=\"1\" class=\"dataframe\">\n",
       "  <thead>\n",
       "    <tr style=\"text-align: right;\">\n",
       "      <th></th>\n",
       "      <th>user</th>\n",
       "      <th>item</th>\n",
       "      <th>predicted</th>\n",
       "      <th>actual</th>\n",
       "    </tr>\n",
       "  </thead>\n",
       "  <tbody>\n",
       "    <tr>\n",
       "      <th>10</th>\n",
       "      <td>520</td>\n",
       "      <td>37984</td>\n",
       "      <td>0</td>\n",
       "      <td>3</td>\n",
       "    </tr>\n",
       "    <tr>\n",
       "      <th>66</th>\n",
       "      <td>543</td>\n",
       "      <td>36116</td>\n",
       "      <td>0</td>\n",
       "      <td>3</td>\n",
       "    </tr>\n",
       "    <tr>\n",
       "      <th>69</th>\n",
       "      <td>1022</td>\n",
       "      <td>16866</td>\n",
       "      <td>0</td>\n",
       "      <td>5</td>\n",
       "    </tr>\n",
       "    <tr>\n",
       "      <th>142</th>\n",
       "      <td>170</td>\n",
       "      <td>20972</td>\n",
       "      <td>0</td>\n",
       "      <td>2</td>\n",
       "    </tr>\n",
       "    <tr>\n",
       "      <th>145</th>\n",
       "      <td>97</td>\n",
       "      <td>3266</td>\n",
       "      <td>0</td>\n",
       "      <td>4</td>\n",
       "    </tr>\n",
       "    <tr>\n",
       "      <th>...</th>\n",
       "      <td>...</td>\n",
       "      <td>...</td>\n",
       "      <td>...</td>\n",
       "      <td>...</td>\n",
       "    </tr>\n",
       "    <tr>\n",
       "      <th>10099</th>\n",
       "      <td>955</td>\n",
       "      <td>30949</td>\n",
       "      <td>0</td>\n",
       "      <td>5</td>\n",
       "    </tr>\n",
       "    <tr>\n",
       "      <th>10407</th>\n",
       "      <td>1052</td>\n",
       "      <td>27354</td>\n",
       "      <td>0</td>\n",
       "      <td>5</td>\n",
       "    </tr>\n",
       "    <tr>\n",
       "      <th>10438</th>\n",
       "      <td>63</td>\n",
       "      <td>29802</td>\n",
       "      <td>0</td>\n",
       "      <td>5</td>\n",
       "    </tr>\n",
       "    <tr>\n",
       "      <th>10465</th>\n",
       "      <td>614</td>\n",
       "      <td>25443</td>\n",
       "      <td>0</td>\n",
       "      <td>2</td>\n",
       "    </tr>\n",
       "    <tr>\n",
       "      <th>10472</th>\n",
       "      <td>784</td>\n",
       "      <td>29352</td>\n",
       "      <td>0</td>\n",
       "      <td>4</td>\n",
       "    </tr>\n",
       "  </tbody>\n",
       "</table>\n",
       "<p>118 rows × 4 columns</p>\n",
       "</div>"
      ],
      "text/plain": [
       "       user   item  predicted  actual\n",
       "10      520  37984          0       3\n",
       "66      543  36116          0       3\n",
       "69     1022  16866          0       5\n",
       "142     170  20972          0       2\n",
       "145      97   3266          0       4\n",
       "...     ...    ...        ...     ...\n",
       "10099   955  30949          0       5\n",
       "10407  1052  27354          0       5\n",
       "10438    63  29802          0       5\n",
       "10465   614  25443          0       2\n",
       "10472   784  29352          0       4\n",
       "\n",
       "[118 rows x 4 columns]"
      ]
     },
     "execution_count": 75,
     "metadata": {},
     "output_type": "execute_result"
    }
   ],
   "source": [
    "test_prediction_analysis[test_prediction_analysis.predicted==0]"
   ]
  },
  {
   "cell_type": "code",
   "execution_count": 80,
   "id": "cda8496d-811c-46de-80d3-340e117d3d3c",
   "metadata": {},
   "outputs": [],
   "source": [
    "test_prediction_analysis.to_csv('test_prediction_analysis-yelp.csv', index=None)"
   ]
  },
  {
   "cell_type": "code",
   "execution_count": null,
   "id": "9385fdc2-f6c4-4def-a81d-99d0b8025732",
   "metadata": {},
   "outputs": [],
   "source": []
  }
 ],
 "metadata": {
  "kernelspec": {
   "display_name": "Python 3 (ipykernel)",
   "language": "python",
   "name": "python3"
  },
  "language_info": {
   "codemirror_mode": {
    "name": "ipython",
    "version": 3
   },
   "file_extension": ".py",
   "mimetype": "text/x-python",
   "name": "python",
   "nbconvert_exporter": "python",
   "pygments_lexer": "ipython3",
   "version": "3.10.4"
  }
 },
 "nbformat": 4,
 "nbformat_minor": 5
}
