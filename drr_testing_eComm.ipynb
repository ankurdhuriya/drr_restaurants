{
 "cells": [
  {
   "cell_type": "code",
   "execution_count": 1,
   "id": "c022e936-9033-49ec-b3a0-ff05f7720693",
   "metadata": {},
   "outputs": [],
   "source": [
    "import pickle\n",
    "import random\n",
    "import numpy as np\n",
    "import pandas as pd\n",
    "\n",
    "import torch\n",
    "import torch.nn as nn\n",
    "from model import Actor, Critic, DRRAveStateRepresentation, PMF\n",
    "from utils.history_buffer import HistoryBuffer"
   ]
  },
  {
   "cell_type": "code",
   "execution_count": 2,
   "id": "e9f0bb6a-ac13-4988-9232-54aff17ca055",
   "metadata": {},
   "outputs": [],
   "source": [
    "data_df = pd.read_csv('dataset/eComm-sample-data2.csv')\n",
    "event_type_to_num = {'view': 1, 'cart': 2, 'purchase': 3}\n",
    "data_df['behavior'] = data_df['event_type'].apply(lambda x : event_type_to_num[x])\n",
    "data = data_df.loc[:, ['user_id_num', 'product_id_num', 'behavior', 'event_time']].values"
   ]
  },
  {
   "cell_type": "code",
   "execution_count": 3,
   "id": "1dcae687-de6d-4a05-a843-dedbc28ef91f",
   "metadata": {},
   "outputs": [],
   "source": [
    "state_rep_net = DRRAveStateRepresentation(n_items=5, item_features=100, user_features=100)\n",
    "actor_net = Actor(in_features=300, out_features=100)"
   ]
  },
  {
   "cell_type": "code",
   "execution_count": 4,
   "id": "5753b515-b9ff-4347-a837-0386c8de6edf",
   "metadata": {},
   "outputs": [
    {
     "data": {
      "text/plain": [
       "<All keys matched successfully>"
      ]
     },
     "execution_count": 4,
     "metadata": {},
     "output_type": "execute_result"
    }
   ],
   "source": [
    "state_rep_net.load_state_dict(torch.load('results/220621-083226/state_rep_net.weights'))"
   ]
  },
  {
   "cell_type": "code",
   "execution_count": 5,
   "id": "e2466082-d7f9-4f75-a4d7-81277c22bef5",
   "metadata": {},
   "outputs": [
    {
     "data": {
      "text/plain": [
       "<All keys matched successfully>"
      ]
     },
     "execution_count": 5,
     "metadata": {},
     "output_type": "execute_result"
    }
   ],
   "source": [
    "actor_net.load_state_dict(torch.load('results/220621-083226/actor_net.weights'))"
   ]
  },
  {
   "cell_type": "code",
   "execution_count": 6,
   "id": "210a27e1-dd8e-444b-b22b-b227b498867a",
   "metadata": {},
   "outputs": [],
   "source": [
    "NUM_USERS, NUM_ITEMS = 5309, 15184\n",
    "embedding_feature_size = 100\n",
    "path_to_trained_pmf = 'trained/eComm_ratio_0.800000_bs_256_e_25_wd_0.100000_lr_0.000100_trained_pmf.pt'\n",
    "device = torch.device('cpu')"
   ]
  },
  {
   "cell_type": "code",
   "execution_count": 7,
   "id": "0063ce5b-084e-4538-994d-b6fc7985ae1d",
   "metadata": {},
   "outputs": [
    {
     "name": "stdout",
     "output_type": "stream",
     "text": [
      "Initialized PMF, imported weights, created reward_function\n",
      "Extracted user and item embeddings from PMF\n",
      "User embeddings shape:  torch.Size([5309, 100])\n",
      "Item embeddings shape:  torch.Size([15184, 100])\n"
     ]
    }
   ],
   "source": [
    "# Create and load PMF function for rewards and embeddings\n",
    "reward_function = PMF(NUM_USERS, NUM_ITEMS, embedding_feature_size, is_sparse=False, no_cuda=True)\n",
    "reward_function.load_state_dict(torch.load(path_to_trained_pmf))\n",
    " \n",
    "# Freeze all the parameters in the network\n",
    "for param in reward_function.parameters():\n",
    "    param.requires_grad = False\n",
    "print(\"Initialized PMF, imported weights, created reward_function\")\n",
    " \n",
    "# Extract embeddings\n",
    "user_embeddings = reward_function.user_embeddings.weight.data\n",
    "item_embeddings = reward_function.item_embeddings.weight.data\n",
    "print(\"Extracted user and item embeddings from PMF\")\n",
    "print(\"User embeddings shape: \", user_embeddings.shape)\n",
    "print(\"Item embeddings shape: \", item_embeddings.shape)"
   ]
  },
  {
   "cell_type": "code",
   "execution_count": 8,
   "id": "714bf693-f6fb-44d4-9160-fa9129117646",
   "metadata": {},
   "outputs": [],
   "source": [
    "candidate_item_idxs = np.arange(item_embeddings.shape[0])\n",
    "candidate_item_idxs = torch.from_numpy(candidate_item_idxs).to(device).long()"
   ]
  },
  {
   "cell_type": "code",
   "execution_count": 9,
   "id": "8d98a845-54a0-49a9-8a5b-3d38ae4b8f31",
   "metadata": {},
   "outputs": [
    {
     "data": {
      "text/plain": [
       "array([[               3796,                 613,                   3,\n",
       "        1569888134000000000],\n",
       "       [               1811,                 817,                   2,\n",
       "        1569896511000000000],\n",
       "       [               1811,                 817,                   2,\n",
       "        1569896520000000000],\n",
       "       ...,\n",
       "       [                638,                 513,                   1,\n",
       "        1571330757000000000],\n",
       "       [               1194,               13707,                   1,\n",
       "        1571547129000000000],\n",
       "       [               3827,                 168,                   1,\n",
       "        1570462592000000000]])"
      ]
     },
     "execution_count": 9,
     "metadata": {},
     "output_type": "execute_result"
    }
   ],
   "source": [
    "data"
   ]
  },
  {
   "cell_type": "code",
   "execution_count": 10,
   "id": "4449b9a9-ae41-4a4b-8897-d79071543490",
   "metadata": {},
   "outputs": [],
   "source": [
    "e = 121\n",
    "history_buffer = HistoryBuffer(5)\n",
    "user_reviews = data[data[:, 0] == e]\n",
    "pos_user_reviews = user_reviews[user_reviews[:, 2] > 0]  "
   ]
  },
  {
   "cell_type": "code",
   "execution_count": 11,
   "id": "c44bbb68-7537-4e75-af0f-5dc9efe8b402",
   "metadata": {},
   "outputs": [],
   "source": [
    "user_reviews = user_reviews[user_reviews[:, 3].argsort()]\n",
    "pos_user_reviews = pos_user_reviews[pos_user_reviews[:, 3].argsort()]\n",
    "\n",
    "candidate_items = item_embeddings.detach().clone().to(device)\n",
    "user_candidate_items = item_embeddings[user_reviews[:, 1]].detach().clone().to(device)"
   ]
  },
  {
   "cell_type": "code",
   "execution_count": 12,
   "id": "245a1929-6dc9-4631-83a7-054b284d9f65",
   "metadata": {},
   "outputs": [
    {
     "name": "stderr",
     "output_type": "stream",
     "text": [
      "/Users/ankurdhuriya/miniconda3/envs/drr_pytorch/lib/python3.10/site-packages/torch/nn/functional.py:1933: UserWarning: nn.functional.tanh is deprecated. Use torch.tanh instead.\n",
      "  warnings.warn(\"nn.functional.tanh is deprecated. Use torch.tanh instead.\")\n"
     ]
    }
   ],
   "source": [
    "for i in range(5):\n",
    "    emb = candidate_items[pos_user_reviews[i, 1]]\n",
    "    history_buffer.push(emb.detach().clone())\n",
    "\n",
    "user_embed = user_embeddings[e]\n",
    "state = state_rep_net(user_embed, torch.stack(history_buffer.to_list()))\n",
    "\n",
    "action = actor_net(state.detach())\n",
    "ranking_scores = candidate_items @ action\n",
    "\n",
    "values, indices = torch.topk(ranking_scores, 10)"
   ]
  },
  {
   "cell_type": "code",
   "execution_count": 13,
   "id": "bc379996-914f-4690-b655-1e0e39c573cc",
   "metadata": {},
   "outputs": [
    {
     "data": {
      "text/plain": [
       "tensor([3.2030, 2.8095, 2.7721, 2.7265, 2.7142, 2.6937, 2.6326, 2.6016, 2.5881,\n",
       "        2.5559], grad_fn=<TopkBackward0>)"
      ]
     },
     "execution_count": 13,
     "metadata": {},
     "output_type": "execute_result"
    }
   ],
   "source": [
    "values"
   ]
  },
  {
   "cell_type": "code",
   "execution_count": 14,
   "id": "b9e7bed3-2175-4db3-8a1b-17484a0f0b2a",
   "metadata": {},
   "outputs": [
    {
     "data": {
      "text/plain": [
       "tensor([626, 592, 797,  87, 842,  98, 481, 545, 613, 676])"
      ]
     },
     "execution_count": 14,
     "metadata": {},
     "output_type": "execute_result"
    }
   ],
   "source": [
    "indices"
   ]
  },
  {
   "cell_type": "code",
   "execution_count": 15,
   "id": "23b295f1-e620-4fa0-b041-b9a31ceb0c2d",
   "metadata": {},
   "outputs": [
    {
     "name": "stdout",
     "output_type": "stream",
     "text": [
      "tensor(1.5852)\n",
      "tensor(1.7352)\n",
      "tensor(1.6997)\n",
      "tensor(1.6991)\n",
      "tensor(1.5558)\n",
      "tensor(1.6422)\n",
      "tensor(1.5555)\n",
      "tensor(1.7030)\n",
      "tensor(1.7252)\n",
      "tensor(1.7119)\n"
     ]
    }
   ],
   "source": [
    "for i in indices:\n",
    "    rec_item_emb = candidate_items[i]\n",
    "    reward = reward_function(torch.tensor(e).to(device), i)\n",
    "    print(reward)"
   ]
  },
  {
   "cell_type": "code",
   "execution_count": 16,
   "id": "bc5c9b73-4b19-48f7-ae72-89164e17deef",
   "metadata": {},
   "outputs": [
    {
     "data": {
      "text/plain": [
       "torch.Size([5, 100])"
      ]
     },
     "execution_count": 16,
     "metadata": {},
     "output_type": "execute_result"
    }
   ],
   "source": []
  },
  {
   "cell_type": "code",
   "execution_count": null,
   "id": "a84009e5-457c-473c-8075-e9a232fdf678",
   "metadata": {},
   "outputs": [],
   "source": []
  }
 ],
 "metadata": {
  "kernelspec": {
   "display_name": "Python 3 (ipykernel)",
   "language": "python",
   "name": "python3"
  },
  "language_info": {
   "codemirror_mode": {
    "name": "ipython",
    "version": 3
   },
   "file_extension": ".py",
   "mimetype": "text/x-python",
   "name": "python",
   "nbconvert_exporter": "python",
   "pygments_lexer": "ipython3",
   "version": "3.10.4"
  }
 },
 "nbformat": 4,
 "nbformat_minor": 5
}
