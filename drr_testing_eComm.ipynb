{
 "cells": [
  {
   "cell_type": "code",
   "execution_count": 1,
   "id": "c022e936-9033-49ec-b3a0-ff05f7720693",
   "metadata": {},
   "outputs": [],
   "source": [
    "import pickle\n",
    "import random\n",
    "import numpy as np\n",
    "import pandas as pd\n",
    "\n",
    "import torch\n",
    "import torch.nn as nn\n",
    "from model import Actor, Critic, DRRAveStateRepresentation, PMF\n",
    "from utils.history_buffer import HistoryBuffer"
   ]
  },
  {
   "cell_type": "code",
   "execution_count": 2,
   "id": "e9f0bb6a-ac13-4988-9232-54aff17ca055",
   "metadata": {},
   "outputs": [],
   "source": [
    "data_df = pd.read_csv('dataset/eComm-sample-data2.csv')\n",
    "event_type_to_num = {'view': 1, 'cart': 2, 'purchase': 3}\n",
    "data_df['behavior'] = data_df['event_type'].apply(lambda x : event_type_to_num[x])\n",
    "data = data_df.loc[:, ['user_id_num', 'product_id_num', 'behavior', 'event_time']].values"
   ]
  },
  {
   "cell_type": "code",
   "execution_count": 3,
   "id": "1dcae687-de6d-4a05-a843-dedbc28ef91f",
   "metadata": {},
   "outputs": [],
   "source": [
    "state_rep_net = DRRAveStateRepresentation(n_items=5, item_features=100, user_features=100)\n",
    "actor_net = Actor(in_features=300, out_features=100)"
   ]
  },
  {
   "cell_type": "code",
   "execution_count": 4,
   "id": "5753b515-b9ff-4347-a837-0386c8de6edf",
   "metadata": {},
   "outputs": [
    {
     "data": {
      "text/plain": [
       "<All keys matched successfully>"
      ]
     },
     "execution_count": 4,
     "metadata": {},
     "output_type": "execute_result"
    }
   ],
   "source": [
    "state_rep_net.load_state_dict(torch.load('results/220623-075948/state_rep_net.weights'))"
   ]
  },
  {
   "cell_type": "code",
   "execution_count": 5,
   "id": "e2466082-d7f9-4f75-a4d7-81277c22bef5",
   "metadata": {},
   "outputs": [
    {
     "data": {
      "text/plain": [
       "<All keys matched successfully>"
      ]
     },
     "execution_count": 5,
     "metadata": {},
     "output_type": "execute_result"
    }
   ],
   "source": [
    "actor_net.load_state_dict(torch.load('results/220623-075948/actor_net.weights'))"
   ]
  },
  {
   "cell_type": "code",
   "execution_count": 6,
   "id": "210a27e1-dd8e-444b-b22b-b227b498867a",
   "metadata": {},
   "outputs": [],
   "source": [
    "NUM_USERS, NUM_ITEMS = 5309, 15184\n",
    "embedding_feature_size = 100\n",
    "path_to_trained_pmf = 'trained/eComm_ratio_0.800000_bs_256_e_25_wd_0.100000_lr_0.000100_trained_pmf.pt'\n",
    "device = torch.device('cpu')"
   ]
  },
  {
   "cell_type": "code",
   "execution_count": 7,
   "id": "0063ce5b-084e-4538-994d-b6fc7985ae1d",
   "metadata": {},
   "outputs": [
    {
     "name": "stdout",
     "output_type": "stream",
     "text": [
      "Initialized PMF, imported weights, created reward_function\n",
      "Extracted user and item embeddings from PMF\n",
      "User embeddings shape:  torch.Size([5309, 100])\n",
      "Item embeddings shape:  torch.Size([15184, 100])\n"
     ]
    }
   ],
   "source": [
    "# Create and load PMF function for rewards and embeddings\n",
    "reward_function = PMF(NUM_USERS, NUM_ITEMS, embedding_feature_size, is_sparse=False, no_cuda=True)\n",
    "reward_function.load_state_dict(torch.load(path_to_trained_pmf))\n",
    " \n",
    "# Freeze all the parameters in the network\n",
    "for param in reward_function.parameters():\n",
    "    param.requires_grad = False\n",
    "print(\"Initialized PMF, imported weights, created reward_function\")\n",
    " \n",
    "# Extract embeddings\n",
    "user_embeddings = reward_function.user_embeddings.weight.data\n",
    "item_embeddings = reward_function.item_embeddings.weight.data\n",
    "print(\"Extracted user and item embeddings from PMF\")\n",
    "print(\"User embeddings shape: \", user_embeddings.shape)\n",
    "print(\"Item embeddings shape: \", item_embeddings.shape)"
   ]
  },
  {
   "cell_type": "code",
   "execution_count": 8,
   "id": "072ab7a0-fbaf-4e36-a770-22cf74ed29b5",
   "metadata": {},
   "outputs": [],
   "source": [
    "cuda = False\n",
    "\n",
    "def seed_all(cuda, seed):\n",
    "    random.seed(seed)\n",
    "    np.random.seed(seed)\n",
    "    torch.manual_seed(seed)\n",
    "    if cuda:\n",
    "        torch.cuda.empty_cache()\n",
    "        torch.cuda.manual_seed(seed=seed)\n",
    "    \n",
    "seed_all(cuda, 0)"
   ]
  },
  {
   "cell_type": "code",
   "execution_count": 9,
   "id": "49f068eb-b2c5-4027-8254-3605509553a9",
   "metadata": {},
   "outputs": [
    {
     "name": "stdout",
     "output_type": "stream",
     "text": [
      "5309 15184\n",
      "Data imported, shuffled, and split into Train/Test, ratio= 0.8\n",
      "Train data shape:  torch.Size([100427, 4])\n",
      "Test data shape:  torch.Size([25107, 4])\n"
     ]
    }
   ],
   "source": [
    "data_df = pd.read_csv('dataset/eComm-sample-data2.csv')\n",
    "event_type_to_num = {'view': 1, 'cart': 2, 'purchase': 3}\n",
    "data_df['behavior'] = data_df['event_type'].apply(lambda x : event_type_to_num[x])\n",
    "\n",
    "items = dict(zip(data_df['product_id'], data_df['product_id_num']))\n",
    "users = dict(zip(data_df['user_id'], data_df['user_id_num']))\n",
    "\n",
    "NUM_USERS, NUM_ITEMS = len(users), len(items)\n",
    "print(NUM_USERS, NUM_ITEMS)\n",
    "\n",
    "data = data_df.loc[:, ['user_id_num', 'product_id_num', 'behavior', 'event_time']].values\n",
    "\n",
    "np.random.shuffle(data)\n",
    "train_data = torch.from_numpy(data[:int(0.8 * data.shape[0])])\n",
    "test_data = torch.from_numpy(data[int(0.8 * data.shape[0]):])\n",
    "print(\"Data imported, shuffled, and split into Train/Test, ratio=\", 0.8)\n",
    "print(\"Train data shape: \", train_data.shape)\n",
    "print(\"Test data shape: \", test_data.shape)\n"
   ]
  },
  {
   "cell_type": "code",
   "execution_count": 10,
   "id": "34f6c79b-e7e9-496a-9ba0-974bf5524d92",
   "metadata": {},
   "outputs": [],
   "source": [
    "device = torch.device('cpu')"
   ]
  },
  {
   "cell_type": "code",
   "execution_count": 11,
   "id": "8e23f198-51ba-4ce2-8b6a-4ed8d58276ed",
   "metadata": {},
   "outputs": [],
   "source": [
    "test_data = test_data.to(device)"
   ]
  },
  {
   "cell_type": "code",
   "execution_count": 12,
   "id": "e0d806d1-70e4-4bd0-8cec-be96eac40c58",
   "metadata": {},
   "outputs": [],
   "source": [
    "user_idxs = np.unique(test_data[:, 0].numpy())"
   ]
  },
  {
   "cell_type": "code",
   "execution_count": 13,
   "id": "04e93db0-6dc6-449a-8005-cf932b6f45c7",
   "metadata": {},
   "outputs": [],
   "source": [
    "np.random.shuffle(user_idxs)"
   ]
  },
  {
   "cell_type": "code",
   "execution_count": 14,
   "id": "f8b35efc-5f0b-477e-ae43-290209a6e6fa",
   "metadata": {},
   "outputs": [],
   "source": [
    "candidate_item_idxs = np.arange(item_embeddings.shape[0])\n",
    "candidate_item_idxs = torch.from_numpy(candidate_item_idxs).to(device).long()"
   ]
  },
  {
   "cell_type": "code",
   "execution_count": 15,
   "id": "d355ad4b-5185-4585-bd0f-a455d07b8479",
   "metadata": {},
   "outputs": [],
   "source": [
    "def discretize_reward_(x):\n",
    "    x = x.item()\n",
    "    if x<=1:\n",
    "        return torch.tensor(1.0, dtype=torch.float64)\n",
    "    elif x<=2:\n",
    "        return torch.tensor(2.0, dtype=torch.float64)\n",
    "    else:\n",
    "        return torch.tensor(3.0, dtype=torch.float64)"
   ]
  },
  {
   "cell_type": "code",
   "execution_count": 16,
   "id": "64d30437-92f2-4614-9c24-2c7cf6071bf0",
   "metadata": {},
   "outputs": [],
   "source": [
    "def calculate_ndcg(rel, irel):\n",
    "    dcg = 0\n",
    "    idcg = 0\n",
    "    for i, (r, ir) in enumerate(zip(rel, irel)):\n",
    "        dcg += (r)/np.log2(i+2)\n",
    "        idcg += (ir)/np.log2(i+2)\n",
    "    return dcg, idcg"
   ]
  },
  {
   "cell_type": "code",
   "execution_count": 17,
   "id": "9ca19036-0b7b-42c3-aceb-12024ea97dfe",
   "metadata": {},
   "outputs": [],
   "source": [
    "eps_eval = 0.1\n",
    "history_buffer_size = 5\n",
    "history_buffer = HistoryBuffer(5)"
   ]
  },
  {
   "cell_type": "code",
   "execution_count": 18,
   "id": "e05fb531-a2af-4e94-8a65-ce6155678793",
   "metadata": {},
   "outputs": [
    {
     "name": "stderr",
     "output_type": "stream",
     "text": [
      "/Users/ankurdhuriya/miniconda3/envs/drr_pytorch/lib/python3.10/site-packages/torch/nn/functional.py:1933: UserWarning: nn.functional.tanh is deprecated. Use torch.tanh instead.\n",
      "  warnings.warn(\"nn.functional.tanh is deprecated. Use torch.tanh instead.\")\n"
     ]
    },
    {
     "name": "stdout",
     "output_type": "stream",
     "text": [
      "T 5 mean precision 0.40, mean_ndcg 0.39, total steps/users 1791\n",
      "T 10 mean precision 0.39, mean_ndcg 0.39, total steps/users 1791\n",
      "T 15 mean precision 0.38, mean_ndcg 0.38, total steps/users 1791\n",
      "T 20 mean precision 0.37, mean_ndcg 0.38, total steps/users 1791\n",
      "T 25 mean precision 0.37, mean_ndcg 0.37, total steps/users 1791\n"
     ]
    }
   ],
   "source": [
    "for T in [5, 10, 15, 20, 25]:\n",
    "    mean_ndcg, mean_precision, steps = 0, 0, 0 \n",
    "\n",
    "    for index, e in enumerate(user_idxs):\n",
    "        \n",
    "        # extract user reviews and positive user reviews for user id\n",
    "        user_reviews = test_data[test_data[:, 0] == e]\n",
    "        pos_user_reviews = user_reviews[user_reviews[:, 2] > 0]\n",
    "\n",
    "        # history should be sufficient\n",
    "        if pos_user_reviews.shape[0] < history_buffer_size:\n",
    "            continue\n",
    "            \n",
    "        steps += 1    \n",
    "\n",
    "        # sort user history by timestamp\n",
    "        user_reviews = user_reviews[user_reviews[:, 3].argsort()]\n",
    "        pos_user_reviews = pos_user_reviews[pos_user_reviews[:, 3].argsort()]\n",
    "\n",
    "        # canditate items embedding for recommendation\n",
    "        candidate_items = item_embeddings.detach().clone().to(device)\n",
    "\n",
    "        # get user embedding\n",
    "        user_emb = user_embeddings[e]\n",
    "\n",
    "        # fill up history buffer\n",
    "        for i in range(history_buffer_size):\n",
    "            emb = candidate_items[pos_user_reviews[i, 1]]\n",
    "            history_buffer.push(emb.detach().clone())\n",
    "\n",
    "        # get action\n",
    "        with torch.no_grad():\n",
    "            # use state rep net weights to get state (input args is user embedding and history buffer)\n",
    "            state = state_rep_net(user_emb, torch.stack(history_buffer.to_list()))\n",
    "            \n",
    "            if np.random.uniform(0, 1) < eps_eval:\n",
    "                action = torch.from_numpy(0.1 * np.random.rand(100)).float().to(device)\n",
    "            else:\n",
    "                action = actor_net(state.detach())\n",
    "\n",
    "        # matmul for ranking scores\n",
    "        ranking_scores = candidate_items @ action\n",
    "\n",
    "        # get top T item indices\n",
    "        values, indices = torch.topk(ranking_scores, T)\n",
    "        \n",
    "        # calculate reward for predictions\n",
    "        rewards = [reward_function(torch.tensor(e).to(device) ,rec_item_index) for rec_item_index in indices]\n",
    "        rewards = [discretize_reward_(reward).item() for reward in rewards]\n",
    "\n",
    "        correct_list = [1 if r ==3.0 else 0 for r in rewards]\n",
    "        dcg, idcg = calculate_ndcg(correct_list, [1 for _ in range(len(rewards))])\n",
    "        mean_ndcg += dcg/idcg\n",
    "        correct_num = T-correct_list.count(0)\n",
    "        mean_precision += correct_num/T\n",
    "        \n",
    "\n",
    "    print(f\"T {T} mean precision {(mean_precision/steps):.2f}, mean_ndcg {(mean_ndcg/steps):.2f}, total steps/users {steps}\")"
   ]
  },
  {
   "cell_type": "code",
   "execution_count": null,
   "id": "ee0651bd-7c31-4846-a836-d0b5b60d23f7",
   "metadata": {},
   "outputs": [],
   "source": []
  }
 ],
 "metadata": {
  "kernelspec": {
   "display_name": "Python 3 (ipykernel)",
   "language": "python",
   "name": "python3"
  },
  "language_info": {
   "codemirror_mode": {
    "name": "ipython",
    "version": 3
   },
   "file_extension": ".py",
   "mimetype": "text/x-python",
   "name": "python",
   "nbconvert_exporter": "python",
   "pygments_lexer": "ipython3",
   "version": "3.10.4"
  }
 },
 "nbformat": 4,
 "nbformat_minor": 5
}
