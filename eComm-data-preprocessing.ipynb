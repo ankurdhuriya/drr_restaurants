{
 "cells": [
  {
   "cell_type": "code",
   "execution_count": 1,
   "id": "1230f3bc-e236-497e-a8d1-16d2dd3aed69",
   "metadata": {},
   "outputs": [],
   "source": [
    "import pandas as pd"
   ]
  },
  {
   "cell_type": "code",
   "execution_count": 2,
   "id": "a38304eb-23aa-4dab-a949-56bc6113850d",
   "metadata": {},
   "outputs": [],
   "source": [
    "DATA_PATH = '../data/eComm-behavior/eCommerce-behavior-data-2019-Oct.csv'"
   ]
  },
  {
   "cell_type": "code",
   "execution_count": 3,
   "id": "cf97597e-ce9d-4cc1-a1f5-a3e352d6f12a",
   "metadata": {},
   "outputs": [],
   "source": [
    "raw_data = pd.read_csv(DATA_PATH)"
   ]
  },
  {
   "cell_type": "code",
   "execution_count": 4,
   "id": "a5de9bc5-ccdb-4ff7-bb8e-53da85aea7a4",
   "metadata": {},
   "outputs": [
    {
     "data": {
      "text/html": [
       "<div>\n",
       "<style scoped>\n",
       "    .dataframe tbody tr th:only-of-type {\n",
       "        vertical-align: middle;\n",
       "    }\n",
       "\n",
       "    .dataframe tbody tr th {\n",
       "        vertical-align: top;\n",
       "    }\n",
       "\n",
       "    .dataframe thead th {\n",
       "        text-align: right;\n",
       "    }\n",
       "</style>\n",
       "<table border=\"1\" class=\"dataframe\">\n",
       "  <thead>\n",
       "    <tr style=\"text-align: right;\">\n",
       "      <th></th>\n",
       "      <th>event_time</th>\n",
       "      <th>event_type</th>\n",
       "      <th>product_id</th>\n",
       "      <th>category_id</th>\n",
       "      <th>category_code</th>\n",
       "      <th>brand</th>\n",
       "      <th>price</th>\n",
       "      <th>user_id</th>\n",
       "      <th>user_session</th>\n",
       "    </tr>\n",
       "  </thead>\n",
       "  <tbody>\n",
       "    <tr>\n",
       "      <th>0</th>\n",
       "      <td>2019-10-01 00:00:00 UTC</td>\n",
       "      <td>view</td>\n",
       "      <td>44600062</td>\n",
       "      <td>2103807459595387724</td>\n",
       "      <td>NaN</td>\n",
       "      <td>shiseido</td>\n",
       "      <td>35.79</td>\n",
       "      <td>541312140</td>\n",
       "      <td>72d76fde-8bb3-4e00-8c23-a032dfed738c</td>\n",
       "    </tr>\n",
       "    <tr>\n",
       "      <th>1</th>\n",
       "      <td>2019-10-01 00:00:00 UTC</td>\n",
       "      <td>view</td>\n",
       "      <td>3900821</td>\n",
       "      <td>2053013552326770905</td>\n",
       "      <td>appliances.environment.water_heater</td>\n",
       "      <td>aqua</td>\n",
       "      <td>33.20</td>\n",
       "      <td>554748717</td>\n",
       "      <td>9333dfbd-b87a-4708-9857-6336556b0fcc</td>\n",
       "    </tr>\n",
       "    <tr>\n",
       "      <th>2</th>\n",
       "      <td>2019-10-01 00:00:01 UTC</td>\n",
       "      <td>view</td>\n",
       "      <td>17200506</td>\n",
       "      <td>2053013559792632471</td>\n",
       "      <td>furniture.living_room.sofa</td>\n",
       "      <td>NaN</td>\n",
       "      <td>543.10</td>\n",
       "      <td>519107250</td>\n",
       "      <td>566511c2-e2e3-422b-b695-cf8e6e792ca8</td>\n",
       "    </tr>\n",
       "    <tr>\n",
       "      <th>3</th>\n",
       "      <td>2019-10-01 00:00:01 UTC</td>\n",
       "      <td>view</td>\n",
       "      <td>1307067</td>\n",
       "      <td>2053013558920217191</td>\n",
       "      <td>computers.notebook</td>\n",
       "      <td>lenovo</td>\n",
       "      <td>251.74</td>\n",
       "      <td>550050854</td>\n",
       "      <td>7c90fc70-0e80-4590-96f3-13c02c18c713</td>\n",
       "    </tr>\n",
       "    <tr>\n",
       "      <th>4</th>\n",
       "      <td>2019-10-01 00:00:04 UTC</td>\n",
       "      <td>view</td>\n",
       "      <td>1004237</td>\n",
       "      <td>2053013555631882655</td>\n",
       "      <td>electronics.smartphone</td>\n",
       "      <td>apple</td>\n",
       "      <td>1081.98</td>\n",
       "      <td>535871217</td>\n",
       "      <td>c6bd7419-2748-4c56-95b4-8cec9ff8b80d</td>\n",
       "    </tr>\n",
       "  </tbody>\n",
       "</table>\n",
       "</div>"
      ],
      "text/plain": [
       "                event_time event_type  product_id          category_id  \\\n",
       "0  2019-10-01 00:00:00 UTC       view    44600062  2103807459595387724   \n",
       "1  2019-10-01 00:00:00 UTC       view     3900821  2053013552326770905   \n",
       "2  2019-10-01 00:00:01 UTC       view    17200506  2053013559792632471   \n",
       "3  2019-10-01 00:00:01 UTC       view     1307067  2053013558920217191   \n",
       "4  2019-10-01 00:00:04 UTC       view     1004237  2053013555631882655   \n",
       "\n",
       "                         category_code     brand    price    user_id  \\\n",
       "0                                  NaN  shiseido    35.79  541312140   \n",
       "1  appliances.environment.water_heater      aqua    33.20  554748717   \n",
       "2           furniture.living_room.sofa       NaN   543.10  519107250   \n",
       "3                   computers.notebook    lenovo   251.74  550050854   \n",
       "4               electronics.smartphone     apple  1081.98  535871217   \n",
       "\n",
       "                           user_session  \n",
       "0  72d76fde-8bb3-4e00-8c23-a032dfed738c  \n",
       "1  9333dfbd-b87a-4708-9857-6336556b0fcc  \n",
       "2  566511c2-e2e3-422b-b695-cf8e6e792ca8  \n",
       "3  7c90fc70-0e80-4590-96f3-13c02c18c713  \n",
       "4  c6bd7419-2748-4c56-95b4-8cec9ff8b80d  "
      ]
     },
     "execution_count": 4,
     "metadata": {},
     "output_type": "execute_result"
    }
   ],
   "source": [
    "raw_data.head()"
   ]
  },
  {
   "cell_type": "code",
   "execution_count": 15,
   "id": "b6fddab2-1a73-4a1a-9380-d597fda5702d",
   "metadata": {},
   "outputs": [],
   "source": [
    "raw_data = raw_data.dropna()"
   ]
  },
  {
   "cell_type": "code",
   "execution_count": 25,
   "id": "43f16876-2d3b-4dc2-a245-14205311e92e",
   "metadata": {},
   "outputs": [],
   "source": [
    "interactions_count = raw_data.groupby(by=['user_id'])['product_id'].size().reset_index(name='total_interactions')"
   ]
  },
  {
   "cell_type": "code",
   "execution_count": 32,
   "id": "681022e3-ff7d-4c9f-ac10-6d168f398b75",
   "metadata": {},
   "outputs": [
    {
     "data": {
      "text/html": [
       "<div>\n",
       "<style scoped>\n",
       "    .dataframe tbody tr th:only-of-type {\n",
       "        vertical-align: middle;\n",
       "    }\n",
       "\n",
       "    .dataframe tbody tr th {\n",
       "        vertical-align: top;\n",
       "    }\n",
       "\n",
       "    .dataframe thead th {\n",
       "        text-align: right;\n",
       "    }\n",
       "</style>\n",
       "<table border=\"1\" class=\"dataframe\">\n",
       "  <thead>\n",
       "    <tr style=\"text-align: right;\">\n",
       "      <th></th>\n",
       "      <th>user_id</th>\n",
       "      <th>total_interactions</th>\n",
       "    </tr>\n",
       "  </thead>\n",
       "  <tbody>\n",
       "    <tr>\n",
       "      <th>0</th>\n",
       "      <td>33869381</td>\n",
       "      <td>1</td>\n",
       "    </tr>\n",
       "    <tr>\n",
       "      <th>1</th>\n",
       "      <td>184265397</td>\n",
       "      <td>4</td>\n",
       "    </tr>\n",
       "    <tr>\n",
       "      <th>2</th>\n",
       "      <td>195082191</td>\n",
       "      <td>1</td>\n",
       "    </tr>\n",
       "    <tr>\n",
       "      <th>3</th>\n",
       "      <td>200673532</td>\n",
       "      <td>4</td>\n",
       "    </tr>\n",
       "    <tr>\n",
       "      <th>4</th>\n",
       "      <td>208669541</td>\n",
       "      <td>1</td>\n",
       "    </tr>\n",
       "  </tbody>\n",
       "</table>\n",
       "</div>"
      ],
      "text/plain": [
       "     user_id  total_interactions\n",
       "0   33869381                   1\n",
       "1  184265397                   4\n",
       "2  195082191                   1\n",
       "3  200673532                   4\n",
       "4  208669541                   1"
      ]
     },
     "execution_count": 32,
     "metadata": {},
     "output_type": "execute_result"
    }
   ],
   "source": [
    "interactions_count.head()"
   ]
  },
  {
   "cell_type": "code",
   "execution_count": 33,
   "id": "a787e39a-5dd3-40cf-b019-13934649e2fb",
   "metadata": {},
   "outputs": [],
   "source": [
    "sample_users = interactions_count[(interactions_count.total_interactions>300) & (interactions_count.total_interactions<315)].user_id.unique()"
   ]
  },
  {
   "cell_type": "code",
   "execution_count": 34,
   "id": "7caf5d7a-6de6-47f0-990a-cd20a74a7df8",
   "metadata": {},
   "outputs": [
    {
     "data": {
      "text/plain": [
       "241"
      ]
     },
     "execution_count": 34,
     "metadata": {},
     "output_type": "execute_result"
    }
   ],
   "source": [
    "len(sample_users)"
   ]
  },
  {
   "cell_type": "code",
   "execution_count": 37,
   "id": "59388cd4-3a2f-4ea9-b90b-830aefe05eb9",
   "metadata": {},
   "outputs": [],
   "source": [
    "sample_data = raw_data[raw_data.user_id.isin(sample_users)]"
   ]
  },
  {
   "cell_type": "code",
   "execution_count": 38,
   "id": "e8e9c0e6-4239-48dc-b570-7a58cb358efc",
   "metadata": {},
   "outputs": [
    {
     "data": {
      "text/plain": [
       "(74085, 9)"
      ]
     },
     "execution_count": 38,
     "metadata": {},
     "output_type": "execute_result"
    }
   ],
   "source": [
    "sample_data.shape"
   ]
  },
  {
   "cell_type": "code",
   "execution_count": 39,
   "id": "05f895c9-135a-42b8-a018-25aebbfcfaeb",
   "metadata": {},
   "outputs": [
    {
     "data": {
      "text/html": [
       "<div>\n",
       "<style scoped>\n",
       "    .dataframe tbody tr th:only-of-type {\n",
       "        vertical-align: middle;\n",
       "    }\n",
       "\n",
       "    .dataframe tbody tr th {\n",
       "        vertical-align: top;\n",
       "    }\n",
       "\n",
       "    .dataframe thead th {\n",
       "        text-align: right;\n",
       "    }\n",
       "</style>\n",
       "<table border=\"1\" class=\"dataframe\">\n",
       "  <thead>\n",
       "    <tr style=\"text-align: right;\">\n",
       "      <th></th>\n",
       "      <th>event_time</th>\n",
       "      <th>event_type</th>\n",
       "      <th>product_id</th>\n",
       "      <th>category_id</th>\n",
       "      <th>category_code</th>\n",
       "      <th>brand</th>\n",
       "      <th>price</th>\n",
       "      <th>user_id</th>\n",
       "      <th>user_session</th>\n",
       "    </tr>\n",
       "  </thead>\n",
       "  <tbody>\n",
       "    <tr>\n",
       "      <th>7197</th>\n",
       "      <td>2019-10-01 02:32:17 UTC</td>\n",
       "      <td>view</td>\n",
       "      <td>5100721</td>\n",
       "      <td>2053013553341792533</td>\n",
       "      <td>electronics.clocks</td>\n",
       "      <td>huawei</td>\n",
       "      <td>197.95</td>\n",
       "      <td>513630467</td>\n",
       "      <td>a1964e18-ba3c-4e5a-8093-7e4cdbaa9220</td>\n",
       "    </tr>\n",
       "    <tr>\n",
       "      <th>20992</th>\n",
       "      <td>2019-10-01 02:55:32 UTC</td>\n",
       "      <td>view</td>\n",
       "      <td>1005135</td>\n",
       "      <td>2053013555631882655</td>\n",
       "      <td>electronics.smartphone</td>\n",
       "      <td>apple</td>\n",
       "      <td>1747.79</td>\n",
       "      <td>512479014</td>\n",
       "      <td>f78417fe-8a8e-4d3b-bba7-c4a53d4cea2a</td>\n",
       "    </tr>\n",
       "    <tr>\n",
       "      <th>21550</th>\n",
       "      <td>2019-10-01 02:56:23 UTC</td>\n",
       "      <td>view</td>\n",
       "      <td>1005115</td>\n",
       "      <td>2053013555631882655</td>\n",
       "      <td>electronics.smartphone</td>\n",
       "      <td>apple</td>\n",
       "      <td>975.57</td>\n",
       "      <td>512479014</td>\n",
       "      <td>64bcac8d-f40a-4141-a1e5-bafb9e9781b7</td>\n",
       "    </tr>\n",
       "    <tr>\n",
       "      <th>22482</th>\n",
       "      <td>2019-10-01 02:57:43 UTC</td>\n",
       "      <td>view</td>\n",
       "      <td>1005137</td>\n",
       "      <td>2053013555631882655</td>\n",
       "      <td>electronics.smartphone</td>\n",
       "      <td>apple</td>\n",
       "      <td>1541.87</td>\n",
       "      <td>512479014</td>\n",
       "      <td>64bcac8d-f40a-4141-a1e5-bafb9e9781b7</td>\n",
       "    </tr>\n",
       "    <tr>\n",
       "      <th>25880</th>\n",
       "      <td>2019-10-01 03:02:26 UTC</td>\n",
       "      <td>view</td>\n",
       "      <td>1004321</td>\n",
       "      <td>2053013555631882655</td>\n",
       "      <td>electronics.smartphone</td>\n",
       "      <td>huawei</td>\n",
       "      <td>243.25</td>\n",
       "      <td>522799138</td>\n",
       "      <td>34c42854-a58b-4870-b5c0-c15582e4b783</td>\n",
       "    </tr>\n",
       "  </tbody>\n",
       "</table>\n",
       "</div>"
      ],
      "text/plain": [
       "                    event_time event_type  product_id          category_id  \\\n",
       "7197   2019-10-01 02:32:17 UTC       view     5100721  2053013553341792533   \n",
       "20992  2019-10-01 02:55:32 UTC       view     1005135  2053013555631882655   \n",
       "21550  2019-10-01 02:56:23 UTC       view     1005115  2053013555631882655   \n",
       "22482  2019-10-01 02:57:43 UTC       view     1005137  2053013555631882655   \n",
       "25880  2019-10-01 03:02:26 UTC       view     1004321  2053013555631882655   \n",
       "\n",
       "                category_code   brand    price    user_id  \\\n",
       "7197       electronics.clocks  huawei   197.95  513630467   \n",
       "20992  electronics.smartphone   apple  1747.79  512479014   \n",
       "21550  electronics.smartphone   apple   975.57  512479014   \n",
       "22482  electronics.smartphone   apple  1541.87  512479014   \n",
       "25880  electronics.smartphone  huawei   243.25  522799138   \n",
       "\n",
       "                               user_session  \n",
       "7197   a1964e18-ba3c-4e5a-8093-7e4cdbaa9220  \n",
       "20992  f78417fe-8a8e-4d3b-bba7-c4a53d4cea2a  \n",
       "21550  64bcac8d-f40a-4141-a1e5-bafb9e9781b7  \n",
       "22482  64bcac8d-f40a-4141-a1e5-bafb9e9781b7  \n",
       "25880  34c42854-a58b-4870-b5c0-c15582e4b783  "
      ]
     },
     "execution_count": 39,
     "metadata": {},
     "output_type": "execute_result"
    }
   ],
   "source": [
    "sample_data.head()"
   ]
  },
  {
   "cell_type": "code",
   "execution_count": 67,
   "id": "cf8bc8fb-3b6b-41f2-8289-72f5e698b6f8",
   "metadata": {},
   "outputs": [
    {
     "name": "stderr",
     "output_type": "stream",
     "text": [
      "/var/folders/g7/66p63lnn5_55gcwkh8g9n2fm0000gp/T/ipykernel_5680/3687133874.py:1: SettingWithCopyWarning: \n",
      "A value is trying to be set on a copy of a slice from a DataFrame.\n",
      "Try using .loc[row_indexer,col_indexer] = value instead\n",
      "\n",
      "See the caveats in the documentation: https://pandas.pydata.org/pandas-docs/stable/user_guide/indexing.html#returning-a-view-versus-a-copy\n",
      "  sample_data[['cat_1', 'cat_2']] = sample_data['category_code'].str.split('.', 1, expand=True)\n"
     ]
    }
   ],
   "source": [
    "sample_data[['cat_1', 'cat_2']] = sample_data['category_code'].str.split('.', 1, expand=True)"
   ]
  },
  {
   "cell_type": "code",
   "execution_count": 68,
   "id": "778e88f4-2737-4f00-a576-72f18243f104",
   "metadata": {},
   "outputs": [
    {
     "name": "stderr",
     "output_type": "stream",
     "text": [
      "/var/folders/g7/66p63lnn5_55gcwkh8g9n2fm0000gp/T/ipykernel_5680/2967722177.py:1: SettingWithCopyWarning: \n",
      "A value is trying to be set on a copy of a slice from a DataFrame.\n",
      "Try using .loc[row_indexer,col_indexer] = value instead\n",
      "\n",
      "See the caveats in the documentation: https://pandas.pydata.org/pandas-docs/stable/user_guide/indexing.html#returning-a-view-versus-a-copy\n",
      "  sample_data['cat_2'] = sample_data['cat_2'].str.split('.').str[0]\n"
     ]
    }
   ],
   "source": [
    "sample_data['cat_2'] = sample_data['cat_2'].str.split('.').str[0]"
   ]
  },
  {
   "cell_type": "code",
   "execution_count": 71,
   "id": "4660b920-4169-441a-85be-5b7b74c40d98",
   "metadata": {},
   "outputs": [
    {
     "data": {
      "text/html": [
       "<div>\n",
       "<style scoped>\n",
       "    .dataframe tbody tr th:only-of-type {\n",
       "        vertical-align: middle;\n",
       "    }\n",
       "\n",
       "    .dataframe tbody tr th {\n",
       "        vertical-align: top;\n",
       "    }\n",
       "\n",
       "    .dataframe thead th {\n",
       "        text-align: right;\n",
       "    }\n",
       "</style>\n",
       "<table border=\"1\" class=\"dataframe\">\n",
       "  <thead>\n",
       "    <tr style=\"text-align: right;\">\n",
       "      <th></th>\n",
       "      <th>event_time</th>\n",
       "      <th>event_type</th>\n",
       "      <th>product_id</th>\n",
       "      <th>category_id</th>\n",
       "      <th>category_code</th>\n",
       "      <th>brand</th>\n",
       "      <th>price</th>\n",
       "      <th>user_id</th>\n",
       "      <th>user_session</th>\n",
       "      <th>cat_1</th>\n",
       "      <th>cat_2</th>\n",
       "    </tr>\n",
       "  </thead>\n",
       "  <tbody>\n",
       "    <tr>\n",
       "      <th>7197</th>\n",
       "      <td>2019-10-01 02:32:17 UTC</td>\n",
       "      <td>view</td>\n",
       "      <td>5100721</td>\n",
       "      <td>2053013553341792533</td>\n",
       "      <td>electronics.clocks</td>\n",
       "      <td>huawei</td>\n",
       "      <td>197.95</td>\n",
       "      <td>513630467</td>\n",
       "      <td>a1964e18-ba3c-4e5a-8093-7e4cdbaa9220</td>\n",
       "      <td>electronics</td>\n",
       "      <td>clocks</td>\n",
       "    </tr>\n",
       "    <tr>\n",
       "      <th>20992</th>\n",
       "      <td>2019-10-01 02:55:32 UTC</td>\n",
       "      <td>view</td>\n",
       "      <td>1005135</td>\n",
       "      <td>2053013555631882655</td>\n",
       "      <td>electronics.smartphone</td>\n",
       "      <td>apple</td>\n",
       "      <td>1747.79</td>\n",
       "      <td>512479014</td>\n",
       "      <td>f78417fe-8a8e-4d3b-bba7-c4a53d4cea2a</td>\n",
       "      <td>electronics</td>\n",
       "      <td>smartphone</td>\n",
       "    </tr>\n",
       "    <tr>\n",
       "      <th>21550</th>\n",
       "      <td>2019-10-01 02:56:23 UTC</td>\n",
       "      <td>view</td>\n",
       "      <td>1005115</td>\n",
       "      <td>2053013555631882655</td>\n",
       "      <td>electronics.smartphone</td>\n",
       "      <td>apple</td>\n",
       "      <td>975.57</td>\n",
       "      <td>512479014</td>\n",
       "      <td>64bcac8d-f40a-4141-a1e5-bafb9e9781b7</td>\n",
       "      <td>electronics</td>\n",
       "      <td>smartphone</td>\n",
       "    </tr>\n",
       "    <tr>\n",
       "      <th>22482</th>\n",
       "      <td>2019-10-01 02:57:43 UTC</td>\n",
       "      <td>view</td>\n",
       "      <td>1005137</td>\n",
       "      <td>2053013555631882655</td>\n",
       "      <td>electronics.smartphone</td>\n",
       "      <td>apple</td>\n",
       "      <td>1541.87</td>\n",
       "      <td>512479014</td>\n",
       "      <td>64bcac8d-f40a-4141-a1e5-bafb9e9781b7</td>\n",
       "      <td>electronics</td>\n",
       "      <td>smartphone</td>\n",
       "    </tr>\n",
       "    <tr>\n",
       "      <th>25880</th>\n",
       "      <td>2019-10-01 03:02:26 UTC</td>\n",
       "      <td>view</td>\n",
       "      <td>1004321</td>\n",
       "      <td>2053013555631882655</td>\n",
       "      <td>electronics.smartphone</td>\n",
       "      <td>huawei</td>\n",
       "      <td>243.25</td>\n",
       "      <td>522799138</td>\n",
       "      <td>34c42854-a58b-4870-b5c0-c15582e4b783</td>\n",
       "      <td>electronics</td>\n",
       "      <td>smartphone</td>\n",
       "    </tr>\n",
       "  </tbody>\n",
       "</table>\n",
       "</div>"
      ],
      "text/plain": [
       "                    event_time event_type  product_id          category_id  \\\n",
       "7197   2019-10-01 02:32:17 UTC       view     5100721  2053013553341792533   \n",
       "20992  2019-10-01 02:55:32 UTC       view     1005135  2053013555631882655   \n",
       "21550  2019-10-01 02:56:23 UTC       view     1005115  2053013555631882655   \n",
       "22482  2019-10-01 02:57:43 UTC       view     1005137  2053013555631882655   \n",
       "25880  2019-10-01 03:02:26 UTC       view     1004321  2053013555631882655   \n",
       "\n",
       "                category_code   brand    price    user_id  \\\n",
       "7197       electronics.clocks  huawei   197.95  513630467   \n",
       "20992  electronics.smartphone   apple  1747.79  512479014   \n",
       "21550  electronics.smartphone   apple   975.57  512479014   \n",
       "22482  electronics.smartphone   apple  1541.87  512479014   \n",
       "25880  electronics.smartphone  huawei   243.25  522799138   \n",
       "\n",
       "                               user_session        cat_1       cat_2  \n",
       "7197   a1964e18-ba3c-4e5a-8093-7e4cdbaa9220  electronics      clocks  \n",
       "20992  f78417fe-8a8e-4d3b-bba7-c4a53d4cea2a  electronics  smartphone  \n",
       "21550  64bcac8d-f40a-4141-a1e5-bafb9e9781b7  electronics  smartphone  \n",
       "22482  64bcac8d-f40a-4141-a1e5-bafb9e9781b7  electronics  smartphone  \n",
       "25880  34c42854-a58b-4870-b5c0-c15582e4b783  electronics  smartphone  "
      ]
     },
     "execution_count": 71,
     "metadata": {},
     "output_type": "execute_result"
    }
   ],
   "source": [
    "sample_data.head()"
   ]
  },
  {
   "cell_type": "code",
   "execution_count": 72,
   "id": "f05362bf-ac71-492d-8481-c98735f9a18b",
   "metadata": {},
   "outputs": [
    {
     "name": "stderr",
     "output_type": "stream",
     "text": [
      "/var/folders/g7/66p63lnn5_55gcwkh8g9n2fm0000gp/T/ipykernel_5680/4178510142.py:1: SettingWithCopyWarning: \n",
      "A value is trying to be set on a copy of a slice from a DataFrame.\n",
      "Try using .loc[row_indexer,col_indexer] = value instead\n",
      "\n",
      "See the caveats in the documentation: https://pandas.pydata.org/pandas-docs/stable/user_guide/indexing.html#returning-a-view-versus-a-copy\n",
      "  sample_data['event_time'] = sample_data['event_time'].apply(lambda x : pd.to_datetime(x).value)\n"
     ]
    }
   ],
   "source": [
    "sample_data['event_time'] = sample_data['event_time'].apply(lambda x : pd.to_datetime(x).value)"
   ]
  },
  {
   "cell_type": "code",
   "execution_count": 73,
   "id": "14760f6a-5aef-4b67-8ded-c25245768cff",
   "metadata": {},
   "outputs": [
    {
     "data": {
      "text/html": [
       "<div>\n",
       "<style scoped>\n",
       "    .dataframe tbody tr th:only-of-type {\n",
       "        vertical-align: middle;\n",
       "    }\n",
       "\n",
       "    .dataframe tbody tr th {\n",
       "        vertical-align: top;\n",
       "    }\n",
       "\n",
       "    .dataframe thead th {\n",
       "        text-align: right;\n",
       "    }\n",
       "</style>\n",
       "<table border=\"1\" class=\"dataframe\">\n",
       "  <thead>\n",
       "    <tr style=\"text-align: right;\">\n",
       "      <th></th>\n",
       "      <th>event_time</th>\n",
       "      <th>event_type</th>\n",
       "      <th>product_id</th>\n",
       "      <th>category_id</th>\n",
       "      <th>category_code</th>\n",
       "      <th>brand</th>\n",
       "      <th>price</th>\n",
       "      <th>user_id</th>\n",
       "      <th>user_session</th>\n",
       "      <th>cat_1</th>\n",
       "      <th>cat_2</th>\n",
       "    </tr>\n",
       "  </thead>\n",
       "  <tbody>\n",
       "    <tr>\n",
       "      <th>7197</th>\n",
       "      <td>1569897137000000000</td>\n",
       "      <td>view</td>\n",
       "      <td>5100721</td>\n",
       "      <td>2053013553341792533</td>\n",
       "      <td>electronics.clocks</td>\n",
       "      <td>huawei</td>\n",
       "      <td>197.95</td>\n",
       "      <td>513630467</td>\n",
       "      <td>a1964e18-ba3c-4e5a-8093-7e4cdbaa9220</td>\n",
       "      <td>electronics</td>\n",
       "      <td>clocks</td>\n",
       "    </tr>\n",
       "    <tr>\n",
       "      <th>20992</th>\n",
       "      <td>1569898532000000000</td>\n",
       "      <td>view</td>\n",
       "      <td>1005135</td>\n",
       "      <td>2053013555631882655</td>\n",
       "      <td>electronics.smartphone</td>\n",
       "      <td>apple</td>\n",
       "      <td>1747.79</td>\n",
       "      <td>512479014</td>\n",
       "      <td>f78417fe-8a8e-4d3b-bba7-c4a53d4cea2a</td>\n",
       "      <td>electronics</td>\n",
       "      <td>smartphone</td>\n",
       "    </tr>\n",
       "  </tbody>\n",
       "</table>\n",
       "</div>"
      ],
      "text/plain": [
       "                event_time event_type  product_id          category_id  \\\n",
       "7197   1569897137000000000       view     5100721  2053013553341792533   \n",
       "20992  1569898532000000000       view     1005135  2053013555631882655   \n",
       "\n",
       "                category_code   brand    price    user_id  \\\n",
       "7197       electronics.clocks  huawei   197.95  513630467   \n",
       "20992  electronics.smartphone   apple  1747.79  512479014   \n",
       "\n",
       "                               user_session        cat_1       cat_2  \n",
       "7197   a1964e18-ba3c-4e5a-8093-7e4cdbaa9220  electronics      clocks  \n",
       "20992  f78417fe-8a8e-4d3b-bba7-c4a53d4cea2a  electronics  smartphone  "
      ]
     },
     "execution_count": 73,
     "metadata": {},
     "output_type": "execute_result"
    }
   ],
   "source": [
    "sample_data.head(2)"
   ]
  },
  {
   "cell_type": "code",
   "execution_count": 74,
   "id": "873a0452-06dc-4996-9682-825d8d5bda3c",
   "metadata": {},
   "outputs": [
    {
     "name": "stderr",
     "output_type": "stream",
     "text": [
      "/var/folders/g7/66p63lnn5_55gcwkh8g9n2fm0000gp/T/ipykernel_5680/3837352298.py:1: SettingWithCopyWarning: \n",
      "A value is trying to be set on a copy of a slice from a DataFrame.\n",
      "Try using .loc[row_indexer,col_indexer] = value instead\n",
      "\n",
      "See the caveats in the documentation: https://pandas.pydata.org/pandas-docs/stable/user_guide/indexing.html#returning-a-view-versus-a-copy\n",
      "  sample_data['user_id'] = sample_data['user_id'].astype('category')\n",
      "/var/folders/g7/66p63lnn5_55gcwkh8g9n2fm0000gp/T/ipykernel_5680/3837352298.py:2: SettingWithCopyWarning: \n",
      "A value is trying to be set on a copy of a slice from a DataFrame.\n",
      "Try using .loc[row_indexer,col_indexer] = value instead\n",
      "\n",
      "See the caveats in the documentation: https://pandas.pydata.org/pandas-docs/stable/user_guide/indexing.html#returning-a-view-versus-a-copy\n",
      "  sample_data['user_id_num'] = sample_data['user_id'].cat.codes\n"
     ]
    }
   ],
   "source": [
    "sample_data['user_id'] = sample_data['user_id'].astype('category')\n",
    "sample_data['user_id_num'] = sample_data['user_id'].cat.codes\n",
    "user_id_to_num = dict(zip(sample_data['user_id'], sample_data['user_id_num']))"
   ]
  },
  {
   "cell_type": "code",
   "execution_count": 78,
   "id": "a0bd7559-3ff0-46c8-95ce-0153dbf8f4b6",
   "metadata": {},
   "outputs": [
    {
     "name": "stderr",
     "output_type": "stream",
     "text": [
      "/var/folders/g7/66p63lnn5_55gcwkh8g9n2fm0000gp/T/ipykernel_5680/579562444.py:1: SettingWithCopyWarning: \n",
      "A value is trying to be set on a copy of a slice from a DataFrame.\n",
      "Try using .loc[row_indexer,col_indexer] = value instead\n",
      "\n",
      "See the caveats in the documentation: https://pandas.pydata.org/pandas-docs/stable/user_guide/indexing.html#returning-a-view-versus-a-copy\n",
      "  sample_data['product_id'] = sample_data['product_id'].astype('category')\n",
      "/var/folders/g7/66p63lnn5_55gcwkh8g9n2fm0000gp/T/ipykernel_5680/579562444.py:2: SettingWithCopyWarning: \n",
      "A value is trying to be set on a copy of a slice from a DataFrame.\n",
      "Try using .loc[row_indexer,col_indexer] = value instead\n",
      "\n",
      "See the caveats in the documentation: https://pandas.pydata.org/pandas-docs/stable/user_guide/indexing.html#returning-a-view-versus-a-copy\n",
      "  sample_data['product_id_num'] = sample_data['product_id'].cat.codes\n"
     ]
    }
   ],
   "source": [
    "sample_data['product_id'] = sample_data['product_id'].astype('category')\n",
    "sample_data['product_id_num'] = sample_data['product_id'].cat.codes\n",
    "item_id_to_num = dict(zip(sample_data['product_id'], sample_data['product_id_num']))"
   ]
  },
  {
   "cell_type": "code",
   "execution_count": 79,
   "id": "d4f69911-5b07-433d-a07e-5e84fe3de651",
   "metadata": {},
   "outputs": [
    {
     "data": {
      "text/html": [
       "<div>\n",
       "<style scoped>\n",
       "    .dataframe tbody tr th:only-of-type {\n",
       "        vertical-align: middle;\n",
       "    }\n",
       "\n",
       "    .dataframe tbody tr th {\n",
       "        vertical-align: top;\n",
       "    }\n",
       "\n",
       "    .dataframe thead th {\n",
       "        text-align: right;\n",
       "    }\n",
       "</style>\n",
       "<table border=\"1\" class=\"dataframe\">\n",
       "  <thead>\n",
       "    <tr style=\"text-align: right;\">\n",
       "      <th></th>\n",
       "      <th>event_time</th>\n",
       "      <th>event_type</th>\n",
       "      <th>product_id</th>\n",
       "      <th>category_id</th>\n",
       "      <th>category_code</th>\n",
       "      <th>brand</th>\n",
       "      <th>price</th>\n",
       "      <th>user_id</th>\n",
       "      <th>user_session</th>\n",
       "      <th>cat_1</th>\n",
       "      <th>cat_2</th>\n",
       "      <th>user_id_num</th>\n",
       "      <th>product_id_num</th>\n",
       "    </tr>\n",
       "  </thead>\n",
       "  <tbody>\n",
       "    <tr>\n",
       "      <th>7197</th>\n",
       "      <td>1569897137000000000</td>\n",
       "      <td>view</td>\n",
       "      <td>5100721</td>\n",
       "      <td>2053013553341792533</td>\n",
       "      <td>electronics.clocks</td>\n",
       "      <td>huawei</td>\n",
       "      <td>197.95</td>\n",
       "      <td>513630467</td>\n",
       "      <td>a1964e18-ba3c-4e5a-8093-7e4cdbaa9220</td>\n",
       "      <td>electronics</td>\n",
       "      <td>clocks</td>\n",
       "      <td>48</td>\n",
       "      <td>4728</td>\n",
       "    </tr>\n",
       "    <tr>\n",
       "      <th>20992</th>\n",
       "      <td>1569898532000000000</td>\n",
       "      <td>view</td>\n",
       "      <td>1005135</td>\n",
       "      <td>2053013555631882655</td>\n",
       "      <td>electronics.smartphone</td>\n",
       "      <td>apple</td>\n",
       "      <td>1747.79</td>\n",
       "      <td>512479014</td>\n",
       "      <td>f78417fe-8a8e-4d3b-bba7-c4a53d4cea2a</td>\n",
       "      <td>electronics</td>\n",
       "      <td>smartphone</td>\n",
       "      <td>9</td>\n",
       "      <td>794</td>\n",
       "    </tr>\n",
       "  </tbody>\n",
       "</table>\n",
       "</div>"
      ],
      "text/plain": [
       "                event_time event_type product_id          category_id  \\\n",
       "7197   1569897137000000000       view    5100721  2053013553341792533   \n",
       "20992  1569898532000000000       view    1005135  2053013555631882655   \n",
       "\n",
       "                category_code   brand    price    user_id  \\\n",
       "7197       electronics.clocks  huawei   197.95  513630467   \n",
       "20992  electronics.smartphone   apple  1747.79  512479014   \n",
       "\n",
       "                               user_session        cat_1       cat_2  \\\n",
       "7197   a1964e18-ba3c-4e5a-8093-7e4cdbaa9220  electronics      clocks   \n",
       "20992  f78417fe-8a8e-4d3b-bba7-c4a53d4cea2a  electronics  smartphone   \n",
       "\n",
       "       user_id_num  product_id_num  \n",
       "7197            48            4728  \n",
       "20992            9             794  "
      ]
     },
     "execution_count": 79,
     "metadata": {},
     "output_type": "execute_result"
    }
   ],
   "source": [
    "sample_data.head(2)"
   ]
  },
  {
   "cell_type": "code",
   "execution_count": 80,
   "id": "c557cf07-5248-4024-977a-13a911e44b12",
   "metadata": {},
   "outputs": [
    {
     "data": {
      "text/plain": [
       "(74085, 13)"
      ]
     },
     "execution_count": 80,
     "metadata": {},
     "output_type": "execute_result"
    }
   ],
   "source": [
    "sample_data.shape"
   ]
  },
  {
   "cell_type": "code",
   "execution_count": 81,
   "id": "9b879319-50a0-4ba1-afbe-1feb8e0e108b",
   "metadata": {},
   "outputs": [
    {
     "name": "stderr",
     "output_type": "stream",
     "text": [
      "/var/folders/g7/66p63lnn5_55gcwkh8g9n2fm0000gp/T/ipykernel_5680/2571106201.py:1: SettingWithCopyWarning: \n",
      "A value is trying to be set on a copy of a slice from a DataFrame\n",
      "\n",
      "See the caveats in the documentation: https://pandas.pydata.org/pandas-docs/stable/user_guide/indexing.html#returning-a-view-versus-a-copy\n",
      "  sample_data.drop_duplicates(subset=['event_time', 'user_id', 'product_id'], inplace=True)\n"
     ]
    }
   ],
   "source": [
    "sample_data.drop_duplicates(subset=['event_time', 'user_id', 'product_id'], inplace=True)"
   ]
  },
  {
   "cell_type": "code",
   "execution_count": 82,
   "id": "7ab2a91b-f7f5-4450-8257-dab84791a421",
   "metadata": {},
   "outputs": [
    {
     "data": {
      "text/plain": [
       "(73864, 13)"
      ]
     },
     "execution_count": 82,
     "metadata": {},
     "output_type": "execute_result"
    }
   ],
   "source": [
    "sample_data.shape"
   ]
  },
  {
   "cell_type": "code",
   "execution_count": 83,
   "id": "8556cfb1-b01f-4148-8225-197b3f12b4b1",
   "metadata": {},
   "outputs": [
    {
     "name": "stdout",
     "output_type": "stream",
     "text": [
      "<class 'pandas.core.frame.DataFrame'>\n",
      "Int64Index: 73864 entries, 7197 to 42447321\n",
      "Data columns (total 13 columns):\n",
      " #   Column          Non-Null Count  Dtype   \n",
      "---  ------          --------------  -----   \n",
      " 0   event_time      73864 non-null  int64   \n",
      " 1   event_type      73864 non-null  object  \n",
      " 2   product_id      73864 non-null  category\n",
      " 3   category_id     73864 non-null  int64   \n",
      " 4   category_code   73864 non-null  object  \n",
      " 5   brand           73864 non-null  object  \n",
      " 6   price           73864 non-null  float64 \n",
      " 7   user_id         73864 non-null  category\n",
      " 8   user_session    73864 non-null  object  \n",
      " 9   cat_1           73864 non-null  object  \n",
      " 10  cat_2           73864 non-null  object  \n",
      " 11  user_id_num     73864 non-null  int16   \n",
      " 12  product_id_num  73864 non-null  int16   \n",
      "dtypes: category(2), float64(1), int16(2), int64(2), object(6)\n",
      "memory usage: 6.5+ MB\n"
     ]
    }
   ],
   "source": [
    "sample_data.info()"
   ]
  },
  {
   "cell_type": "code",
   "execution_count": 84,
   "id": "4e102e04-5552-481a-bfa0-2caa47f3eeeb",
   "metadata": {},
   "outputs": [
    {
     "data": {
      "text/plain": [
       "(241, 10820)"
      ]
     },
     "execution_count": 84,
     "metadata": {},
     "output_type": "execute_result"
    }
   ],
   "source": [
    "len(user_id_to_num), len(item_id_to_num)"
   ]
  },
  {
   "cell_type": "code",
   "execution_count": 85,
   "id": "f4403d83-0155-4385-b345-d058ef7ce58f",
   "metadata": {},
   "outputs": [],
   "source": [
    "sample_data.to_csv('dataset/eComm-sample-data.csv', index=None)"
   ]
  },
  {
   "cell_type": "code",
   "execution_count": null,
   "id": "b22a51af-0728-4f76-83d5-7f86823439eb",
   "metadata": {},
   "outputs": [],
   "source": []
  }
 ],
 "metadata": {
  "kernelspec": {
   "display_name": "Python 3 (ipykernel)",
   "language": "python",
   "name": "python3"
  },
  "language_info": {
   "codemirror_mode": {
    "name": "ipython",
    "version": 3
   },
   "file_extension": ".py",
   "mimetype": "text/x-python",
   "name": "python",
   "nbconvert_exporter": "python",
   "pygments_lexer": "ipython3",
   "version": "3.10.4"
  }
 },
 "nbformat": 4,
 "nbformat_minor": 5
}
