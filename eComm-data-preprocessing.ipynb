{
 "cells": [
  {
   "cell_type": "code",
   "execution_count": 1,
   "id": "1230f3bc-e236-497e-a8d1-16d2dd3aed69",
   "metadata": {},
   "outputs": [],
   "source": [
    "import pandas as pd"
   ]
  },
  {
   "cell_type": "code",
   "execution_count": 2,
   "id": "a38304eb-23aa-4dab-a949-56bc6113850d",
   "metadata": {},
   "outputs": [],
   "source": [
    "DATA_PATH = '../data/eComm-behavior/eCommerce-behavior-data-2019-Oct.csv'"
   ]
  },
  {
   "cell_type": "code",
   "execution_count": 3,
   "id": "cf97597e-ce9d-4cc1-a1f5-a3e352d6f12a",
   "metadata": {},
   "outputs": [],
   "source": [
    "raw_data = pd.read_csv(DATA_PATH)"
   ]
  },
  {
   "cell_type": "code",
   "execution_count": 4,
   "id": "a5de9bc5-ccdb-4ff7-bb8e-53da85aea7a4",
   "metadata": {},
   "outputs": [
    {
     "data": {
      "text/html": [
       "<div>\n",
       "<style scoped>\n",
       "    .dataframe tbody tr th:only-of-type {\n",
       "        vertical-align: middle;\n",
       "    }\n",
       "\n",
       "    .dataframe tbody tr th {\n",
       "        vertical-align: top;\n",
       "    }\n",
       "\n",
       "    .dataframe thead th {\n",
       "        text-align: right;\n",
       "    }\n",
       "</style>\n",
       "<table border=\"1\" class=\"dataframe\">\n",
       "  <thead>\n",
       "    <tr style=\"text-align: right;\">\n",
       "      <th></th>\n",
       "      <th>event_time</th>\n",
       "      <th>event_type</th>\n",
       "      <th>product_id</th>\n",
       "      <th>category_id</th>\n",
       "      <th>category_code</th>\n",
       "      <th>brand</th>\n",
       "      <th>price</th>\n",
       "      <th>user_id</th>\n",
       "      <th>user_session</th>\n",
       "    </tr>\n",
       "  </thead>\n",
       "  <tbody>\n",
       "    <tr>\n",
       "      <th>0</th>\n",
       "      <td>2019-10-01 00:00:00 UTC</td>\n",
       "      <td>view</td>\n",
       "      <td>44600062</td>\n",
       "      <td>2103807459595387724</td>\n",
       "      <td>NaN</td>\n",
       "      <td>shiseido</td>\n",
       "      <td>35.79</td>\n",
       "      <td>541312140</td>\n",
       "      <td>72d76fde-8bb3-4e00-8c23-a032dfed738c</td>\n",
       "    </tr>\n",
       "    <tr>\n",
       "      <th>1</th>\n",
       "      <td>2019-10-01 00:00:00 UTC</td>\n",
       "      <td>view</td>\n",
       "      <td>3900821</td>\n",
       "      <td>2053013552326770905</td>\n",
       "      <td>appliances.environment.water_heater</td>\n",
       "      <td>aqua</td>\n",
       "      <td>33.20</td>\n",
       "      <td>554748717</td>\n",
       "      <td>9333dfbd-b87a-4708-9857-6336556b0fcc</td>\n",
       "    </tr>\n",
       "    <tr>\n",
       "      <th>2</th>\n",
       "      <td>2019-10-01 00:00:01 UTC</td>\n",
       "      <td>view</td>\n",
       "      <td>17200506</td>\n",
       "      <td>2053013559792632471</td>\n",
       "      <td>furniture.living_room.sofa</td>\n",
       "      <td>NaN</td>\n",
       "      <td>543.10</td>\n",
       "      <td>519107250</td>\n",
       "      <td>566511c2-e2e3-422b-b695-cf8e6e792ca8</td>\n",
       "    </tr>\n",
       "    <tr>\n",
       "      <th>3</th>\n",
       "      <td>2019-10-01 00:00:01 UTC</td>\n",
       "      <td>view</td>\n",
       "      <td>1307067</td>\n",
       "      <td>2053013558920217191</td>\n",
       "      <td>computers.notebook</td>\n",
       "      <td>lenovo</td>\n",
       "      <td>251.74</td>\n",
       "      <td>550050854</td>\n",
       "      <td>7c90fc70-0e80-4590-96f3-13c02c18c713</td>\n",
       "    </tr>\n",
       "    <tr>\n",
       "      <th>4</th>\n",
       "      <td>2019-10-01 00:00:04 UTC</td>\n",
       "      <td>view</td>\n",
       "      <td>1004237</td>\n",
       "      <td>2053013555631882655</td>\n",
       "      <td>electronics.smartphone</td>\n",
       "      <td>apple</td>\n",
       "      <td>1081.98</td>\n",
       "      <td>535871217</td>\n",
       "      <td>c6bd7419-2748-4c56-95b4-8cec9ff8b80d</td>\n",
       "    </tr>\n",
       "  </tbody>\n",
       "</table>\n",
       "</div>"
      ],
      "text/plain": [
       "                event_time event_type  product_id          category_id  \\\n",
       "0  2019-10-01 00:00:00 UTC       view    44600062  2103807459595387724   \n",
       "1  2019-10-01 00:00:00 UTC       view     3900821  2053013552326770905   \n",
       "2  2019-10-01 00:00:01 UTC       view    17200506  2053013559792632471   \n",
       "3  2019-10-01 00:00:01 UTC       view     1307067  2053013558920217191   \n",
       "4  2019-10-01 00:00:04 UTC       view     1004237  2053013555631882655   \n",
       "\n",
       "                         category_code     brand    price    user_id  \\\n",
       "0                                  NaN  shiseido    35.79  541312140   \n",
       "1  appliances.environment.water_heater      aqua    33.20  554748717   \n",
       "2           furniture.living_room.sofa       NaN   543.10  519107250   \n",
       "3                   computers.notebook    lenovo   251.74  550050854   \n",
       "4               electronics.smartphone     apple  1081.98  535871217   \n",
       "\n",
       "                           user_session  \n",
       "0  72d76fde-8bb3-4e00-8c23-a032dfed738c  \n",
       "1  9333dfbd-b87a-4708-9857-6336556b0fcc  \n",
       "2  566511c2-e2e3-422b-b695-cf8e6e792ca8  \n",
       "3  7c90fc70-0e80-4590-96f3-13c02c18c713  \n",
       "4  c6bd7419-2748-4c56-95b4-8cec9ff8b80d  "
      ]
     },
     "execution_count": 4,
     "metadata": {},
     "output_type": "execute_result"
    }
   ],
   "source": [
    "raw_data.head()"
   ]
  },
  {
   "cell_type": "code",
   "execution_count": 5,
   "id": "b6fddab2-1a73-4a1a-9380-d597fda5702d",
   "metadata": {},
   "outputs": [],
   "source": [
    "raw_data = raw_data.dropna()"
   ]
  },
  {
   "cell_type": "code",
   "execution_count": 6,
   "id": "43f16876-2d3b-4dc2-a245-14205311e92e",
   "metadata": {},
   "outputs": [],
   "source": [
    "interactions_count = raw_data.groupby(by=['user_id'])['product_id'].size().reset_index(name='total_interactions')"
   ]
  },
  {
   "cell_type": "code",
   "execution_count": 7,
   "id": "681022e3-ff7d-4c9f-ac10-6d168f398b75",
   "metadata": {},
   "outputs": [
    {
     "data": {
      "text/html": [
       "<div>\n",
       "<style scoped>\n",
       "    .dataframe tbody tr th:only-of-type {\n",
       "        vertical-align: middle;\n",
       "    }\n",
       "\n",
       "    .dataframe tbody tr th {\n",
       "        vertical-align: top;\n",
       "    }\n",
       "\n",
       "    .dataframe thead th {\n",
       "        text-align: right;\n",
       "    }\n",
       "</style>\n",
       "<table border=\"1\" class=\"dataframe\">\n",
       "  <thead>\n",
       "    <tr style=\"text-align: right;\">\n",
       "      <th></th>\n",
       "      <th>user_id</th>\n",
       "      <th>total_interactions</th>\n",
       "    </tr>\n",
       "  </thead>\n",
       "  <tbody>\n",
       "    <tr>\n",
       "      <th>0</th>\n",
       "      <td>33869381</td>\n",
       "      <td>1</td>\n",
       "    </tr>\n",
       "    <tr>\n",
       "      <th>1</th>\n",
       "      <td>184265397</td>\n",
       "      <td>4</td>\n",
       "    </tr>\n",
       "    <tr>\n",
       "      <th>2</th>\n",
       "      <td>195082191</td>\n",
       "      <td>1</td>\n",
       "    </tr>\n",
       "    <tr>\n",
       "      <th>3</th>\n",
       "      <td>200673532</td>\n",
       "      <td>4</td>\n",
       "    </tr>\n",
       "    <tr>\n",
       "      <th>4</th>\n",
       "      <td>208669541</td>\n",
       "      <td>1</td>\n",
       "    </tr>\n",
       "  </tbody>\n",
       "</table>\n",
       "</div>"
      ],
      "text/plain": [
       "     user_id  total_interactions\n",
       "0   33869381                   1\n",
       "1  184265397                   4\n",
       "2  195082191                   1\n",
       "3  200673532                   4\n",
       "4  208669541                   1"
      ]
     },
     "execution_count": 7,
     "metadata": {},
     "output_type": "execute_result"
    }
   ],
   "source": [
    "interactions_count.head()"
   ]
  },
  {
   "cell_type": "code",
   "execution_count": 22,
   "id": "a787e39a-5dd3-40cf-b019-13934649e2fb",
   "metadata": {},
   "outputs": [],
   "source": [
    "sample_users = interactions_count[(interactions_count.total_interactions>200) & (interactions_count.total_interactions<600)].user_id.unique()"
   ]
  },
  {
   "cell_type": "code",
   "execution_count": 23,
   "id": "7caf5d7a-6de6-47f0-990a-cd20a74a7df8",
   "metadata": {},
   "outputs": [
    {
     "data": {
      "text/plain": [
       "5309"
      ]
     },
     "execution_count": 23,
     "metadata": {},
     "output_type": "execute_result"
    }
   ],
   "source": [
    "len(sample_users)"
   ]
  },
  {
   "cell_type": "code",
   "execution_count": 24,
   "id": "59388cd4-3a2f-4ea9-b90b-830aefe05eb9",
   "metadata": {},
   "outputs": [],
   "source": [
    "sample_data = raw_data[raw_data.user_id.isin(sample_users)]"
   ]
  },
  {
   "cell_type": "code",
   "execution_count": 25,
   "id": "e8e9c0e6-4239-48dc-b570-7a58cb358efc",
   "metadata": {},
   "outputs": [
    {
     "data": {
      "text/plain": [
       "(1513751, 9)"
      ]
     },
     "execution_count": 25,
     "metadata": {},
     "output_type": "execute_result"
    }
   ],
   "source": [
    "sample_data.shape"
   ]
  },
  {
   "cell_type": "code",
   "execution_count": 26,
   "id": "404cf139-4927-453e-b24d-bc67604c58a7",
   "metadata": {},
   "outputs": [
    {
     "data": {
      "text/plain": [
       "view        1450461\n",
       "cart          34571\n",
       "purchase      28719\n",
       "Name: event_type, dtype: int64"
      ]
     },
     "execution_count": 26,
     "metadata": {},
     "output_type": "execute_result"
    }
   ],
   "source": [
    "sample_data.event_type.value_counts()"
   ]
  },
  {
   "cell_type": "code",
   "execution_count": 31,
   "id": "489df159-e083-4fc9-ae62-65a262c309b5",
   "metadata": {},
   "outputs": [
    {
     "data": {
      "text/plain": [
       "(63290, 9)"
      ]
     },
     "execution_count": 31,
     "metadata": {},
     "output_type": "execute_result"
    }
   ],
   "source": [
    "df1 = sample_data[sample_data.event_type.isin(['cart', 'purchase'])]\n",
    "df1.shape"
   ]
  },
  {
   "cell_type": "code",
   "execution_count": 33,
   "id": "a6db0c1d-f640-48bd-a14d-294c38ceeeb7",
   "metadata": {},
   "outputs": [
    {
     "data": {
      "text/plain": [
       "(63290, 9)"
      ]
     },
     "execution_count": 33,
     "metadata": {},
     "output_type": "execute_result"
    }
   ],
   "source": [
    "df2 = sample_data[sample_data.event_type.isin(['view'])].sample(df1.shape[0], random_state=1)\n",
    "df2.shape"
   ]
  },
  {
   "cell_type": "code",
   "execution_count": 39,
   "id": "b206b5a3-acb9-4142-8db6-5f28d3a7f932",
   "metadata": {},
   "outputs": [
    {
     "data": {
      "text/plain": [
       "(126580, 9)"
      ]
     },
     "execution_count": 39,
     "metadata": {},
     "output_type": "execute_result"
    }
   ],
   "source": [
    "sample_data = pd.concat([df1, df2])\n",
    "sample_data.reset_index(drop=True, inplace=True)\n",
    "sample_data.shape"
   ]
  },
  {
   "cell_type": "code",
   "execution_count": 40,
   "id": "05f895c9-135a-42b8-a018-25aebbfcfaeb",
   "metadata": {},
   "outputs": [
    {
     "data": {
      "text/html": [
       "<div>\n",
       "<style scoped>\n",
       "    .dataframe tbody tr th:only-of-type {\n",
       "        vertical-align: middle;\n",
       "    }\n",
       "\n",
       "    .dataframe tbody tr th {\n",
       "        vertical-align: top;\n",
       "    }\n",
       "\n",
       "    .dataframe thead th {\n",
       "        text-align: right;\n",
       "    }\n",
       "</style>\n",
       "<table border=\"1\" class=\"dataframe\">\n",
       "  <thead>\n",
       "    <tr style=\"text-align: right;\">\n",
       "      <th></th>\n",
       "      <th>event_time</th>\n",
       "      <th>event_type</th>\n",
       "      <th>product_id</th>\n",
       "      <th>category_id</th>\n",
       "      <th>category_code</th>\n",
       "      <th>brand</th>\n",
       "      <th>price</th>\n",
       "      <th>user_id</th>\n",
       "      <th>user_session</th>\n",
       "    </tr>\n",
       "  </thead>\n",
       "  <tbody>\n",
       "    <tr>\n",
       "      <th>0</th>\n",
       "      <td>2019-10-01 00:02:14 UTC</td>\n",
       "      <td>purchase</td>\n",
       "      <td>1004856</td>\n",
       "      <td>2053013555631882655</td>\n",
       "      <td>electronics.smartphone</td>\n",
       "      <td>samsung</td>\n",
       "      <td>130.76</td>\n",
       "      <td>543272936</td>\n",
       "      <td>8187d148-3c41-46d4-b0c0-9c08cd9dc564</td>\n",
       "    </tr>\n",
       "    <tr>\n",
       "      <th>1</th>\n",
       "      <td>2019-10-01 02:21:51 UTC</td>\n",
       "      <td>cart</td>\n",
       "      <td>1005135</td>\n",
       "      <td>2053013555631882655</td>\n",
       "      <td>electronics.smartphone</td>\n",
       "      <td>apple</td>\n",
       "      <td>1747.79</td>\n",
       "      <td>515384420</td>\n",
       "      <td>7f82b450-6c45-4346-96fb-ecf4ab25779c</td>\n",
       "    </tr>\n",
       "    <tr>\n",
       "      <th>2</th>\n",
       "      <td>2019-10-01 02:22:00 UTC</td>\n",
       "      <td>cart</td>\n",
       "      <td>1005135</td>\n",
       "      <td>2053013555631882655</td>\n",
       "      <td>electronics.smartphone</td>\n",
       "      <td>apple</td>\n",
       "      <td>1747.79</td>\n",
       "      <td>515384420</td>\n",
       "      <td>7f82b450-6c45-4346-96fb-ecf4ab25779c</td>\n",
       "    </tr>\n",
       "    <tr>\n",
       "      <th>3</th>\n",
       "      <td>2019-10-01 02:22:08 UTC</td>\n",
       "      <td>cart</td>\n",
       "      <td>1005135</td>\n",
       "      <td>2053013555631882655</td>\n",
       "      <td>electronics.smartphone</td>\n",
       "      <td>apple</td>\n",
       "      <td>1747.79</td>\n",
       "      <td>515384420</td>\n",
       "      <td>7f82b450-6c45-4346-96fb-ecf4ab25779c</td>\n",
       "    </tr>\n",
       "    <tr>\n",
       "      <th>4</th>\n",
       "      <td>2019-10-01 02:22:18 UTC</td>\n",
       "      <td>cart</td>\n",
       "      <td>1005135</td>\n",
       "      <td>2053013555631882655</td>\n",
       "      <td>electronics.smartphone</td>\n",
       "      <td>apple</td>\n",
       "      <td>1747.79</td>\n",
       "      <td>515384420</td>\n",
       "      <td>7f82b450-6c45-4346-96fb-ecf4ab25779c</td>\n",
       "    </tr>\n",
       "  </tbody>\n",
       "</table>\n",
       "</div>"
      ],
      "text/plain": [
       "                event_time event_type  product_id          category_id  \\\n",
       "0  2019-10-01 00:02:14 UTC   purchase     1004856  2053013555631882655   \n",
       "1  2019-10-01 02:21:51 UTC       cart     1005135  2053013555631882655   \n",
       "2  2019-10-01 02:22:00 UTC       cart     1005135  2053013555631882655   \n",
       "3  2019-10-01 02:22:08 UTC       cart     1005135  2053013555631882655   \n",
       "4  2019-10-01 02:22:18 UTC       cart     1005135  2053013555631882655   \n",
       "\n",
       "            category_code    brand    price    user_id  \\\n",
       "0  electronics.smartphone  samsung   130.76  543272936   \n",
       "1  electronics.smartphone    apple  1747.79  515384420   \n",
       "2  electronics.smartphone    apple  1747.79  515384420   \n",
       "3  electronics.smartphone    apple  1747.79  515384420   \n",
       "4  electronics.smartphone    apple  1747.79  515384420   \n",
       "\n",
       "                           user_session  \n",
       "0  8187d148-3c41-46d4-b0c0-9c08cd9dc564  \n",
       "1  7f82b450-6c45-4346-96fb-ecf4ab25779c  \n",
       "2  7f82b450-6c45-4346-96fb-ecf4ab25779c  \n",
       "3  7f82b450-6c45-4346-96fb-ecf4ab25779c  \n",
       "4  7f82b450-6c45-4346-96fb-ecf4ab25779c  "
      ]
     },
     "execution_count": 40,
     "metadata": {},
     "output_type": "execute_result"
    }
   ],
   "source": [
    "sample_data.head()"
   ]
  },
  {
   "cell_type": "code",
   "execution_count": 41,
   "id": "cf8bc8fb-3b6b-41f2-8289-72f5e698b6f8",
   "metadata": {},
   "outputs": [],
   "source": [
    "sample_data[['cat_1', 'cat_2']] = sample_data['category_code'].str.split('.', 1, expand=True)"
   ]
  },
  {
   "cell_type": "code",
   "execution_count": 42,
   "id": "778e88f4-2737-4f00-a576-72f18243f104",
   "metadata": {},
   "outputs": [],
   "source": [
    "sample_data['cat_2'] = sample_data['cat_2'].str.split('.').str[0]"
   ]
  },
  {
   "cell_type": "code",
   "execution_count": 43,
   "id": "4660b920-4169-441a-85be-5b7b74c40d98",
   "metadata": {},
   "outputs": [
    {
     "data": {
      "text/html": [
       "<div>\n",
       "<style scoped>\n",
       "    .dataframe tbody tr th:only-of-type {\n",
       "        vertical-align: middle;\n",
       "    }\n",
       "\n",
       "    .dataframe tbody tr th {\n",
       "        vertical-align: top;\n",
       "    }\n",
       "\n",
       "    .dataframe thead th {\n",
       "        text-align: right;\n",
       "    }\n",
       "</style>\n",
       "<table border=\"1\" class=\"dataframe\">\n",
       "  <thead>\n",
       "    <tr style=\"text-align: right;\">\n",
       "      <th></th>\n",
       "      <th>event_time</th>\n",
       "      <th>event_type</th>\n",
       "      <th>product_id</th>\n",
       "      <th>category_id</th>\n",
       "      <th>category_code</th>\n",
       "      <th>brand</th>\n",
       "      <th>price</th>\n",
       "      <th>user_id</th>\n",
       "      <th>user_session</th>\n",
       "      <th>cat_1</th>\n",
       "      <th>cat_2</th>\n",
       "    </tr>\n",
       "  </thead>\n",
       "  <tbody>\n",
       "    <tr>\n",
       "      <th>0</th>\n",
       "      <td>2019-10-01 00:02:14 UTC</td>\n",
       "      <td>purchase</td>\n",
       "      <td>1004856</td>\n",
       "      <td>2053013555631882655</td>\n",
       "      <td>electronics.smartphone</td>\n",
       "      <td>samsung</td>\n",
       "      <td>130.76</td>\n",
       "      <td>543272936</td>\n",
       "      <td>8187d148-3c41-46d4-b0c0-9c08cd9dc564</td>\n",
       "      <td>electronics</td>\n",
       "      <td>smartphone</td>\n",
       "    </tr>\n",
       "    <tr>\n",
       "      <th>1</th>\n",
       "      <td>2019-10-01 02:21:51 UTC</td>\n",
       "      <td>cart</td>\n",
       "      <td>1005135</td>\n",
       "      <td>2053013555631882655</td>\n",
       "      <td>electronics.smartphone</td>\n",
       "      <td>apple</td>\n",
       "      <td>1747.79</td>\n",
       "      <td>515384420</td>\n",
       "      <td>7f82b450-6c45-4346-96fb-ecf4ab25779c</td>\n",
       "      <td>electronics</td>\n",
       "      <td>smartphone</td>\n",
       "    </tr>\n",
       "    <tr>\n",
       "      <th>2</th>\n",
       "      <td>2019-10-01 02:22:00 UTC</td>\n",
       "      <td>cart</td>\n",
       "      <td>1005135</td>\n",
       "      <td>2053013555631882655</td>\n",
       "      <td>electronics.smartphone</td>\n",
       "      <td>apple</td>\n",
       "      <td>1747.79</td>\n",
       "      <td>515384420</td>\n",
       "      <td>7f82b450-6c45-4346-96fb-ecf4ab25779c</td>\n",
       "      <td>electronics</td>\n",
       "      <td>smartphone</td>\n",
       "    </tr>\n",
       "    <tr>\n",
       "      <th>3</th>\n",
       "      <td>2019-10-01 02:22:08 UTC</td>\n",
       "      <td>cart</td>\n",
       "      <td>1005135</td>\n",
       "      <td>2053013555631882655</td>\n",
       "      <td>electronics.smartphone</td>\n",
       "      <td>apple</td>\n",
       "      <td>1747.79</td>\n",
       "      <td>515384420</td>\n",
       "      <td>7f82b450-6c45-4346-96fb-ecf4ab25779c</td>\n",
       "      <td>electronics</td>\n",
       "      <td>smartphone</td>\n",
       "    </tr>\n",
       "    <tr>\n",
       "      <th>4</th>\n",
       "      <td>2019-10-01 02:22:18 UTC</td>\n",
       "      <td>cart</td>\n",
       "      <td>1005135</td>\n",
       "      <td>2053013555631882655</td>\n",
       "      <td>electronics.smartphone</td>\n",
       "      <td>apple</td>\n",
       "      <td>1747.79</td>\n",
       "      <td>515384420</td>\n",
       "      <td>7f82b450-6c45-4346-96fb-ecf4ab25779c</td>\n",
       "      <td>electronics</td>\n",
       "      <td>smartphone</td>\n",
       "    </tr>\n",
       "  </tbody>\n",
       "</table>\n",
       "</div>"
      ],
      "text/plain": [
       "                event_time event_type  product_id          category_id  \\\n",
       "0  2019-10-01 00:02:14 UTC   purchase     1004856  2053013555631882655   \n",
       "1  2019-10-01 02:21:51 UTC       cart     1005135  2053013555631882655   \n",
       "2  2019-10-01 02:22:00 UTC       cart     1005135  2053013555631882655   \n",
       "3  2019-10-01 02:22:08 UTC       cart     1005135  2053013555631882655   \n",
       "4  2019-10-01 02:22:18 UTC       cart     1005135  2053013555631882655   \n",
       "\n",
       "            category_code    brand    price    user_id  \\\n",
       "0  electronics.smartphone  samsung   130.76  543272936   \n",
       "1  electronics.smartphone    apple  1747.79  515384420   \n",
       "2  electronics.smartphone    apple  1747.79  515384420   \n",
       "3  electronics.smartphone    apple  1747.79  515384420   \n",
       "4  electronics.smartphone    apple  1747.79  515384420   \n",
       "\n",
       "                           user_session        cat_1       cat_2  \n",
       "0  8187d148-3c41-46d4-b0c0-9c08cd9dc564  electronics  smartphone  \n",
       "1  7f82b450-6c45-4346-96fb-ecf4ab25779c  electronics  smartphone  \n",
       "2  7f82b450-6c45-4346-96fb-ecf4ab25779c  electronics  smartphone  \n",
       "3  7f82b450-6c45-4346-96fb-ecf4ab25779c  electronics  smartphone  \n",
       "4  7f82b450-6c45-4346-96fb-ecf4ab25779c  electronics  smartphone  "
      ]
     },
     "execution_count": 43,
     "metadata": {},
     "output_type": "execute_result"
    }
   ],
   "source": [
    "sample_data.head()"
   ]
  },
  {
   "cell_type": "code",
   "execution_count": 44,
   "id": "f05362bf-ac71-492d-8481-c98735f9a18b",
   "metadata": {},
   "outputs": [],
   "source": [
    "sample_data['event_time'] = sample_data['event_time'].apply(lambda x : pd.to_datetime(x).value)"
   ]
  },
  {
   "cell_type": "code",
   "execution_count": 45,
   "id": "14760f6a-5aef-4b67-8ded-c25245768cff",
   "metadata": {},
   "outputs": [
    {
     "data": {
      "text/html": [
       "<div>\n",
       "<style scoped>\n",
       "    .dataframe tbody tr th:only-of-type {\n",
       "        vertical-align: middle;\n",
       "    }\n",
       "\n",
       "    .dataframe tbody tr th {\n",
       "        vertical-align: top;\n",
       "    }\n",
       "\n",
       "    .dataframe thead th {\n",
       "        text-align: right;\n",
       "    }\n",
       "</style>\n",
       "<table border=\"1\" class=\"dataframe\">\n",
       "  <thead>\n",
       "    <tr style=\"text-align: right;\">\n",
       "      <th></th>\n",
       "      <th>event_time</th>\n",
       "      <th>event_type</th>\n",
       "      <th>product_id</th>\n",
       "      <th>category_id</th>\n",
       "      <th>category_code</th>\n",
       "      <th>brand</th>\n",
       "      <th>price</th>\n",
       "      <th>user_id</th>\n",
       "      <th>user_session</th>\n",
       "      <th>cat_1</th>\n",
       "      <th>cat_2</th>\n",
       "    </tr>\n",
       "  </thead>\n",
       "  <tbody>\n",
       "    <tr>\n",
       "      <th>0</th>\n",
       "      <td>1569888134000000000</td>\n",
       "      <td>purchase</td>\n",
       "      <td>1004856</td>\n",
       "      <td>2053013555631882655</td>\n",
       "      <td>electronics.smartphone</td>\n",
       "      <td>samsung</td>\n",
       "      <td>130.76</td>\n",
       "      <td>543272936</td>\n",
       "      <td>8187d148-3c41-46d4-b0c0-9c08cd9dc564</td>\n",
       "      <td>electronics</td>\n",
       "      <td>smartphone</td>\n",
       "    </tr>\n",
       "    <tr>\n",
       "      <th>1</th>\n",
       "      <td>1569896511000000000</td>\n",
       "      <td>cart</td>\n",
       "      <td>1005135</td>\n",
       "      <td>2053013555631882655</td>\n",
       "      <td>electronics.smartphone</td>\n",
       "      <td>apple</td>\n",
       "      <td>1747.79</td>\n",
       "      <td>515384420</td>\n",
       "      <td>7f82b450-6c45-4346-96fb-ecf4ab25779c</td>\n",
       "      <td>electronics</td>\n",
       "      <td>smartphone</td>\n",
       "    </tr>\n",
       "  </tbody>\n",
       "</table>\n",
       "</div>"
      ],
      "text/plain": [
       "            event_time event_type  product_id          category_id  \\\n",
       "0  1569888134000000000   purchase     1004856  2053013555631882655   \n",
       "1  1569896511000000000       cart     1005135  2053013555631882655   \n",
       "\n",
       "            category_code    brand    price    user_id  \\\n",
       "0  electronics.smartphone  samsung   130.76  543272936   \n",
       "1  electronics.smartphone    apple  1747.79  515384420   \n",
       "\n",
       "                           user_session        cat_1       cat_2  \n",
       "0  8187d148-3c41-46d4-b0c0-9c08cd9dc564  electronics  smartphone  \n",
       "1  7f82b450-6c45-4346-96fb-ecf4ab25779c  electronics  smartphone  "
      ]
     },
     "execution_count": 45,
     "metadata": {},
     "output_type": "execute_result"
    }
   ],
   "source": [
    "sample_data.head(2)"
   ]
  },
  {
   "cell_type": "code",
   "execution_count": 46,
   "id": "873a0452-06dc-4996-9682-825d8d5bda3c",
   "metadata": {},
   "outputs": [],
   "source": [
    "sample_data['user_id'] = sample_data['user_id'].astype('category')\n",
    "sample_data['user_id_num'] = sample_data['user_id'].cat.codes\n",
    "user_id_to_num = dict(zip(sample_data['user_id'], sample_data['user_id_num']))"
   ]
  },
  {
   "cell_type": "code",
   "execution_count": 47,
   "id": "a0bd7559-3ff0-46c8-95ce-0153dbf8f4b6",
   "metadata": {},
   "outputs": [],
   "source": [
    "sample_data['product_id'] = sample_data['product_id'].astype('category')\n",
    "sample_data['product_id_num'] = sample_data['product_id'].cat.codes\n",
    "item_id_to_num = dict(zip(sample_data['product_id'], sample_data['product_id_num']))"
   ]
  },
  {
   "cell_type": "code",
   "execution_count": 48,
   "id": "d4f69911-5b07-433d-a07e-5e84fe3de651",
   "metadata": {},
   "outputs": [
    {
     "data": {
      "text/html": [
       "<div>\n",
       "<style scoped>\n",
       "    .dataframe tbody tr th:only-of-type {\n",
       "        vertical-align: middle;\n",
       "    }\n",
       "\n",
       "    .dataframe tbody tr th {\n",
       "        vertical-align: top;\n",
       "    }\n",
       "\n",
       "    .dataframe thead th {\n",
       "        text-align: right;\n",
       "    }\n",
       "</style>\n",
       "<table border=\"1\" class=\"dataframe\">\n",
       "  <thead>\n",
       "    <tr style=\"text-align: right;\">\n",
       "      <th></th>\n",
       "      <th>event_time</th>\n",
       "      <th>event_type</th>\n",
       "      <th>product_id</th>\n",
       "      <th>category_id</th>\n",
       "      <th>category_code</th>\n",
       "      <th>brand</th>\n",
       "      <th>price</th>\n",
       "      <th>user_id</th>\n",
       "      <th>user_session</th>\n",
       "      <th>cat_1</th>\n",
       "      <th>cat_2</th>\n",
       "      <th>user_id_num</th>\n",
       "      <th>product_id_num</th>\n",
       "    </tr>\n",
       "  </thead>\n",
       "  <tbody>\n",
       "    <tr>\n",
       "      <th>0</th>\n",
       "      <td>1569888134000000000</td>\n",
       "      <td>purchase</td>\n",
       "      <td>1004856</td>\n",
       "      <td>2053013555631882655</td>\n",
       "      <td>electronics.smartphone</td>\n",
       "      <td>samsung</td>\n",
       "      <td>130.76</td>\n",
       "      <td>543272936</td>\n",
       "      <td>8187d148-3c41-46d4-b0c0-9c08cd9dc564</td>\n",
       "      <td>electronics</td>\n",
       "      <td>smartphone</td>\n",
       "      <td>3796</td>\n",
       "      <td>613</td>\n",
       "    </tr>\n",
       "    <tr>\n",
       "      <th>1</th>\n",
       "      <td>1569896511000000000</td>\n",
       "      <td>cart</td>\n",
       "      <td>1005135</td>\n",
       "      <td>2053013555631882655</td>\n",
       "      <td>electronics.smartphone</td>\n",
       "      <td>apple</td>\n",
       "      <td>1747.79</td>\n",
       "      <td>515384420</td>\n",
       "      <td>7f82b450-6c45-4346-96fb-ecf4ab25779c</td>\n",
       "      <td>electronics</td>\n",
       "      <td>smartphone</td>\n",
       "      <td>1811</td>\n",
       "      <td>817</td>\n",
       "    </tr>\n",
       "  </tbody>\n",
       "</table>\n",
       "</div>"
      ],
      "text/plain": [
       "            event_time event_type product_id          category_id  \\\n",
       "0  1569888134000000000   purchase    1004856  2053013555631882655   \n",
       "1  1569896511000000000       cart    1005135  2053013555631882655   \n",
       "\n",
       "            category_code    brand    price    user_id  \\\n",
       "0  electronics.smartphone  samsung   130.76  543272936   \n",
       "1  electronics.smartphone    apple  1747.79  515384420   \n",
       "\n",
       "                           user_session        cat_1       cat_2  user_id_num  \\\n",
       "0  8187d148-3c41-46d4-b0c0-9c08cd9dc564  electronics  smartphone         3796   \n",
       "1  7f82b450-6c45-4346-96fb-ecf4ab25779c  electronics  smartphone         1811   \n",
       "\n",
       "   product_id_num  \n",
       "0             613  \n",
       "1             817  "
      ]
     },
     "execution_count": 48,
     "metadata": {},
     "output_type": "execute_result"
    }
   ],
   "source": [
    "sample_data.head(2)"
   ]
  },
  {
   "cell_type": "code",
   "execution_count": 49,
   "id": "c557cf07-5248-4024-977a-13a911e44b12",
   "metadata": {},
   "outputs": [
    {
     "data": {
      "text/plain": [
       "(126580, 13)"
      ]
     },
     "execution_count": 49,
     "metadata": {},
     "output_type": "execute_result"
    }
   ],
   "source": [
    "sample_data.shape"
   ]
  },
  {
   "cell_type": "code",
   "execution_count": 50,
   "id": "9b879319-50a0-4ba1-afbe-1feb8e0e108b",
   "metadata": {},
   "outputs": [],
   "source": [
    "sample_data.drop_duplicates(subset=['event_time', 'user_id', 'product_id'], inplace=True)"
   ]
  },
  {
   "cell_type": "code",
   "execution_count": 51,
   "id": "7ab2a91b-f7f5-4450-8257-dab84791a421",
   "metadata": {},
   "outputs": [
    {
     "data": {
      "text/plain": [
       "(125534, 13)"
      ]
     },
     "execution_count": 51,
     "metadata": {},
     "output_type": "execute_result"
    }
   ],
   "source": [
    "sample_data.shape"
   ]
  },
  {
   "cell_type": "code",
   "execution_count": 52,
   "id": "8556cfb1-b01f-4148-8225-197b3f12b4b1",
   "metadata": {},
   "outputs": [
    {
     "name": "stdout",
     "output_type": "stream",
     "text": [
      "<class 'pandas.core.frame.DataFrame'>\n",
      "Int64Index: 125534 entries, 0 to 126579\n",
      "Data columns (total 13 columns):\n",
      " #   Column          Non-Null Count   Dtype   \n",
      "---  ------          --------------   -----   \n",
      " 0   event_time      125534 non-null  int64   \n",
      " 1   event_type      125534 non-null  object  \n",
      " 2   product_id      125534 non-null  category\n",
      " 3   category_id     125534 non-null  int64   \n",
      " 4   category_code   125534 non-null  object  \n",
      " 5   brand           125534 non-null  object  \n",
      " 6   price           125534 non-null  float64 \n",
      " 7   user_id         125534 non-null  category\n",
      " 8   user_session    125534 non-null  object  \n",
      " 9   cat_1           125534 non-null  object  \n",
      " 10  cat_2           125534 non-null  object  \n",
      " 11  user_id_num     125534 non-null  int16   \n",
      " 12  product_id_num  125534 non-null  int16   \n",
      "dtypes: category(2), float64(1), int16(2), int64(2), object(6)\n",
      "memory usage: 11.3+ MB\n"
     ]
    }
   ],
   "source": [
    "sample_data.info()"
   ]
  },
  {
   "cell_type": "code",
   "execution_count": 53,
   "id": "4e102e04-5552-481a-bfa0-2caa47f3eeeb",
   "metadata": {},
   "outputs": [
    {
     "data": {
      "text/plain": [
       "(5309, 15184)"
      ]
     },
     "execution_count": 53,
     "metadata": {},
     "output_type": "execute_result"
    }
   ],
   "source": [
    "len(user_id_to_num), len(item_id_to_num)"
   ]
  },
  {
   "cell_type": "code",
   "execution_count": 54,
   "id": "f4403d83-0155-4385-b345-d058ef7ce58f",
   "metadata": {},
   "outputs": [],
   "source": [
    "sample_data.to_csv('dataset/eComm-sample-data2.csv', index=None)"
   ]
  },
  {
   "cell_type": "code",
   "execution_count": null,
   "id": "b22a51af-0728-4f76-83d5-7f86823439eb",
   "metadata": {},
   "outputs": [],
   "source": []
  }
 ],
 "metadata": {
  "kernelspec": {
   "display_name": "Python 3 (ipykernel)",
   "language": "python",
   "name": "python3"
  },
  "language_info": {
   "codemirror_mode": {
    "name": "ipython",
    "version": 3
   },
   "file_extension": ".py",
   "mimetype": "text/x-python",
   "name": "python",
   "nbconvert_exporter": "python",
   "pygments_lexer": "ipython3",
   "version": "3.10.4"
  }
 },
 "nbformat": 4,
 "nbformat_minor": 5
}
